{
 "cells": [
  {
   "cell_type": "markdown",
   "metadata": {},
   "source": [
    "# Create a LangChain RAG system in Python with watsonx and Llama 3"
   ]
  },
  {
   "cell_type": "markdown",
   "metadata": {},
   "source": [
    "In this tutorial, we’ll use LangChain and Llama 3 to walk through a step-by-step Retrieval Augmented Generation ([RAG](https://research.ibm.com/blog/retrieval-augmented-generation-RAG)) example in Python. \n",
    "\n",
    "For our use case, we’ll set up a local RAG system for 18 IBM products. We will fetch content from several ibm.com websites, making up a knowledge base from which we will provide context to Meta's Llama 3 LLM to answer some questions about these IBM products. Meta AI just released their latest Llama 3 model and we'll test it out in this tutorial.\n",
    "\n",
    "RAG is a technique in natural language processing (NLP) that combines information retrieval and generative models to produce more accurate, relevant and contextually aware responses. \n",
    "\n",
    "# More about RAG and LangChain\n",
    "\n",
    "In traditional language generation tasks, [large language models](https://www.ibm.com/topics/large-language-models) (LLMs) like OpenAI’s GPT (Generative Pre-trained Transformer) or [IBM’s Granite Models](https://www.ibm.com/products/watsonx-ai/foundation-models) are used to construct responses based on an input prompt. However, these models may struggle to produce responses that are contextually relevant, factually accurate or up to date. The models may not know the latest information about IBM products. \n",
    "\n",
    "RAG applications address this limitation by incorporating a retrieval step before response generation. During retrieval, [vector search](https://www.ibm.com/topics/vector-search) can be used to identify contextually pertinent information, such as relevant information or documents from a large corpus of text, typically stored in a [vector database](https://www.ibm.com/topics/vector-database). Finally, an LLM is used to generate a response based on the retrieved context. RAG is an affordable and simple alternative to [fine-tuning](https://www.ibm.com/topics/fine-tuning) a model for text-generation artificial intelligence tasks.\n",
    "\n",
    "\n",
    "LangChain is a powerful, open-source framework that facilitates the development of applications using LLMs for various NLP tasks. In the context of RAG, LangChain plays a critical role by combining the strengths of retrieval-based methods and generative models to enhance the capabilities of NLP systems."
   ]
  },
  {
   "cell_type": "markdown",
   "metadata": {},
   "source": [
    "# Prerequisites\n",
    "\n",
    "You need an [IBM Cloud account](https://cloud.ibm.com/registration?utm_source=ibm_developer&utm_content=in_content_link&utm_id=tutorials_awb-implement-xgboost-in-python&cm_sp=ibmdev-_-developer-_-trial) to create a [watsonx.ai](https://www.ibm.com/products/watsonx-ai?utm_source=ibm_developer&utm_content=in_content_link&utm_id=tutorials_awb-implement-xgboost-in-python&cm_sp=ibmdev-_-developer-_-product) project."
   ]
  },
  {
   "cell_type": "markdown",
   "metadata": {},
   "source": [
    "# Steps\n",
    "\n",
    "## Step 1. Set up your environment\n",
    "\n",
    "While you can choose from several tools, this tutorial walks you through how to set up an IBM account to use a Jupyter Notebook. Jupyter Notebooks are widely used within [data science](https://www.ibm.com/topics/data-science) to combine code, text, images, and [data visualizations](https://www.ibm.com/topics/data-visualization) to develop a well-formed analysis.\n",
    "\n",
    "1. Log in to [watsonx.ai](https://dataplatform.cloud.ibm.com/registration/stepone) using your IBM Cloud account.\n",
    "\n",
    "2. Create a [watsonx.ai project](https://www.ibm.com/docs/en/watsonx/saas?topic=projects-creating-project#create-a-project).\n",
    "   Take note of the project ID in project > Manage > General > Project ID. You'll need this ID for this tutorial.\n",
    "\n",
    "3. Create a [Jupyter Notebook](https://www.ibm.com/docs/en/watsonx/saas?topic=editor-creating-managing-notebooks).\n",
    "\n",
    "This step will open a Notebook environment where you can copy the code from this tutorial to implement a RAG application for 18 IBM products. Alternatively, you can download this notebook to your local system and upload it to your watsonx.ai project as an asset. This Jupyter Notebook is available on [GitHub](https://github.com/Erika-Russi/think/blob/main/tutorials/langchain/langchain-rag-llama3.ipynb).\n",
    "\n",
    "## Step 2. Set up a Watson Machine Learning (WML) Service Instance and API Key\n",
    "\n",
    "1. Create a [Watson Machine Learning (WML) Service](https://cloud.ibm.com/catalog/services/watson-machine-learning) instance (choose the Lite plan, which is a free instance).\n",
    "\n",
    "2. Generate an [API Key in WML](https://dataplatform.cloud.ibm.com/docs/content/wsj/analyze-data/ml-authentication.html). Save this API key for use in this tutorial.\n",
    "\n",
    "3. Associate the WML service to the project you created in [watsonx.ai](https://dataplatform.cloud.ibm.com/docs/content/wsj/getting-started/assoc-services.html).\n",
    "\n",
    "## Step 3. Install and import relevant libraries and set up credentials\n",
    "\n",
    "We'll need a few libraries for this tutorial. Make sure to import the ones below, and if they're not installed, you can resolve this with a quick pip install."
   ]
  },
  {
   "cell_type": "code",
   "execution_count": 1,
   "metadata": {},
   "outputs": [
    {
     "name": "stdout",
     "output_type": "stream",
     "text": [
      "Requirement already satisfied: langchain in /Users/erikarussi/.pyenv/versions/3.10.13/lib/python3.10/site-packages (0.1.16)\n",
      "Requirement already satisfied: async-timeout<5.0.0,>=4.0.0 in /Users/erikarussi/.pyenv/versions/3.10.13/lib/python3.10/site-packages (from langchain) (4.0.3)\n",
      "Requirement already satisfied: numpy<2,>=1 in /Users/erikarussi/.pyenv/versions/3.10.13/lib/python3.10/site-packages (from langchain) (1.26.4)\n",
      "Requirement already satisfied: tenacity<9.0.0,>=8.1.0 in /Users/erikarussi/.pyenv/versions/3.10.13/lib/python3.10/site-packages (from langchain) (8.2.3)\n",
      "Requirement already satisfied: jsonpatch<2.0,>=1.33 in /Users/erikarussi/.pyenv/versions/3.10.13/lib/python3.10/site-packages (from langchain) (1.33)\n",
      "Requirement already satisfied: langsmith<0.2.0,>=0.1.17 in /Users/erikarussi/.pyenv/versions/3.10.13/lib/python3.10/site-packages (from langchain) (0.1.80)\n",
      "Requirement already satisfied: langchain-community<0.1,>=0.0.32 in /Users/erikarussi/.pyenv/versions/3.10.13/lib/python3.10/site-packages (from langchain) (0.0.34)\n",
      "Requirement already satisfied: aiohttp<4.0.0,>=3.8.3 in /Users/erikarussi/.pyenv/versions/3.10.13/lib/python3.10/site-packages (from langchain) (3.9.5)\n",
      "Requirement already satisfied: dataclasses-json<0.7,>=0.5.7 in /Users/erikarussi/.pyenv/versions/3.10.13/lib/python3.10/site-packages (from langchain) (0.6.4)\n",
      "Collecting langchain-core<0.2.0,>=0.1.42\n",
      "  Using cached langchain_core-0.1.52-py3-none-any.whl (302 kB)\n",
      "Requirement already satisfied: PyYAML>=5.3 in /Users/erikarussi/.pyenv/versions/3.10.13/lib/python3.10/site-packages (from langchain) (6.0.1)\n",
      "Requirement already satisfied: requests<3,>=2 in /Users/erikarussi/.pyenv/versions/3.10.13/lib/python3.10/site-packages (from langchain) (2.31.0)\n",
      "Requirement already satisfied: langchain-text-splitters<0.1,>=0.0.1 in /Users/erikarussi/.pyenv/versions/3.10.13/lib/python3.10/site-packages (from langchain) (0.0.1)\n",
      "Requirement already satisfied: pydantic<3,>=1 in /Users/erikarussi/.pyenv/versions/3.10.13/lib/python3.10/site-packages (from langchain) (2.7.1)\n",
      "Requirement already satisfied: SQLAlchemy<3,>=1.4 in /Users/erikarussi/.pyenv/versions/3.10.13/lib/python3.10/site-packages (from langchain) (2.0.29)\n",
      "Requirement already satisfied: multidict<7.0,>=4.5 in /Users/erikarussi/.pyenv/versions/3.10.13/lib/python3.10/site-packages (from aiohttp<4.0.0,>=3.8.3->langchain) (6.0.5)\n",
      "Requirement already satisfied: yarl<2.0,>=1.0 in /Users/erikarussi/.pyenv/versions/3.10.13/lib/python3.10/site-packages (from aiohttp<4.0.0,>=3.8.3->langchain) (1.9.4)\n",
      "Requirement already satisfied: aiosignal>=1.1.2 in /Users/erikarussi/.pyenv/versions/3.10.13/lib/python3.10/site-packages (from aiohttp<4.0.0,>=3.8.3->langchain) (1.3.1)\n",
      "Requirement already satisfied: frozenlist>=1.1.1 in /Users/erikarussi/.pyenv/versions/3.10.13/lib/python3.10/site-packages (from aiohttp<4.0.0,>=3.8.3->langchain) (1.4.1)\n",
      "Requirement already satisfied: attrs>=17.3.0 in /Users/erikarussi/.pyenv/versions/3.10.13/lib/python3.10/site-packages (from aiohttp<4.0.0,>=3.8.3->langchain) (23.2.0)\n",
      "Requirement already satisfied: typing-inspect<1,>=0.4.0 in /Users/erikarussi/.pyenv/versions/3.10.13/lib/python3.10/site-packages (from dataclasses-json<0.7,>=0.5.7->langchain) (0.9.0)\n",
      "Requirement already satisfied: marshmallow<4.0.0,>=3.18.0 in /Users/erikarussi/.pyenv/versions/3.10.13/lib/python3.10/site-packages (from dataclasses-json<0.7,>=0.5.7->langchain) (3.21.1)\n",
      "Requirement already satisfied: jsonpointer>=1.9 in /Users/erikarussi/.pyenv/versions/3.10.13/lib/python3.10/site-packages (from jsonpatch<2.0,>=1.33->langchain) (2.4)\n",
      "Requirement already satisfied: packaging<24.0,>=23.2 in /Users/erikarussi/.pyenv/versions/3.10.13/lib/python3.10/site-packages (from langchain-core<0.2.0,>=0.1.42->langchain) (23.2)\n",
      "Requirement already satisfied: orjson<4.0.0,>=3.9.14 in /Users/erikarussi/.pyenv/versions/3.10.13/lib/python3.10/site-packages (from langsmith<0.2.0,>=0.1.17->langchain) (3.10.1)\n",
      "Requirement already satisfied: pydantic-core==2.18.2 in /Users/erikarussi/.pyenv/versions/3.10.13/lib/python3.10/site-packages (from pydantic<3,>=1->langchain) (2.18.2)\n",
      "Requirement already satisfied: annotated-types>=0.4.0 in /Users/erikarussi/.pyenv/versions/3.10.13/lib/python3.10/site-packages (from pydantic<3,>=1->langchain) (0.6.0)\n",
      "Requirement already satisfied: typing-extensions>=4.6.1 in /Users/erikarussi/.pyenv/versions/3.10.13/lib/python3.10/site-packages (from pydantic<3,>=1->langchain) (4.11.0)\n",
      "Requirement already satisfied: certifi>=2017.4.17 in /Users/erikarussi/.pyenv/versions/3.10.13/lib/python3.10/site-packages (from requests<3,>=2->langchain) (2024.2.2)\n",
      "Requirement already satisfied: charset-normalizer<4,>=2 in /Users/erikarussi/.pyenv/versions/3.10.13/lib/python3.10/site-packages (from requests<3,>=2->langchain) (3.3.2)\n",
      "Requirement already satisfied: urllib3<3,>=1.21.1 in /Users/erikarussi/.pyenv/versions/3.10.13/lib/python3.10/site-packages (from requests<3,>=2->langchain) (2.1.0)\n",
      "Requirement already satisfied: idna<4,>=2.5 in /Users/erikarussi/.pyenv/versions/3.10.13/lib/python3.10/site-packages (from requests<3,>=2->langchain) (3.7)\n",
      "Requirement already satisfied: mypy-extensions>=0.3.0 in /Users/erikarussi/.pyenv/versions/3.10.13/lib/python3.10/site-packages (from typing-inspect<1,>=0.4.0->dataclasses-json<0.7,>=0.5.7->langchain) (1.0.0)\n",
      "Installing collected packages: langchain-core\n",
      "  Attempting uninstall: langchain-core\n",
      "    Found existing installation: langchain-core 0.2.20\n",
      "    Uninstalling langchain-core-0.2.20:\n",
      "      Successfully uninstalled langchain-core-0.2.20\n",
      "\u001b[31mERROR: pip's dependency resolver does not currently take into account all the packages that are installed. This behaviour is the source of the following dependency conflicts.\n",
      "langchain-ibm 0.1.10 requires langchain-core<0.3,>=0.2.2, but you have langchain-core 0.1.52 which is incompatible.\u001b[0m\u001b[31m\n",
      "\u001b[0mSuccessfully installed langchain-core-0.1.52\n",
      "\n",
      "\u001b[1m[\u001b[0m\u001b[34;49mnotice\u001b[0m\u001b[1;39;49m]\u001b[0m\u001b[39;49m A new release of pip is available: \u001b[0m\u001b[31;49m23.0.1\u001b[0m\u001b[39;49m -> \u001b[0m\u001b[32;49m24.1.2\u001b[0m\n",
      "\u001b[1m[\u001b[0m\u001b[34;49mnotice\u001b[0m\u001b[1;39;49m]\u001b[0m\u001b[39;49m To update, run: \u001b[0m\u001b[32;49mpip install --upgrade pip\u001b[0m\n",
      "Note: you may need to restart the kernel to use updated packages.\n",
      "Requirement already satisfied: langchain_chroma in /Users/erikarussi/.pyenv/versions/3.10.13/lib/python3.10/site-packages (0.1.1)\n",
      "Requirement already satisfied: langchain-core<0.3,>=0.1.40 in /Users/erikarussi/.pyenv/versions/3.10.13/lib/python3.10/site-packages (from langchain_chroma) (0.1.52)\n",
      "Requirement already satisfied: fastapi<1,>=0.95.2 in /Users/erikarussi/.pyenv/versions/3.10.13/lib/python3.10/site-packages (from langchain_chroma) (0.111.0)\n",
      "Requirement already satisfied: chromadb<0.6.0,>=0.4.0 in /Users/erikarussi/.pyenv/versions/3.10.13/lib/python3.10/site-packages (from langchain_chroma) (0.5.0)\n",
      "Requirement already satisfied: numpy<2,>=1 in /Users/erikarussi/.pyenv/versions/3.10.13/lib/python3.10/site-packages (from langchain_chroma) (1.26.4)\n",
      "Requirement already satisfied: typer>=0.9.0 in /Users/erikarussi/.pyenv/versions/3.10.13/lib/python3.10/site-packages (from chromadb<0.6.0,>=0.4.0->langchain_chroma) (0.12.3)\n",
      "Requirement already satisfied: onnxruntime>=1.14.1 in /Users/erikarussi/.pyenv/versions/3.10.13/lib/python3.10/site-packages (from chromadb<0.6.0,>=0.4.0->langchain_chroma) (1.18.0)\n",
      "Requirement already satisfied: kubernetes>=28.1.0 in /Users/erikarussi/.pyenv/versions/3.10.13/lib/python3.10/site-packages (from chromadb<0.6.0,>=0.4.0->langchain_chroma) (30.1.0)\n",
      "Requirement already satisfied: opentelemetry-sdk>=1.2.0 in /Users/erikarussi/.pyenv/versions/3.10.13/lib/python3.10/site-packages (from chromadb<0.6.0,>=0.4.0->langchain_chroma) (1.25.0)\n",
      "Requirement already satisfied: posthog>=2.4.0 in /Users/erikarussi/.pyenv/versions/3.10.13/lib/python3.10/site-packages (from chromadb<0.6.0,>=0.4.0->langchain_chroma) (3.5.0)\n",
      "Requirement already satisfied: pypika>=0.48.9 in /Users/erikarussi/.pyenv/versions/3.10.13/lib/python3.10/site-packages (from chromadb<0.6.0,>=0.4.0->langchain_chroma) (0.48.9)\n",
      "Requirement already satisfied: typing-extensions>=4.5.0 in /Users/erikarussi/.pyenv/versions/3.10.13/lib/python3.10/site-packages (from chromadb<0.6.0,>=0.4.0->langchain_chroma) (4.11.0)\n",
      "Requirement already satisfied: mmh3>=4.0.1 in /Users/erikarussi/.pyenv/versions/3.10.13/lib/python3.10/site-packages (from chromadb<0.6.0,>=0.4.0->langchain_chroma) (4.1.0)\n",
      "Requirement already satisfied: opentelemetry-exporter-otlp-proto-grpc>=1.2.0 in /Users/erikarussi/.pyenv/versions/3.10.13/lib/python3.10/site-packages (from chromadb<0.6.0,>=0.4.0->langchain_chroma) (1.25.0)\n",
      "Requirement already satisfied: importlib-resources in /Users/erikarussi/.pyenv/versions/3.10.13/lib/python3.10/site-packages (from chromadb<0.6.0,>=0.4.0->langchain_chroma) (6.4.0)\n",
      "Requirement already satisfied: uvicorn[standard]>=0.18.3 in /Users/erikarussi/.pyenv/versions/3.10.13/lib/python3.10/site-packages (from chromadb<0.6.0,>=0.4.0->langchain_chroma) (0.30.1)\n",
      "Requirement already satisfied: orjson>=3.9.12 in /Users/erikarussi/.pyenv/versions/3.10.13/lib/python3.10/site-packages (from chromadb<0.6.0,>=0.4.0->langchain_chroma) (3.10.1)\n",
      "Requirement already satisfied: tqdm>=4.65.0 in /Users/erikarussi/.pyenv/versions/3.10.13/lib/python3.10/site-packages (from chromadb<0.6.0,>=0.4.0->langchain_chroma) (4.66.2)\n",
      "Requirement already satisfied: tenacity>=8.2.3 in /Users/erikarussi/.pyenv/versions/3.10.13/lib/python3.10/site-packages (from chromadb<0.6.0,>=0.4.0->langchain_chroma) (8.2.3)\n",
      "Requirement already satisfied: PyYAML>=6.0.0 in /Users/erikarussi/.pyenv/versions/3.10.13/lib/python3.10/site-packages (from chromadb<0.6.0,>=0.4.0->langchain_chroma) (6.0.1)\n",
      "Requirement already satisfied: opentelemetry-api>=1.2.0 in /Users/erikarussi/.pyenv/versions/3.10.13/lib/python3.10/site-packages (from chromadb<0.6.0,>=0.4.0->langchain_chroma) (1.25.0)\n",
      "Requirement already satisfied: bcrypt>=4.0.1 in /Users/erikarussi/.pyenv/versions/3.10.13/lib/python3.10/site-packages (from chromadb<0.6.0,>=0.4.0->langchain_chroma) (4.1.3)\n",
      "Requirement already satisfied: build>=1.0.3 in /Users/erikarussi/.pyenv/versions/3.10.13/lib/python3.10/site-packages (from chromadb<0.6.0,>=0.4.0->langchain_chroma) (1.2.1)\n",
      "Requirement already satisfied: grpcio>=1.58.0 in /Users/erikarussi/.pyenv/versions/3.10.13/lib/python3.10/site-packages (from chromadb<0.6.0,>=0.4.0->langchain_chroma) (1.64.1)\n",
      "Requirement already satisfied: tokenizers>=0.13.2 in /Users/erikarussi/.pyenv/versions/3.10.13/lib/python3.10/site-packages (from chromadb<0.6.0,>=0.4.0->langchain_chroma) (0.19.1)\n",
      "Requirement already satisfied: chroma-hnswlib==0.7.3 in /Users/erikarussi/.pyenv/versions/3.10.13/lib/python3.10/site-packages (from chromadb<0.6.0,>=0.4.0->langchain_chroma) (0.7.3)\n",
      "Requirement already satisfied: opentelemetry-instrumentation-fastapi>=0.41b0 in /Users/erikarussi/.pyenv/versions/3.10.13/lib/python3.10/site-packages (from chromadb<0.6.0,>=0.4.0->langchain_chroma) (0.46b0)\n",
      "Requirement already satisfied: requests>=2.28 in /Users/erikarussi/.pyenv/versions/3.10.13/lib/python3.10/site-packages (from chromadb<0.6.0,>=0.4.0->langchain_chroma) (2.31.0)\n",
      "Requirement already satisfied: pydantic>=1.9 in /Users/erikarussi/.pyenv/versions/3.10.13/lib/python3.10/site-packages (from chromadb<0.6.0,>=0.4.0->langchain_chroma) (2.7.1)\n",
      "Requirement already satisfied: overrides>=7.3.1 in /Users/erikarussi/.pyenv/versions/3.10.13/lib/python3.10/site-packages (from chromadb<0.6.0,>=0.4.0->langchain_chroma) (7.7.0)\n",
      "Requirement already satisfied: ujson!=4.0.2,!=4.1.0,!=4.2.0,!=4.3.0,!=5.0.0,!=5.1.0,>=4.0.1 in /Users/erikarussi/.pyenv/versions/3.10.13/lib/python3.10/site-packages (from fastapi<1,>=0.95.2->langchain_chroma) (5.10.0)\n",
      "Requirement already satisfied: httpx>=0.23.0 in /Users/erikarussi/.pyenv/versions/3.10.13/lib/python3.10/site-packages (from fastapi<1,>=0.95.2->langchain_chroma) (0.27.0)\n",
      "Requirement already satisfied: python-multipart>=0.0.7 in /Users/erikarussi/.pyenv/versions/3.10.13/lib/python3.10/site-packages (from fastapi<1,>=0.95.2->langchain_chroma) (0.0.9)\n",
      "Requirement already satisfied: email_validator>=2.0.0 in /Users/erikarussi/.pyenv/versions/3.10.13/lib/python3.10/site-packages (from fastapi<1,>=0.95.2->langchain_chroma) (2.1.1)\n",
      "Requirement already satisfied: starlette<0.38.0,>=0.37.2 in /Users/erikarussi/.pyenv/versions/3.10.13/lib/python3.10/site-packages (from fastapi<1,>=0.95.2->langchain_chroma) (0.37.2)\n",
      "Requirement already satisfied: jinja2>=2.11.2 in /Users/erikarussi/.pyenv/versions/3.10.13/lib/python3.10/site-packages (from fastapi<1,>=0.95.2->langchain_chroma) (3.1.4)\n",
      "Requirement already satisfied: fastapi-cli>=0.0.2 in /Users/erikarussi/.pyenv/versions/3.10.13/lib/python3.10/site-packages (from fastapi<1,>=0.95.2->langchain_chroma) (0.0.4)\n",
      "Requirement already satisfied: jsonpatch<2.0,>=1.33 in /Users/erikarussi/.pyenv/versions/3.10.13/lib/python3.10/site-packages (from langchain-core<0.3,>=0.1.40->langchain_chroma) (1.33)\n",
      "Requirement already satisfied: packaging<24.0,>=23.2 in /Users/erikarussi/.pyenv/versions/3.10.13/lib/python3.10/site-packages (from langchain-core<0.3,>=0.1.40->langchain_chroma) (23.2)\n",
      "Requirement already satisfied: langsmith<0.2.0,>=0.1.0 in /Users/erikarussi/.pyenv/versions/3.10.13/lib/python3.10/site-packages (from langchain-core<0.3,>=0.1.40->langchain_chroma) (0.1.80)\n",
      "Requirement already satisfied: pyproject_hooks in /Users/erikarussi/.pyenv/versions/3.10.13/lib/python3.10/site-packages (from build>=1.0.3->chromadb<0.6.0,>=0.4.0->langchain_chroma) (1.1.0)\n",
      "Requirement already satisfied: tomli>=1.1.0 in /Users/erikarussi/.pyenv/versions/3.10.13/lib/python3.10/site-packages (from build>=1.0.3->chromadb<0.6.0,>=0.4.0->langchain_chroma) (2.0.1)\n",
      "Requirement already satisfied: idna>=2.0.0 in /Users/erikarussi/.pyenv/versions/3.10.13/lib/python3.10/site-packages (from email_validator>=2.0.0->fastapi<1,>=0.95.2->langchain_chroma) (3.7)\n",
      "Requirement already satisfied: dnspython>=2.0.0 in /Users/erikarussi/.pyenv/versions/3.10.13/lib/python3.10/site-packages (from email_validator>=2.0.0->fastapi<1,>=0.95.2->langchain_chroma) (2.6.1)\n",
      "Requirement already satisfied: anyio in /Users/erikarussi/.pyenv/versions/3.10.13/lib/python3.10/site-packages (from httpx>=0.23.0->fastapi<1,>=0.95.2->langchain_chroma) (4.4.0)\n",
      "Requirement already satisfied: httpcore==1.* in /Users/erikarussi/.pyenv/versions/3.10.13/lib/python3.10/site-packages (from httpx>=0.23.0->fastapi<1,>=0.95.2->langchain_chroma) (1.0.5)\n",
      "Requirement already satisfied: sniffio in /Users/erikarussi/.pyenv/versions/3.10.13/lib/python3.10/site-packages (from httpx>=0.23.0->fastapi<1,>=0.95.2->langchain_chroma) (1.3.1)\n",
      "Requirement already satisfied: certifi in /Users/erikarussi/.pyenv/versions/3.10.13/lib/python3.10/site-packages (from httpx>=0.23.0->fastapi<1,>=0.95.2->langchain_chroma) (2024.2.2)\n",
      "Requirement already satisfied: h11<0.15,>=0.13 in /Users/erikarussi/.pyenv/versions/3.10.13/lib/python3.10/site-packages (from httpcore==1.*->httpx>=0.23.0->fastapi<1,>=0.95.2->langchain_chroma) (0.14.0)\n",
      "Requirement already satisfied: MarkupSafe>=2.0 in /Users/erikarussi/.pyenv/versions/3.10.13/lib/python3.10/site-packages (from jinja2>=2.11.2->fastapi<1,>=0.95.2->langchain_chroma) (2.1.5)\n",
      "Requirement already satisfied: jsonpointer>=1.9 in /Users/erikarussi/.pyenv/versions/3.10.13/lib/python3.10/site-packages (from jsonpatch<2.0,>=1.33->langchain-core<0.3,>=0.1.40->langchain_chroma) (2.4)\n",
      "Requirement already satisfied: requests-oauthlib in /Users/erikarussi/.pyenv/versions/3.10.13/lib/python3.10/site-packages (from kubernetes>=28.1.0->chromadb<0.6.0,>=0.4.0->langchain_chroma) (2.0.0)\n",
      "Requirement already satisfied: oauthlib>=3.2.2 in /Users/erikarussi/.pyenv/versions/3.10.13/lib/python3.10/site-packages (from kubernetes>=28.1.0->chromadb<0.6.0,>=0.4.0->langchain_chroma) (3.2.2)\n",
      "Requirement already satisfied: six>=1.9.0 in /Users/erikarussi/.pyenv/versions/3.10.13/lib/python3.10/site-packages (from kubernetes>=28.1.0->chromadb<0.6.0,>=0.4.0->langchain_chroma) (1.16.0)\n",
      "Requirement already satisfied: python-dateutil>=2.5.3 in /Users/erikarussi/.pyenv/versions/3.10.13/lib/python3.10/site-packages (from kubernetes>=28.1.0->chromadb<0.6.0,>=0.4.0->langchain_chroma) (2.8.2)\n",
      "Requirement already satisfied: google-auth>=1.0.1 in /Users/erikarussi/.pyenv/versions/3.10.13/lib/python3.10/site-packages (from kubernetes>=28.1.0->chromadb<0.6.0,>=0.4.0->langchain_chroma) (2.30.0)\n",
      "Requirement already satisfied: websocket-client!=0.40.0,!=0.41.*,!=0.42.*,>=0.32.0 in /Users/erikarussi/.pyenv/versions/3.10.13/lib/python3.10/site-packages (from kubernetes>=28.1.0->chromadb<0.6.0,>=0.4.0->langchain_chroma) (1.8.0)\n",
      "Requirement already satisfied: urllib3>=1.24.2 in /Users/erikarussi/.pyenv/versions/3.10.13/lib/python3.10/site-packages (from kubernetes>=28.1.0->chromadb<0.6.0,>=0.4.0->langchain_chroma) (2.1.0)\n",
      "Requirement already satisfied: coloredlogs in /Users/erikarussi/.pyenv/versions/3.10.13/lib/python3.10/site-packages (from onnxruntime>=1.14.1->chromadb<0.6.0,>=0.4.0->langchain_chroma) (15.0.1)\n",
      "Requirement already satisfied: sympy in /Users/erikarussi/.pyenv/versions/3.10.13/lib/python3.10/site-packages (from onnxruntime>=1.14.1->chromadb<0.6.0,>=0.4.0->langchain_chroma) (1.12.1)\n",
      "Requirement already satisfied: protobuf in /Users/erikarussi/.pyenv/versions/3.10.13/lib/python3.10/site-packages (from onnxruntime>=1.14.1->chromadb<0.6.0,>=0.4.0->langchain_chroma) (4.25.3)\n",
      "Requirement already satisfied: flatbuffers in /Users/erikarussi/.pyenv/versions/3.10.13/lib/python3.10/site-packages (from onnxruntime>=1.14.1->chromadb<0.6.0,>=0.4.0->langchain_chroma) (24.3.25)\n",
      "Requirement already satisfied: deprecated>=1.2.6 in /Users/erikarussi/.pyenv/versions/3.10.13/lib/python3.10/site-packages (from opentelemetry-api>=1.2.0->chromadb<0.6.0,>=0.4.0->langchain_chroma) (1.2.14)\n",
      "Requirement already satisfied: importlib-metadata<=7.1,>=6.0 in /Users/erikarussi/.pyenv/versions/3.10.13/lib/python3.10/site-packages (from opentelemetry-api>=1.2.0->chromadb<0.6.0,>=0.4.0->langchain_chroma) (7.1.0)\n",
      "Requirement already satisfied: opentelemetry-exporter-otlp-proto-common==1.25.0 in /Users/erikarussi/.pyenv/versions/3.10.13/lib/python3.10/site-packages (from opentelemetry-exporter-otlp-proto-grpc>=1.2.0->chromadb<0.6.0,>=0.4.0->langchain_chroma) (1.25.0)\n",
      "Requirement already satisfied: googleapis-common-protos~=1.52 in /Users/erikarussi/.pyenv/versions/3.10.13/lib/python3.10/site-packages (from opentelemetry-exporter-otlp-proto-grpc>=1.2.0->chromadb<0.6.0,>=0.4.0->langchain_chroma) (1.63.1)\n",
      "Requirement already satisfied: opentelemetry-proto==1.25.0 in /Users/erikarussi/.pyenv/versions/3.10.13/lib/python3.10/site-packages (from opentelemetry-exporter-otlp-proto-grpc>=1.2.0->chromadb<0.6.0,>=0.4.0->langchain_chroma) (1.25.0)\n",
      "Requirement already satisfied: opentelemetry-instrumentation-asgi==0.46b0 in /Users/erikarussi/.pyenv/versions/3.10.13/lib/python3.10/site-packages (from opentelemetry-instrumentation-fastapi>=0.41b0->chromadb<0.6.0,>=0.4.0->langchain_chroma) (0.46b0)\n",
      "Requirement already satisfied: opentelemetry-util-http==0.46b0 in /Users/erikarussi/.pyenv/versions/3.10.13/lib/python3.10/site-packages (from opentelemetry-instrumentation-fastapi>=0.41b0->chromadb<0.6.0,>=0.4.0->langchain_chroma) (0.46b0)\n",
      "Requirement already satisfied: opentelemetry-instrumentation==0.46b0 in /Users/erikarussi/.pyenv/versions/3.10.13/lib/python3.10/site-packages (from opentelemetry-instrumentation-fastapi>=0.41b0->chromadb<0.6.0,>=0.4.0->langchain_chroma) (0.46b0)\n",
      "Requirement already satisfied: opentelemetry-semantic-conventions==0.46b0 in /Users/erikarussi/.pyenv/versions/3.10.13/lib/python3.10/site-packages (from opentelemetry-instrumentation-fastapi>=0.41b0->chromadb<0.6.0,>=0.4.0->langchain_chroma) (0.46b0)\n",
      "Requirement already satisfied: setuptools>=16.0 in /Users/erikarussi/.pyenv/versions/3.10.13/lib/python3.10/site-packages (from opentelemetry-instrumentation==0.46b0->opentelemetry-instrumentation-fastapi>=0.41b0->chromadb<0.6.0,>=0.4.0->langchain_chroma) (65.5.0)\n",
      "Requirement already satisfied: wrapt<2.0.0,>=1.0.0 in /Users/erikarussi/.pyenv/versions/3.10.13/lib/python3.10/site-packages (from opentelemetry-instrumentation==0.46b0->opentelemetry-instrumentation-fastapi>=0.41b0->chromadb<0.6.0,>=0.4.0->langchain_chroma) (1.16.0)\n",
      "Requirement already satisfied: asgiref~=3.0 in /Users/erikarussi/.pyenv/versions/3.10.13/lib/python3.10/site-packages (from opentelemetry-instrumentation-asgi==0.46b0->opentelemetry-instrumentation-fastapi>=0.41b0->chromadb<0.6.0,>=0.4.0->langchain_chroma) (3.8.1)\n",
      "Requirement already satisfied: monotonic>=1.5 in /Users/erikarussi/.pyenv/versions/3.10.13/lib/python3.10/site-packages (from posthog>=2.4.0->chromadb<0.6.0,>=0.4.0->langchain_chroma) (1.6)\n",
      "Requirement already satisfied: backoff>=1.10.0 in /Users/erikarussi/.pyenv/versions/3.10.13/lib/python3.10/site-packages (from posthog>=2.4.0->chromadb<0.6.0,>=0.4.0->langchain_chroma) (2.2.1)\n",
      "Requirement already satisfied: annotated-types>=0.4.0 in /Users/erikarussi/.pyenv/versions/3.10.13/lib/python3.10/site-packages (from pydantic>=1.9->chromadb<0.6.0,>=0.4.0->langchain_chroma) (0.6.0)\n",
      "Requirement already satisfied: pydantic-core==2.18.2 in /Users/erikarussi/.pyenv/versions/3.10.13/lib/python3.10/site-packages (from pydantic>=1.9->chromadb<0.6.0,>=0.4.0->langchain_chroma) (2.18.2)\n",
      "Requirement already satisfied: charset-normalizer<4,>=2 in /Users/erikarussi/.pyenv/versions/3.10.13/lib/python3.10/site-packages (from requests>=2.28->chromadb<0.6.0,>=0.4.0->langchain_chroma) (3.3.2)\n",
      "Requirement already satisfied: huggingface-hub<1.0,>=0.16.4 in /Users/erikarussi/.pyenv/versions/3.10.13/lib/python3.10/site-packages (from tokenizers>=0.13.2->chromadb<0.6.0,>=0.4.0->langchain_chroma) (0.23.3)\n",
      "Requirement already satisfied: click>=8.0.0 in /Users/erikarussi/.pyenv/versions/3.10.13/lib/python3.10/site-packages (from typer>=0.9.0->chromadb<0.6.0,>=0.4.0->langchain_chroma) (8.1.7)\n",
      "Requirement already satisfied: shellingham>=1.3.0 in /Users/erikarussi/.pyenv/versions/3.10.13/lib/python3.10/site-packages (from typer>=0.9.0->chromadb<0.6.0,>=0.4.0->langchain_chroma) (1.5.4)\n",
      "Requirement already satisfied: rich>=10.11.0 in /Users/erikarussi/.pyenv/versions/3.10.13/lib/python3.10/site-packages (from typer>=0.9.0->chromadb<0.6.0,>=0.4.0->langchain_chroma) (13.7.1)\n",
      "Requirement already satisfied: httptools>=0.5.0 in /Users/erikarussi/.pyenv/versions/3.10.13/lib/python3.10/site-packages (from uvicorn[standard]>=0.18.3->chromadb<0.6.0,>=0.4.0->langchain_chroma) (0.6.1)\n",
      "Requirement already satisfied: uvloop!=0.15.0,!=0.15.1,>=0.14.0 in /Users/erikarussi/.pyenv/versions/3.10.13/lib/python3.10/site-packages (from uvicorn[standard]>=0.18.3->chromadb<0.6.0,>=0.4.0->langchain_chroma) (0.19.0)\n",
      "Requirement already satisfied: python-dotenv>=0.13 in /Users/erikarussi/.pyenv/versions/3.10.13/lib/python3.10/site-packages (from uvicorn[standard]>=0.18.3->chromadb<0.6.0,>=0.4.0->langchain_chroma) (1.0.1)\n",
      "Requirement already satisfied: websockets>=10.4 in /Users/erikarussi/.pyenv/versions/3.10.13/lib/python3.10/site-packages (from uvicorn[standard]>=0.18.3->chromadb<0.6.0,>=0.4.0->langchain_chroma) (12.0)\n",
      "Requirement already satisfied: watchfiles>=0.13 in /Users/erikarussi/.pyenv/versions/3.10.13/lib/python3.10/site-packages (from uvicorn[standard]>=0.18.3->chromadb<0.6.0,>=0.4.0->langchain_chroma) (0.22.0)\n",
      "Requirement already satisfied: exceptiongroup>=1.0.2 in /Users/erikarussi/.pyenv/versions/3.10.13/lib/python3.10/site-packages (from anyio->httpx>=0.23.0->fastapi<1,>=0.95.2->langchain_chroma) (1.1.3)\n",
      "Requirement already satisfied: cachetools<6.0,>=2.0.0 in /Users/erikarussi/.pyenv/versions/3.10.13/lib/python3.10/site-packages (from google-auth>=1.0.1->kubernetes>=28.1.0->chromadb<0.6.0,>=0.4.0->langchain_chroma) (5.3.3)\n",
      "Requirement already satisfied: pyasn1-modules>=0.2.1 in /Users/erikarussi/.pyenv/versions/3.10.13/lib/python3.10/site-packages (from google-auth>=1.0.1->kubernetes>=28.1.0->chromadb<0.6.0,>=0.4.0->langchain_chroma) (0.4.0)\n",
      "Requirement already satisfied: rsa<5,>=3.1.4 in /Users/erikarussi/.pyenv/versions/3.10.13/lib/python3.10/site-packages (from google-auth>=1.0.1->kubernetes>=28.1.0->chromadb<0.6.0,>=0.4.0->langchain_chroma) (4.9)\n",
      "Requirement already satisfied: filelock in /Users/erikarussi/.pyenv/versions/3.10.13/lib/python3.10/site-packages (from huggingface-hub<1.0,>=0.16.4->tokenizers>=0.13.2->chromadb<0.6.0,>=0.4.0->langchain_chroma) (3.14.0)\n",
      "Requirement already satisfied: fsspec>=2023.5.0 in /Users/erikarussi/.pyenv/versions/3.10.13/lib/python3.10/site-packages (from huggingface-hub<1.0,>=0.16.4->tokenizers>=0.13.2->chromadb<0.6.0,>=0.4.0->langchain_chroma) (2024.6.0)\n",
      "Requirement already satisfied: zipp>=0.5 in /Users/erikarussi/.pyenv/versions/3.10.13/lib/python3.10/site-packages (from importlib-metadata<=7.1,>=6.0->opentelemetry-api>=1.2.0->chromadb<0.6.0,>=0.4.0->langchain_chroma) (3.18.1)\n",
      "Requirement already satisfied: markdown-it-py>=2.2.0 in /Users/erikarussi/.pyenv/versions/3.10.13/lib/python3.10/site-packages (from rich>=10.11.0->typer>=0.9.0->chromadb<0.6.0,>=0.4.0->langchain_chroma) (3.0.0)\n",
      "Requirement already satisfied: pygments<3.0.0,>=2.13.0 in /Users/erikarussi/.pyenv/versions/3.10.13/lib/python3.10/site-packages (from rich>=10.11.0->typer>=0.9.0->chromadb<0.6.0,>=0.4.0->langchain_chroma) (2.16.1)\n",
      "Requirement already satisfied: humanfriendly>=9.1 in /Users/erikarussi/.pyenv/versions/3.10.13/lib/python3.10/site-packages (from coloredlogs->onnxruntime>=1.14.1->chromadb<0.6.0,>=0.4.0->langchain_chroma) (10.0)\n",
      "Requirement already satisfied: mpmath<1.4.0,>=1.1.0 in /Users/erikarussi/.pyenv/versions/3.10.13/lib/python3.10/site-packages (from sympy->onnxruntime>=1.14.1->chromadb<0.6.0,>=0.4.0->langchain_chroma) (1.3.0)\n",
      "Requirement already satisfied: mdurl~=0.1 in /Users/erikarussi/.pyenv/versions/3.10.13/lib/python3.10/site-packages (from markdown-it-py>=2.2.0->rich>=10.11.0->typer>=0.9.0->chromadb<0.6.0,>=0.4.0->langchain_chroma) (0.1.2)\n",
      "Requirement already satisfied: pyasn1<0.7.0,>=0.4.6 in /Users/erikarussi/.pyenv/versions/3.10.13/lib/python3.10/site-packages (from pyasn1-modules>=0.2.1->google-auth>=1.0.1->kubernetes>=28.1.0->chromadb<0.6.0,>=0.4.0->langchain_chroma) (0.6.0)\n",
      "\n",
      "\u001b[1m[\u001b[0m\u001b[34;49mnotice\u001b[0m\u001b[1;39;49m]\u001b[0m\u001b[39;49m A new release of pip is available: \u001b[0m\u001b[31;49m23.0.1\u001b[0m\u001b[39;49m -> \u001b[0m\u001b[32;49m24.1.2\u001b[0m\n",
      "\u001b[1m[\u001b[0m\u001b[34;49mnotice\u001b[0m\u001b[1;39;49m]\u001b[0m\u001b[39;49m To update, run: \u001b[0m\u001b[32;49mpip install --upgrade pip\u001b[0m\n",
      "Note: you may need to restart the kernel to use updated packages.\n",
      "Requirement already satisfied: langchain-community in /Users/erikarussi/.pyenv/versions/3.10.13/lib/python3.10/site-packages (0.0.34)\n",
      "Requirement already satisfied: PyYAML>=5.3 in /Users/erikarussi/.pyenv/versions/3.10.13/lib/python3.10/site-packages (from langchain-community) (6.0.1)\n",
      "Requirement already satisfied: requests<3,>=2 in /Users/erikarussi/.pyenv/versions/3.10.13/lib/python3.10/site-packages (from langchain-community) (2.31.0)\n",
      "Requirement already satisfied: aiohttp<4.0.0,>=3.8.3 in /Users/erikarussi/.pyenv/versions/3.10.13/lib/python3.10/site-packages (from langchain-community) (3.9.5)\n",
      "Requirement already satisfied: tenacity<9.0.0,>=8.1.0 in /Users/erikarussi/.pyenv/versions/3.10.13/lib/python3.10/site-packages (from langchain-community) (8.2.3)\n",
      "Requirement already satisfied: SQLAlchemy<3,>=1.4 in /Users/erikarussi/.pyenv/versions/3.10.13/lib/python3.10/site-packages (from langchain-community) (2.0.29)\n",
      "Requirement already satisfied: langchain-core<0.2.0,>=0.1.45 in /Users/erikarussi/.pyenv/versions/3.10.13/lib/python3.10/site-packages (from langchain-community) (0.1.52)\n",
      "Requirement already satisfied: dataclasses-json<0.7,>=0.5.7 in /Users/erikarussi/.pyenv/versions/3.10.13/lib/python3.10/site-packages (from langchain-community) (0.6.4)\n",
      "Requirement already satisfied: langsmith<0.2.0,>=0.1.0 in /Users/erikarussi/.pyenv/versions/3.10.13/lib/python3.10/site-packages (from langchain-community) (0.1.80)\n",
      "Requirement already satisfied: numpy<2,>=1 in /Users/erikarussi/.pyenv/versions/3.10.13/lib/python3.10/site-packages (from langchain-community) (1.26.4)\n",
      "Requirement already satisfied: aiosignal>=1.1.2 in /Users/erikarussi/.pyenv/versions/3.10.13/lib/python3.10/site-packages (from aiohttp<4.0.0,>=3.8.3->langchain-community) (1.3.1)\n",
      "Requirement already satisfied: yarl<2.0,>=1.0 in /Users/erikarussi/.pyenv/versions/3.10.13/lib/python3.10/site-packages (from aiohttp<4.0.0,>=3.8.3->langchain-community) (1.9.4)\n",
      "Requirement already satisfied: async-timeout<5.0,>=4.0 in /Users/erikarussi/.pyenv/versions/3.10.13/lib/python3.10/site-packages (from aiohttp<4.0.0,>=3.8.3->langchain-community) (4.0.3)\n",
      "Requirement already satisfied: multidict<7.0,>=4.5 in /Users/erikarussi/.pyenv/versions/3.10.13/lib/python3.10/site-packages (from aiohttp<4.0.0,>=3.8.3->langchain-community) (6.0.5)\n",
      "Requirement already satisfied: frozenlist>=1.1.1 in /Users/erikarussi/.pyenv/versions/3.10.13/lib/python3.10/site-packages (from aiohttp<4.0.0,>=3.8.3->langchain-community) (1.4.1)\n",
      "Requirement already satisfied: attrs>=17.3.0 in /Users/erikarussi/.pyenv/versions/3.10.13/lib/python3.10/site-packages (from aiohttp<4.0.0,>=3.8.3->langchain-community) (23.2.0)\n",
      "Requirement already satisfied: marshmallow<4.0.0,>=3.18.0 in /Users/erikarussi/.pyenv/versions/3.10.13/lib/python3.10/site-packages (from dataclasses-json<0.7,>=0.5.7->langchain-community) (3.21.1)\n",
      "Requirement already satisfied: typing-inspect<1,>=0.4.0 in /Users/erikarussi/.pyenv/versions/3.10.13/lib/python3.10/site-packages (from dataclasses-json<0.7,>=0.5.7->langchain-community) (0.9.0)\n",
      "Requirement already satisfied: packaging<24.0,>=23.2 in /Users/erikarussi/.pyenv/versions/3.10.13/lib/python3.10/site-packages (from langchain-core<0.2.0,>=0.1.45->langchain-community) (23.2)\n",
      "Requirement already satisfied: jsonpatch<2.0,>=1.33 in /Users/erikarussi/.pyenv/versions/3.10.13/lib/python3.10/site-packages (from langchain-core<0.2.0,>=0.1.45->langchain-community) (1.33)\n",
      "Requirement already satisfied: pydantic<3,>=1 in /Users/erikarussi/.pyenv/versions/3.10.13/lib/python3.10/site-packages (from langchain-core<0.2.0,>=0.1.45->langchain-community) (2.7.1)\n",
      "Requirement already satisfied: orjson<4.0.0,>=3.9.14 in /Users/erikarussi/.pyenv/versions/3.10.13/lib/python3.10/site-packages (from langsmith<0.2.0,>=0.1.0->langchain-community) (3.10.1)\n",
      "Requirement already satisfied: idna<4,>=2.5 in /Users/erikarussi/.pyenv/versions/3.10.13/lib/python3.10/site-packages (from requests<3,>=2->langchain-community) (3.7)\n",
      "Requirement already satisfied: urllib3<3,>=1.21.1 in /Users/erikarussi/.pyenv/versions/3.10.13/lib/python3.10/site-packages (from requests<3,>=2->langchain-community) (2.1.0)\n",
      "Requirement already satisfied: charset-normalizer<4,>=2 in /Users/erikarussi/.pyenv/versions/3.10.13/lib/python3.10/site-packages (from requests<3,>=2->langchain-community) (3.3.2)\n",
      "Requirement already satisfied: certifi>=2017.4.17 in /Users/erikarussi/.pyenv/versions/3.10.13/lib/python3.10/site-packages (from requests<3,>=2->langchain-community) (2024.2.2)\n",
      "Requirement already satisfied: typing-extensions>=4.6.0 in /Users/erikarussi/.pyenv/versions/3.10.13/lib/python3.10/site-packages (from SQLAlchemy<3,>=1.4->langchain-community) (4.11.0)\n",
      "Requirement already satisfied: jsonpointer>=1.9 in /Users/erikarussi/.pyenv/versions/3.10.13/lib/python3.10/site-packages (from jsonpatch<2.0,>=1.33->langchain-core<0.2.0,>=0.1.45->langchain-community) (2.4)\n",
      "Requirement already satisfied: pydantic-core==2.18.2 in /Users/erikarussi/.pyenv/versions/3.10.13/lib/python3.10/site-packages (from pydantic<3,>=1->langchain-core<0.2.0,>=0.1.45->langchain-community) (2.18.2)\n",
      "Requirement already satisfied: annotated-types>=0.4.0 in /Users/erikarussi/.pyenv/versions/3.10.13/lib/python3.10/site-packages (from pydantic<3,>=1->langchain-core<0.2.0,>=0.1.45->langchain-community) (0.6.0)\n",
      "Requirement already satisfied: mypy-extensions>=0.3.0 in /Users/erikarussi/.pyenv/versions/3.10.13/lib/python3.10/site-packages (from typing-inspect<1,>=0.4.0->dataclasses-json<0.7,>=0.5.7->langchain-community) (1.0.0)\n",
      "\n",
      "\u001b[1m[\u001b[0m\u001b[34;49mnotice\u001b[0m\u001b[1;39;49m]\u001b[0m\u001b[39;49m A new release of pip is available: \u001b[0m\u001b[31;49m23.0.1\u001b[0m\u001b[39;49m -> \u001b[0m\u001b[32;49m24.1.2\u001b[0m\n",
      "\u001b[1m[\u001b[0m\u001b[34;49mnotice\u001b[0m\u001b[1;39;49m]\u001b[0m\u001b[39;49m To update, run: \u001b[0m\u001b[32;49mpip install --upgrade pip\u001b[0m\n",
      "Note: you may need to restart the kernel to use updated packages.\n",
      "Requirement already satisfied: langchain_ibm in /Users/erikarussi/.pyenv/versions/3.10.13/lib/python3.10/site-packages (0.1.10)\n",
      "Requirement already satisfied: ibm-watsonx-ai<2.0.0,>=1.0.8 in /Users/erikarussi/.pyenv/versions/3.10.13/lib/python3.10/site-packages (from langchain_ibm) (1.0.11)\n",
      "Collecting langchain-core<0.3,>=0.2.2\n",
      "  Downloading langchain_core-0.2.22-py3-none-any.whl (373 kB)\n",
      "\u001b[2K     \u001b[90m━━━━━━━━━━━━━━━━━━━━━━━━━━━━━━━━━━━━━━━\u001b[0m \u001b[32m373.5/373.5 kB\u001b[0m \u001b[31m7.7 MB/s\u001b[0m eta \u001b[36m0:00:00\u001b[0m00:01\u001b[0m\n",
      "\u001b[?25hRequirement already satisfied: importlib-metadata in /Users/erikarussi/.pyenv/versions/3.10.13/lib/python3.10/site-packages (from ibm-watsonx-ai<2.0.0,>=1.0.8->langchain_ibm) (7.1.0)\n",
      "Requirement already satisfied: packaging in /Users/erikarussi/.pyenv/versions/3.10.13/lib/python3.10/site-packages (from ibm-watsonx-ai<2.0.0,>=1.0.8->langchain_ibm) (23.2)\n",
      "Requirement already satisfied: ibm-cos-sdk<2.14.0,>=2.12.0 in /Users/erikarussi/.pyenv/versions/3.10.13/lib/python3.10/site-packages (from ibm-watsonx-ai<2.0.0,>=1.0.8->langchain_ibm) (2.13.4)\n",
      "Requirement already satisfied: requests in /Users/erikarussi/.pyenv/versions/3.10.13/lib/python3.10/site-packages (from ibm-watsonx-ai<2.0.0,>=1.0.8->langchain_ibm) (2.31.0)\n",
      "Requirement already satisfied: certifi in /Users/erikarussi/.pyenv/versions/3.10.13/lib/python3.10/site-packages (from ibm-watsonx-ai<2.0.0,>=1.0.8->langchain_ibm) (2024.2.2)\n",
      "Requirement already satisfied: lomond in /Users/erikarussi/.pyenv/versions/3.10.13/lib/python3.10/site-packages (from ibm-watsonx-ai<2.0.0,>=1.0.8->langchain_ibm) (0.3.3)\n",
      "Requirement already satisfied: urllib3 in /Users/erikarussi/.pyenv/versions/3.10.13/lib/python3.10/site-packages (from ibm-watsonx-ai<2.0.0,>=1.0.8->langchain_ibm) (2.1.0)\n",
      "Requirement already satisfied: pandas<2.2.0,>=0.24.2 in /Users/erikarussi/.pyenv/versions/3.10.13/lib/python3.10/site-packages (from ibm-watsonx-ai<2.0.0,>=1.0.8->langchain_ibm) (2.1.4)\n",
      "Requirement already satisfied: tabulate in /Users/erikarussi/.pyenv/versions/3.10.13/lib/python3.10/site-packages (from ibm-watsonx-ai<2.0.0,>=1.0.8->langchain_ibm) (0.9.0)\n",
      "Requirement already satisfied: tenacity!=8.4.0,<9.0.0,>=8.1.0 in /Users/erikarussi/.pyenv/versions/3.10.13/lib/python3.10/site-packages (from langchain-core<0.3,>=0.2.2->langchain_ibm) (8.2.3)\n",
      "Requirement already satisfied: jsonpatch<2.0,>=1.33 in /Users/erikarussi/.pyenv/versions/3.10.13/lib/python3.10/site-packages (from langchain-core<0.3,>=0.2.2->langchain_ibm) (1.33)\n",
      "Requirement already satisfied: pydantic<3,>=1 in /Users/erikarussi/.pyenv/versions/3.10.13/lib/python3.10/site-packages (from langchain-core<0.3,>=0.2.2->langchain_ibm) (2.7.1)\n",
      "Requirement already satisfied: PyYAML>=5.3 in /Users/erikarussi/.pyenv/versions/3.10.13/lib/python3.10/site-packages (from langchain-core<0.3,>=0.2.2->langchain_ibm) (6.0.1)\n",
      "Requirement already satisfied: langsmith<0.2.0,>=0.1.75 in /Users/erikarussi/.pyenv/versions/3.10.13/lib/python3.10/site-packages (from langchain-core<0.3,>=0.2.2->langchain_ibm) (0.1.80)\n",
      "Requirement already satisfied: ibm-cos-sdk-core==2.13.4 in /Users/erikarussi/.pyenv/versions/3.10.13/lib/python3.10/site-packages (from ibm-cos-sdk<2.14.0,>=2.12.0->ibm-watsonx-ai<2.0.0,>=1.0.8->langchain_ibm) (2.13.4)\n",
      "Requirement already satisfied: ibm-cos-sdk-s3transfer==2.13.4 in /Users/erikarussi/.pyenv/versions/3.10.13/lib/python3.10/site-packages (from ibm-cos-sdk<2.14.0,>=2.12.0->ibm-watsonx-ai<2.0.0,>=1.0.8->langchain_ibm) (2.13.4)\n",
      "Requirement already satisfied: jmespath<=1.0.1,>=0.10.0 in /Users/erikarussi/.pyenv/versions/3.10.13/lib/python3.10/site-packages (from ibm-cos-sdk<2.14.0,>=2.12.0->ibm-watsonx-ai<2.0.0,>=1.0.8->langchain_ibm) (1.0.1)\n",
      "Requirement already satisfied: python-dateutil<3.0.0,>=2.8.2 in /Users/erikarussi/.pyenv/versions/3.10.13/lib/python3.10/site-packages (from ibm-cos-sdk-core==2.13.4->ibm-cos-sdk<2.14.0,>=2.12.0->ibm-watsonx-ai<2.0.0,>=1.0.8->langchain_ibm) (2.8.2)\n",
      "Requirement already satisfied: jsonpointer>=1.9 in /Users/erikarussi/.pyenv/versions/3.10.13/lib/python3.10/site-packages (from jsonpatch<2.0,>=1.33->langchain-core<0.3,>=0.2.2->langchain_ibm) (2.4)\n",
      "Requirement already satisfied: orjson<4.0.0,>=3.9.14 in /Users/erikarussi/.pyenv/versions/3.10.13/lib/python3.10/site-packages (from langsmith<0.2.0,>=0.1.75->langchain-core<0.3,>=0.2.2->langchain_ibm) (3.10.1)\n",
      "Requirement already satisfied: numpy<2,>=1.22.4 in /Users/erikarussi/.pyenv/versions/3.10.13/lib/python3.10/site-packages (from pandas<2.2.0,>=0.24.2->ibm-watsonx-ai<2.0.0,>=1.0.8->langchain_ibm) (1.26.4)\n",
      "Requirement already satisfied: pytz>=2020.1 in /Users/erikarussi/.pyenv/versions/3.10.13/lib/python3.10/site-packages (from pandas<2.2.0,>=0.24.2->ibm-watsonx-ai<2.0.0,>=1.0.8->langchain_ibm) (2024.1)\n",
      "Requirement already satisfied: tzdata>=2022.1 in /Users/erikarussi/.pyenv/versions/3.10.13/lib/python3.10/site-packages (from pandas<2.2.0,>=0.24.2->ibm-watsonx-ai<2.0.0,>=1.0.8->langchain_ibm) (2024.1)\n",
      "Requirement already satisfied: typing-extensions>=4.6.1 in /Users/erikarussi/.pyenv/versions/3.10.13/lib/python3.10/site-packages (from pydantic<3,>=1->langchain-core<0.3,>=0.2.2->langchain_ibm) (4.11.0)\n",
      "Requirement already satisfied: pydantic-core==2.18.2 in /Users/erikarussi/.pyenv/versions/3.10.13/lib/python3.10/site-packages (from pydantic<3,>=1->langchain-core<0.3,>=0.2.2->langchain_ibm) (2.18.2)\n",
      "Requirement already satisfied: annotated-types>=0.4.0 in /Users/erikarussi/.pyenv/versions/3.10.13/lib/python3.10/site-packages (from pydantic<3,>=1->langchain-core<0.3,>=0.2.2->langchain_ibm) (0.6.0)\n",
      "Requirement already satisfied: charset-normalizer<4,>=2 in /Users/erikarussi/.pyenv/versions/3.10.13/lib/python3.10/site-packages (from requests->ibm-watsonx-ai<2.0.0,>=1.0.8->langchain_ibm) (3.3.2)\n",
      "Requirement already satisfied: idna<4,>=2.5 in /Users/erikarussi/.pyenv/versions/3.10.13/lib/python3.10/site-packages (from requests->ibm-watsonx-ai<2.0.0,>=1.0.8->langchain_ibm) (3.7)\n",
      "Requirement already satisfied: zipp>=0.5 in /Users/erikarussi/.pyenv/versions/3.10.13/lib/python3.10/site-packages (from importlib-metadata->ibm-watsonx-ai<2.0.0,>=1.0.8->langchain_ibm) (3.18.1)\n",
      "Requirement already satisfied: six>=1.10.0 in /Users/erikarussi/.pyenv/versions/3.10.13/lib/python3.10/site-packages (from lomond->ibm-watsonx-ai<2.0.0,>=1.0.8->langchain_ibm) (1.16.0)\n",
      "Installing collected packages: langchain-core\n",
      "  Attempting uninstall: langchain-core\n",
      "    Found existing installation: langchain-core 0.1.52\n",
      "    Uninstalling langchain-core-0.1.52:\n",
      "      Successfully uninstalled langchain-core-0.1.52\n",
      "\u001b[31mERROR: pip's dependency resolver does not currently take into account all the packages that are installed. This behaviour is the source of the following dependency conflicts.\n",
      "langchain 0.1.16 requires langchain-core<0.2.0,>=0.1.42, but you have langchain-core 0.2.22 which is incompatible.\n",
      "langchain-text-splitters 0.0.1 requires langchain-core<0.2.0,>=0.1.28, but you have langchain-core 0.2.22 which is incompatible.\n",
      "langchain-community 0.0.34 requires langchain-core<0.2.0,>=0.1.45, but you have langchain-core 0.2.22 which is incompatible.\u001b[0m\u001b[31m\n",
      "\u001b[0mSuccessfully installed langchain-core-0.2.22\n",
      "\n",
      "\u001b[1m[\u001b[0m\u001b[34;49mnotice\u001b[0m\u001b[1;39;49m]\u001b[0m\u001b[39;49m A new release of pip is available: \u001b[0m\u001b[31;49m23.0.1\u001b[0m\u001b[39;49m -> \u001b[0m\u001b[32;49m24.1.2\u001b[0m\n",
      "\u001b[1m[\u001b[0m\u001b[34;49mnotice\u001b[0m\u001b[1;39;49m]\u001b[0m\u001b[39;49m To update, run: \u001b[0m\u001b[32;49mpip install --upgrade pip\u001b[0m\n",
      "Note: you may need to restart the kernel to use updated packages.\n",
      "Requirement already satisfied: unstructured in /Users/erikarussi/.pyenv/versions/3.10.13/lib/python3.10/site-packages (0.14.6)\n",
      "Requirement already satisfied: dataclasses-json in /Users/erikarussi/.pyenv/versions/3.10.13/lib/python3.10/site-packages (from unstructured) (0.6.4)\n",
      "Requirement already satisfied: filetype in /Users/erikarussi/.pyenv/versions/3.10.13/lib/python3.10/site-packages (from unstructured) (1.2.0)\n",
      "Requirement already satisfied: rapidfuzz in /Users/erikarussi/.pyenv/versions/3.10.13/lib/python3.10/site-packages (from unstructured) (3.9.3)\n",
      "Requirement already satisfied: tqdm in /Users/erikarussi/.pyenv/versions/3.10.13/lib/python3.10/site-packages (from unstructured) (4.66.2)\n",
      "Requirement already satisfied: numpy in /Users/erikarussi/.pyenv/versions/3.10.13/lib/python3.10/site-packages (from unstructured) (1.26.4)\n",
      "Requirement already satisfied: python-magic in /Users/erikarussi/.pyenv/versions/3.10.13/lib/python3.10/site-packages (from unstructured) (0.4.27)\n",
      "Requirement already satisfied: typing-extensions in /Users/erikarussi/.pyenv/versions/3.10.13/lib/python3.10/site-packages (from unstructured) (4.11.0)\n",
      "Requirement already satisfied: lxml in /Users/erikarussi/.pyenv/versions/3.10.13/lib/python3.10/site-packages (from unstructured) (5.2.2)\n",
      "Requirement already satisfied: emoji in /Users/erikarussi/.pyenv/versions/3.10.13/lib/python3.10/site-packages (from unstructured) (2.12.1)\n",
      "Requirement already satisfied: backoff in /Users/erikarussi/.pyenv/versions/3.10.13/lib/python3.10/site-packages (from unstructured) (2.2.1)\n",
      "Requirement already satisfied: wrapt in /Users/erikarussi/.pyenv/versions/3.10.13/lib/python3.10/site-packages (from unstructured) (1.16.0)\n",
      "Requirement already satisfied: python-iso639 in /Users/erikarussi/.pyenv/versions/3.10.13/lib/python3.10/site-packages (from unstructured) (2024.4.27)\n",
      "Requirement already satisfied: tabulate in /Users/erikarussi/.pyenv/versions/3.10.13/lib/python3.10/site-packages (from unstructured) (0.9.0)\n",
      "Requirement already satisfied: langdetect in /Users/erikarussi/.pyenv/versions/3.10.13/lib/python3.10/site-packages (from unstructured) (1.0.9)\n",
      "Requirement already satisfied: beautifulsoup4 in /Users/erikarussi/.pyenv/versions/3.10.13/lib/python3.10/site-packages (from unstructured) (4.12.3)\n",
      "Requirement already satisfied: chardet in /Users/erikarussi/.pyenv/versions/3.10.13/lib/python3.10/site-packages (from unstructured) (5.2.0)\n",
      "Requirement already satisfied: nltk in /Users/erikarussi/.pyenv/versions/3.10.13/lib/python3.10/site-packages (from unstructured) (3.8.1)\n",
      "Requirement already satisfied: unstructured-client in /Users/erikarussi/.pyenv/versions/3.10.13/lib/python3.10/site-packages (from unstructured) (0.23.7)\n",
      "Requirement already satisfied: requests in /Users/erikarussi/.pyenv/versions/3.10.13/lib/python3.10/site-packages (from unstructured) (2.31.0)\n",
      "Requirement already satisfied: soupsieve>1.2 in /Users/erikarussi/.pyenv/versions/3.10.13/lib/python3.10/site-packages (from beautifulsoup4->unstructured) (2.5)\n",
      "Requirement already satisfied: marshmallow<4.0.0,>=3.18.0 in /Users/erikarussi/.pyenv/versions/3.10.13/lib/python3.10/site-packages (from dataclasses-json->unstructured) (3.21.1)\n",
      "Requirement already satisfied: typing-inspect<1,>=0.4.0 in /Users/erikarussi/.pyenv/versions/3.10.13/lib/python3.10/site-packages (from dataclasses-json->unstructured) (0.9.0)\n",
      "Requirement already satisfied: six in /Users/erikarussi/.pyenv/versions/3.10.13/lib/python3.10/site-packages (from langdetect->unstructured) (1.16.0)\n",
      "Requirement already satisfied: regex>=2021.8.3 in /Users/erikarussi/.pyenv/versions/3.10.13/lib/python3.10/site-packages (from nltk->unstructured) (2024.4.16)\n",
      "Requirement already satisfied: click in /Users/erikarussi/.pyenv/versions/3.10.13/lib/python3.10/site-packages (from nltk->unstructured) (8.1.7)\n",
      "Requirement already satisfied: joblib in /Users/erikarussi/.pyenv/versions/3.10.13/lib/python3.10/site-packages (from nltk->unstructured) (1.4.0)\n",
      "Requirement already satisfied: charset-normalizer<4,>=2 in /Users/erikarussi/.pyenv/versions/3.10.13/lib/python3.10/site-packages (from requests->unstructured) (3.3.2)\n",
      "Requirement already satisfied: urllib3<3,>=1.21.1 in /Users/erikarussi/.pyenv/versions/3.10.13/lib/python3.10/site-packages (from requests->unstructured) (2.1.0)\n",
      "Requirement already satisfied: certifi>=2017.4.17 in /Users/erikarussi/.pyenv/versions/3.10.13/lib/python3.10/site-packages (from requests->unstructured) (2024.2.2)\n",
      "Requirement already satisfied: idna<4,>=2.5 in /Users/erikarussi/.pyenv/versions/3.10.13/lib/python3.10/site-packages (from requests->unstructured) (3.7)\n",
      "Requirement already satisfied: packaging>=23.1 in /Users/erikarussi/.pyenv/versions/3.10.13/lib/python3.10/site-packages (from unstructured-client->unstructured) (23.2)\n",
      "Requirement already satisfied: httpx>=0.27.0 in /Users/erikarussi/.pyenv/versions/3.10.13/lib/python3.10/site-packages (from unstructured-client->unstructured) (0.27.0)\n",
      "Requirement already satisfied: python-dateutil>=2.8.2 in /Users/erikarussi/.pyenv/versions/3.10.13/lib/python3.10/site-packages (from unstructured-client->unstructured) (2.8.2)\n",
      "Requirement already satisfied: mypy-extensions>=1.0.0 in /Users/erikarussi/.pyenv/versions/3.10.13/lib/python3.10/site-packages (from unstructured-client->unstructured) (1.0.0)\n",
      "Requirement already satisfied: requests-toolbelt>=1.0.0 in /Users/erikarussi/.pyenv/versions/3.10.13/lib/python3.10/site-packages (from unstructured-client->unstructured) (1.0.0)\n",
      "Requirement already satisfied: jsonpath-python>=1.0.6 in /Users/erikarussi/.pyenv/versions/3.10.13/lib/python3.10/site-packages (from unstructured-client->unstructured) (1.0.6)\n",
      "Requirement already satisfied: nest-asyncio>=1.6.0 in /Users/erikarussi/.pyenv/versions/3.10.13/lib/python3.10/site-packages (from unstructured-client->unstructured) (1.6.0)\n",
      "Requirement already satisfied: pypdf>=4.0 in /Users/erikarussi/.pyenv/versions/3.10.13/lib/python3.10/site-packages (from unstructured-client->unstructured) (4.2.0)\n",
      "Requirement already satisfied: deepdiff>=6.0 in /Users/erikarussi/.pyenv/versions/3.10.13/lib/python3.10/site-packages (from unstructured-client->unstructured) (7.0.1)\n",
      "Requirement already satisfied: ordered-set<4.2.0,>=4.1.0 in /Users/erikarussi/.pyenv/versions/3.10.13/lib/python3.10/site-packages (from deepdiff>=6.0->unstructured-client->unstructured) (4.1.0)\n",
      "Requirement already satisfied: anyio in /Users/erikarussi/.pyenv/versions/3.10.13/lib/python3.10/site-packages (from httpx>=0.27.0->unstructured-client->unstructured) (4.4.0)\n",
      "Requirement already satisfied: sniffio in /Users/erikarussi/.pyenv/versions/3.10.13/lib/python3.10/site-packages (from httpx>=0.27.0->unstructured-client->unstructured) (1.3.1)\n",
      "Requirement already satisfied: httpcore==1.* in /Users/erikarussi/.pyenv/versions/3.10.13/lib/python3.10/site-packages (from httpx>=0.27.0->unstructured-client->unstructured) (1.0.5)\n",
      "Requirement already satisfied: h11<0.15,>=0.13 in /Users/erikarussi/.pyenv/versions/3.10.13/lib/python3.10/site-packages (from httpcore==1.*->httpx>=0.27.0->unstructured-client->unstructured) (0.14.0)\n",
      "Requirement already satisfied: exceptiongroup>=1.0.2 in /Users/erikarussi/.pyenv/versions/3.10.13/lib/python3.10/site-packages (from anyio->httpx>=0.27.0->unstructured-client->unstructured) (1.1.3)\n",
      "\n",
      "\u001b[1m[\u001b[0m\u001b[34;49mnotice\u001b[0m\u001b[1;39;49m]\u001b[0m\u001b[39;49m A new release of pip is available: \u001b[0m\u001b[31;49m23.0.1\u001b[0m\u001b[39;49m -> \u001b[0m\u001b[32;49m24.1.2\u001b[0m\n",
      "\u001b[1m[\u001b[0m\u001b[34;49mnotice\u001b[0m\u001b[1;39;49m]\u001b[0m\u001b[39;49m To update, run: \u001b[0m\u001b[32;49mpip install --upgrade pip\u001b[0m\n",
      "Note: you may need to restart the kernel to use updated packages.\n",
      "Requirement already satisfied: ibm-watson-machine-learning>=1.0.327 in /Users/erikarussi/.pyenv/versions/3.10.13/lib/python3.10/site-packages (1.0.356)\n",
      "Requirement already satisfied: ibm-cos-sdk<2.14.0,>=2.12.0 in /Users/erikarussi/.pyenv/versions/3.10.13/lib/python3.10/site-packages (from ibm-watson-machine-learning>=1.0.327) (2.13.4)\n",
      "Requirement already satisfied: lomond in /Users/erikarussi/.pyenv/versions/3.10.13/lib/python3.10/site-packages (from ibm-watson-machine-learning>=1.0.327) (0.3.3)\n",
      "Requirement already satisfied: importlib-metadata in /Users/erikarussi/.pyenv/versions/3.10.13/lib/python3.10/site-packages (from ibm-watson-machine-learning>=1.0.327) (7.1.0)\n",
      "Requirement already satisfied: packaging in /Users/erikarussi/.pyenv/versions/3.10.13/lib/python3.10/site-packages (from ibm-watson-machine-learning>=1.0.327) (23.2)\n",
      "Requirement already satisfied: tabulate in /Users/erikarussi/.pyenv/versions/3.10.13/lib/python3.10/site-packages (from ibm-watson-machine-learning>=1.0.327) (0.9.0)\n",
      "Requirement already satisfied: requests in /Users/erikarussi/.pyenv/versions/3.10.13/lib/python3.10/site-packages (from ibm-watson-machine-learning>=1.0.327) (2.31.0)\n",
      "Requirement already satisfied: urllib3 in /Users/erikarussi/.pyenv/versions/3.10.13/lib/python3.10/site-packages (from ibm-watson-machine-learning>=1.0.327) (2.1.0)\n",
      "Requirement already satisfied: certifi in /Users/erikarussi/.pyenv/versions/3.10.13/lib/python3.10/site-packages (from ibm-watson-machine-learning>=1.0.327) (2024.2.2)\n",
      "Requirement already satisfied: pandas<2.2.0,>=0.24.2 in /Users/erikarussi/.pyenv/versions/3.10.13/lib/python3.10/site-packages (from ibm-watson-machine-learning>=1.0.327) (2.1.4)\n",
      "Requirement already satisfied: ibm-cos-sdk-core==2.13.4 in /Users/erikarussi/.pyenv/versions/3.10.13/lib/python3.10/site-packages (from ibm-cos-sdk<2.14.0,>=2.12.0->ibm-watson-machine-learning>=1.0.327) (2.13.4)\n",
      "Requirement already satisfied: ibm-cos-sdk-s3transfer==2.13.4 in /Users/erikarussi/.pyenv/versions/3.10.13/lib/python3.10/site-packages (from ibm-cos-sdk<2.14.0,>=2.12.0->ibm-watson-machine-learning>=1.0.327) (2.13.4)\n",
      "Requirement already satisfied: jmespath<=1.0.1,>=0.10.0 in /Users/erikarussi/.pyenv/versions/3.10.13/lib/python3.10/site-packages (from ibm-cos-sdk<2.14.0,>=2.12.0->ibm-watson-machine-learning>=1.0.327) (1.0.1)\n",
      "Requirement already satisfied: python-dateutil<3.0.0,>=2.8.2 in /Users/erikarussi/.pyenv/versions/3.10.13/lib/python3.10/site-packages (from ibm-cos-sdk-core==2.13.4->ibm-cos-sdk<2.14.0,>=2.12.0->ibm-watson-machine-learning>=1.0.327) (2.8.2)\n",
      "Requirement already satisfied: tzdata>=2022.1 in /Users/erikarussi/.pyenv/versions/3.10.13/lib/python3.10/site-packages (from pandas<2.2.0,>=0.24.2->ibm-watson-machine-learning>=1.0.327) (2024.1)\n",
      "Requirement already satisfied: numpy<2,>=1.22.4 in /Users/erikarussi/.pyenv/versions/3.10.13/lib/python3.10/site-packages (from pandas<2.2.0,>=0.24.2->ibm-watson-machine-learning>=1.0.327) (1.26.4)\n",
      "Requirement already satisfied: pytz>=2020.1 in /Users/erikarussi/.pyenv/versions/3.10.13/lib/python3.10/site-packages (from pandas<2.2.0,>=0.24.2->ibm-watson-machine-learning>=1.0.327) (2024.1)\n",
      "Requirement already satisfied: idna<4,>=2.5 in /Users/erikarussi/.pyenv/versions/3.10.13/lib/python3.10/site-packages (from requests->ibm-watson-machine-learning>=1.0.327) (3.7)\n",
      "Requirement already satisfied: charset-normalizer<4,>=2 in /Users/erikarussi/.pyenv/versions/3.10.13/lib/python3.10/site-packages (from requests->ibm-watson-machine-learning>=1.0.327) (3.3.2)\n",
      "Requirement already satisfied: zipp>=0.5 in /Users/erikarussi/.pyenv/versions/3.10.13/lib/python3.10/site-packages (from importlib-metadata->ibm-watson-machine-learning>=1.0.327) (3.18.1)\n",
      "Requirement already satisfied: six>=1.10.0 in /Users/erikarussi/.pyenv/versions/3.10.13/lib/python3.10/site-packages (from lomond->ibm-watson-machine-learning>=1.0.327) (1.16.0)\n",
      "\n",
      "\u001b[1m[\u001b[0m\u001b[34;49mnotice\u001b[0m\u001b[1;39;49m]\u001b[0m\u001b[39;49m A new release of pip is available: \u001b[0m\u001b[31;49m23.0.1\u001b[0m\u001b[39;49m -> \u001b[0m\u001b[32;49m24.1.2\u001b[0m\n",
      "\u001b[1m[\u001b[0m\u001b[34;49mnotice\u001b[0m\u001b[1;39;49m]\u001b[0m\u001b[39;49m To update, run: \u001b[0m\u001b[32;49mpip install --upgrade pip\u001b[0m\n",
      "Note: you may need to restart the kernel to use updated packages.\n"
     ]
    }
   ],
   "source": [
    "#installations of dependencies\n",
    "%pip install langchain\n",
    "%pip install langchain_chroma\n",
    "%pip install langchain-community\n",
    "%pip install -U langchain_ibm\n",
    "%pip install unstructured\n",
    "%pip install \"ibm-watson-machine-learning>=1.0.327\""
   ]
  },
  {
   "cell_type": "markdown",
   "metadata": {},
   "source": [
    "Import the relevant libraries:"
   ]
  },
  {
   "cell_type": "code",
   "execution_count": 2,
   "metadata": {},
   "outputs": [],
   "source": [
    "#imports\n",
    "import os\n",
    "import getpass\n",
    "\n",
    "from ibm_watson_machine_learning.foundation_models.utils.enums import ModelTypes\n",
    "from ibm_watson_machine_learning.metanames import GenTextParamsMetaNames as GenParams\n",
    "from ibm_watsonx_ai.foundation_models.utils.enums import EmbeddingTypes\n",
    "\n",
    "from langchain_ibm import WatsonxEmbeddings, WatsonxLLM\n",
    "from langchain.vectorstores import Chroma\n",
    "\n",
    "from langchain_core.prompts import ChatPromptTemplate\n",
    "from langchain_core.output_parsers import StrOutputParser\n",
    "from langchain_core.runnables import RunnablePassthrough\n",
    "\n",
    "from langchain_community.document_loaders import UnstructuredURLLoader\n",
    "\n",
    "from langchain_text_splitters import RecursiveCharacterTextSplitter"
   ]
  },
  {
   "cell_type": "markdown",
   "metadata": {},
   "source": [
    "Set up your credentials and input your API Key:"
   ]
  },
  {
   "cell_type": "code",
   "execution_count": 3,
   "metadata": {},
   "outputs": [],
   "source": [
    "credentials = {\n",
    "    \"url\": \"https://us-south.ml.cloud.ibm.com\",\n",
    "    \"apikey\": getpass.getpass(\"Please enter your WML api key (hit enter): \")\n",
    "}"
   ]
  },
  {
   "cell_type": "markdown",
   "metadata": {},
   "source": [
    "Set up your `project_id` as part of your environment variables or input it:"
   ]
  },
  {
   "cell_type": "code",
   "execution_count": 4,
   "metadata": {},
   "outputs": [],
   "source": [
    "try:\n",
    "    project_id = os.environ[\"PROJECT_ID\"]\n",
    "except KeyError:\n",
    "    project_id = input(\"Please enter your project_id (hit enter): \")"
   ]
  },
  {
   "cell_type": "markdown",
   "metadata": {},
   "source": [
    "##  Step 4. Index the URLs to create the knowledge base\n",
    "\n",
    "We’ll index our IBM products specific pages from URLs to create a knowledge base as a vectorstore. The content from these URLs will be our data sources and context for this exercise. The context will then be provided to an LLM to answer any questions we have about the IBM products.\n",
    "\n",
    "The first step to building vector embeddings is to clean and process the raw dataset. This may involve the removal of noise and standardization of the text. For our example, we won’t do any cleaning since the text is already cleaned and standardized.\n",
    "\n",
    "First, let's establish `URLS_DICTIONARY`. `URLS_DICTIONARY` is a dict that helps us map the URLs from which we will be extracting the content. Let's also set up a name for our collection: `ibm_products`."
   ]
  },
  {
   "cell_type": "code",
   "execution_count": 5,
   "metadata": {},
   "outputs": [],
   "source": [
    "URLS_DICTIONARY = {\n",
    "    \"api_connect\": \"https://www.ibm.com/products/api-connect\",\n",
    "    \"concert\": \"https://www.ibm.com/products/concert\",\n",
    "    \"environment_intelligence_suite\": \"https://www.ibm.com/products/environmental-intelligence-suite\",\n",
    "    \"envizi\": \"https://www.ibm.com/products/envizi\",\n",
    "    \"flashsystem\": \"https://www.ibm.com/flashsystem\",\n",
    "    \"ibm_cloud\": \"https://www.ibm.com/cloud\",\n",
    "    \"ibm_z\": \"https://www.ibm.com/z\",\n",
    "    \"instana\": \"https://www.ibm.com/products/instana\",\n",
    "    \"maas360\": \"https://www.ibm.com/products/maas360\",\n",
    "    \"maximo\": \"https://www.ibm.com/products/maximo\",\n",
    "    \"planning_analytics\": \"https://www.ibm.com/products/planning-analytics\",\n",
    "    \"qradar_edr\": \"https://www.ibm.com/products/qradar-edr\",\n",
    "    \"robotic_process_automation\": \"https://www.ibm.com/products/robotic-process-automation\",\n",
    "    \"storage_defender\": \"https://www.ibm.com/products/storage-defender\",\n",
    "    \"turbonomic\": \"https://www.ibm.com/products/turbonomic\",\n",
    "    \"watsonx\": \"https://www.ibm.com/watsonx\",\n",
    "    \"watsonx_assistant\": \"https://www.ibm.com/products/watsonx-assistant\",\n",
    "    \"watsonx_orchestrate\": \"https://www.ibm.com/products/watsonx-orchestrate\",\n",
    "}\n",
    "COLLECTION_NAME = \"ibm_products\""
   ]
  },
  {
   "cell_type": "markdown",
   "metadata": {},
   "source": [
    "Next, let's load our documents using the LangChain `UnstructuredURLLoader` for the list of URLs we have. We'll print a sample document at the end to see how it's been loaded."
   ]
  },
  {
   "cell_type": "code",
   "execution_count": 6,
   "metadata": {},
   "outputs": [
    {
     "data": {
      "text/plain": [
       "Document(metadata={'source': 'https://www.ibm.com/products/api-connect'}, page_content='Create, secure and manage APIs through their entire lifecycle\\n\\nExplore the award-winning design and built-in AI capabilities of IBM API Connect®\\n\\nTry it free\\n\\nTake the self guided tour\\n\\nRead more\\n\\nGo to report\\n\\nA management solution for the entire API lifecycle\\n\\nIBM API Connect is a full lifecycle API management solution that uses an intuitive experience to help consistently create, manage, secure, socialize and monetize APIs, which promotes digital transformation on premises and across clouds. This means you and your customers can power digital apps and spur innovation in real-time. IBM API Connect is also available as-a-Service as a highly scalable, fully managed API management platform on Amazon Web Services (AWS).\\n\\nAnnouncement\\n\\nIBM is partnering with Noname Security to deliver advanced API security capabilities.\\n\\nLearn more\\n\\nSmartPaper\\n\\nLearn how to unlock the full potential of your APIs.\\n\\nRead SmartPaper\\n\\nIBM has partnered with Noname Security to deliver advanced API security capabilities\\n\\nGreater performance with lower costs\\n\\n6X\\n\\n8X\\n\\n50%\\n\\nView pricing options\\n\\nBuy now\\n\\nBenefits\\n\\nIBM API Connect stands out as an API management provider\\n\\nManage APIs with an award-winning user experience and developer portal with robust self-service features that allow developers to quickly implement strategy across the full API lifecycle.\\n\\nUse IBM API Connect wherever your apps and data reside—whether that is on cloud, on-premises or across any hybrid environment.\\n\\nFeel safe knowing that IBM API Connect uses a powerful, enterprise-grade API gateway to manage cybersecurity risks and help protect your data across multicloud environments.\\n\\nScale components on the back end to meet SLAs and more securely manage and protect services across all your endpoints with a microservices-based architecture from IBM API Connect.\\n\\nIncluded with the purchase of IBM API Connect, Software Subscription & Support provides real-time access to new software versions, releases and fixes plus 24x7x365 technical support to help maximize software performance.\\n\\nExplore the key features\\n\\nWork from the GUI or command-line to accelerate and automate your API development and testing for REST (OpenAPI v2 & v3), SOAP (WSDL), GraphQL and WebSockets-based APIs.\\n\\nPackage APIs for specific consumer markets, provide governance and version control, and promote across different environments with subscriptions, monetization and community management.\\n\\nHelp secure, control and mediate access to APIs using OAuth, OpenID Connect and third-party services and help protect endpoints with an enterprise-grade API gateway.\\n\\nEnable application developers to easily discover and consume your APIs using self-service portals, subscription tools and forums so you can provide support to your growing community.\\n\\nLearn how customers applied IBM API Connect to improve their API Management strategies.\\n\\nExplore all case studies\\xa0→\\n\\nThe IBM CIO organization relied on IBM API Connect to build an enterprise-scale centralized API management solution.\\n\\nAxis Bank uses IBM API Connect for better onboarding experience.\\n\\nFinologee enables an off-the-shelf solution for open banking.\\n\\nWhat you get from the live demo\\n\\nWhether you’re just starting on your API management journey\\xa0or you’re already a pro, our product experts would love to show\\xa0you around IBM API Connect.\\n\\nAfter you sign up for a live demo, we’ll reach out to get it\\xa0scheduled for a day/time that works best for you.\\n\\nWhat you can expect\\n\\nOn the day of the demo, you can expect the following:\\n\\nThe demo will last about 30 minutes\\n\\nWe’ll start by asking a couple questions about your\\xa0challenge or use case so we can personalize the demo to\\xa0include the product features that are most relevant to you\\n\\nYou will have the opportunity to ask questions throughout\\xa0the demo – it’s meant to be informal and flexible\\n\\nAt the end of the demo, we’ll discuss what additional\\xa0information we can provide to help you in your API\\xa0management research\\n\\nSample agenda\\n\\nYou decide whether you want a full overview of the product or\\xa0deep-dive into a few specific areas. The full overview typically\\xa0covers how to:\\n\\nImport an existing OpenAPI from a GitHub Repository\\n\\nUse automation and AI to test the imported API in your API\\xa0Connect instance. Put the API into a subscribe-able\\xa0package and publish it to the developer portal\\n\\nWhile emulating an API consumer: Log into the developer\\xa0portal, create an application, subscribe to your API Product\\r\\nand test it\\n\\nCreate a catalog and set up a corresponding developer\\xa0portal\\n\\nReview analytics and insights from your API Connect\\xa0instance\\n\\nGet started with IBM API Connect\\n\\nTake control of your API ecosystem while propelling your API strategy forward.\\n\\nTry it free\\n\\nTake the self-guided tour')"
      ]
     },
     "execution_count": 6,
     "metadata": {},
     "output_type": "execute_result"
    }
   ],
   "source": [
    "documents = []\n",
    "\n",
    "for url in list(URLS_DICTIONARY.values()):\n",
    "    loader = UnstructuredURLLoader(urls=[url])\n",
    "    data = loader.load()\n",
    "    documents += data\n",
    "\n",
    "#show sample document\n",
    "documents[0]\n",
    "\n",
    "#Output:"
   ]
  },
  {
   "cell_type": "markdown",
   "metadata": {},
   "source": [
    "Based on the sample document, it looks like there's a lot of white space and new line characters that we can get rid of. Let's clean that up and add some metadata to our documents, including an id number and the source of the content."
   ]
  },
  {
   "cell_type": "code",
   "execution_count": 7,
   "metadata": {},
   "outputs": [
    {
     "name": "stdout",
     "output_type": "stream",
     "text": [
      "{'source': 'https://www.ibm.com/products/api-connect', 'id': 0}\n",
      "{'source': 'https://www.ibm.com/products/concert', 'id': 1}\n",
      "{'source': 'https://www.ibm.com/products/environmental-intelligence-suite', 'id': 2}\n",
      "{'source': 'https://www.ibm.com/products/envizi', 'id': 3}\n",
      "{'source': 'https://www.ibm.com/flashsystem', 'id': 4}\n",
      "{'source': 'https://www.ibm.com/cloud', 'id': 5}\n",
      "{'source': 'https://www.ibm.com/z', 'id': 6}\n",
      "{'source': 'https://www.ibm.com/products/instana', 'id': 7}\n",
      "{'source': 'https://www.ibm.com/products/maas360', 'id': 8}\n",
      "{'source': 'https://www.ibm.com/products/maximo', 'id': 9}\n",
      "{'source': 'https://www.ibm.com/products/planning-analytics', 'id': 10}\n",
      "{'source': 'https://www.ibm.com/products/qradar-edr', 'id': 11}\n",
      "{'source': 'https://www.ibm.com/products/robotic-process-automation', 'id': 12}\n",
      "{'source': 'https://www.ibm.com/products/storage-defender', 'id': 13}\n",
      "{'source': 'https://www.ibm.com/products/turbonomic', 'id': 14}\n",
      "{'source': 'https://www.ibm.com/watsonx', 'id': 15}\n",
      "{'source': 'https://www.ibm.com/products/watsonx-assistant', 'id': 16}\n",
      "{'source': 'https://www.ibm.com/products/watsonx-orchestrate', 'id': 17}\n"
     ]
    }
   ],
   "source": [
    "doc_id = 0\n",
    "for doc in documents:\n",
    "    doc.page_content = \" \".join(doc.page_content.split()) # remove white space\n",
    "\n",
    "    doc.metadata[\"id\"] = doc_id #make a document id and add it to the document metadata\n",
    "\n",
    "    print(doc.metadata)\n",
    "    doc_id += 1"
   ]
  },
  {
   "cell_type": "markdown",
   "metadata": {},
   "source": [
    "Let's see how our sample document looks now after we cleaned it up:"
   ]
  },
  {
   "cell_type": "code",
   "execution_count": 8,
   "metadata": {},
   "outputs": [
    {
     "data": {
      "text/plain": [
       "Document(metadata={'source': 'https://www.ibm.com/products/api-connect', 'id': 0}, page_content='Create, secure and manage APIs through their entire lifecycle Explore the award-winning design and built-in AI capabilities of IBM API Connect® Try it free Take the self guided tour Read more Go to report A management solution for the entire API lifecycle IBM API Connect is a full lifecycle API management solution that uses an intuitive experience to help consistently create, manage, secure, socialize and monetize APIs, which promotes digital transformation on premises and across clouds. This means you and your customers can power digital apps and spur innovation in real-time. IBM API Connect is also available as-a-Service as a highly scalable, fully managed API management platform on Amazon Web Services (AWS). Announcement IBM is partnering with Noname Security to deliver advanced API security capabilities. Learn more SmartPaper Learn how to unlock the full potential of your APIs. Read SmartPaper IBM has partnered with Noname Security to deliver advanced API security capabilities Greater performance with lower costs 6X 8X 50% View pricing options Buy now Benefits IBM API Connect stands out as an API management provider Manage APIs with an award-winning user experience and developer portal with robust self-service features that allow developers to quickly implement strategy across the full API lifecycle. Use IBM API Connect wherever your apps and data reside—whether that is on cloud, on-premises or across any hybrid environment. Feel safe knowing that IBM API Connect uses a powerful, enterprise-grade API gateway to manage cybersecurity risks and help protect your data across multicloud environments. Scale components on the back end to meet SLAs and more securely manage and protect services across all your endpoints with a microservices-based architecture from IBM API Connect. Included with the purchase of IBM API Connect, Software Subscription & Support provides real-time access to new software versions, releases and fixes plus 24x7x365 technical support to help maximize software performance. Explore the key features Work from the GUI or command-line to accelerate and automate your API development and testing for REST (OpenAPI v2 & v3), SOAP (WSDL), GraphQL and WebSockets-based APIs. Package APIs for specific consumer markets, provide governance and version control, and promote across different environments with subscriptions, monetization and community management. Help secure, control and mediate access to APIs using OAuth, OpenID Connect and third-party services and help protect endpoints with an enterprise-grade API gateway. Enable application developers to easily discover and consume your APIs using self-service portals, subscription tools and forums so you can provide support to your growing community. Learn how customers applied IBM API Connect to improve their API Management strategies. Explore all case studies → The IBM CIO organization relied on IBM API Connect to build an enterprise-scale centralized API management solution. Axis Bank uses IBM API Connect for better onboarding experience. Finologee enables an off-the-shelf solution for open banking. What you get from the live demo Whether you’re just starting on your API management journey or you’re already a pro, our product experts would love to show you around IBM API Connect. After you sign up for a live demo, we’ll reach out to get it scheduled for a day/time that works best for you. What you can expect On the day of the demo, you can expect the following: The demo will last about 30 minutes We’ll start by asking a couple questions about your challenge or use case so we can personalize the demo to include the product features that are most relevant to you You will have the opportunity to ask questions throughout the demo – it’s meant to be informal and flexible At the end of the demo, we’ll discuss what additional information we can provide to help you in your API management research Sample agenda You decide whether you want a full overview of the product or deep-dive into a few specific areas. The full overview typically covers how to: Import an existing OpenAPI from a GitHub Repository Use automation and AI to test the imported API in your API Connect instance. Put the API into a subscribe-able package and publish it to the developer portal While emulating an API consumer: Log into the developer portal, create an application, subscribe to your API Product and test it Create a catalog and set up a corresponding developer portal Review analytics and insights from your API Connect instance Get started with IBM API Connect Take control of your API ecosystem while propelling your API strategy forward. Try it free Take the self-guided tour')"
      ]
     },
     "execution_count": 8,
     "metadata": {},
     "output_type": "execute_result"
    }
   ],
   "source": [
    "documents[0]"
   ]
  },
  {
   "cell_type": "markdown",
   "metadata": {},
   "source": [
    "We need to split up our text into smaller, more manageable pieces known as \"chunks\". LangChain's `RecursiveCharacterTextSplitter` takes a large text and splits it based on a specified chunk size using a predefined set of characters. In order, the default characters are:\n",
    "- \"\\n\\n\" - two new line characters \n",
    "- \"\\n\" - one new line character\n",
    "- \" \" - a space\n",
    "- \"\" - an empty character\n",
    "\n",
    "The process starts by attempting to split the text using the first character, \"\\n\\n.\" If the resulting chunks are still too large, it moves to the next character, \"\\n,\" and tries splitting again. This continues with each character in the set until the chunks are smaller than the specified chunk size. Since we already removed all the \"\\n\\n\" and \"\\n\" characters when we cleaned up the text, the `RecursiveCharacterTextSplitter` will begin at the \" \"(space) character.\n",
    "\n",
    "We settled on a chunk size of 512 after experimenting with a chunk size of 1000. When the chunks were that large, our model was getting too much context for question-answering; this led to confused responses by the LLM because it was receiving too much information, so we changed it to smaller chunks. Feel free to experiment with chunk size further!\n"
   ]
  },
  {
   "cell_type": "code",
   "execution_count": 9,
   "metadata": {},
   "outputs": [],
   "source": [
    "text_splitter = RecursiveCharacterTextSplitter(chunk_size=512, chunk_overlap=0)\n",
    "docs = text_splitter.split_documents(documents)"
   ]
  },
  {
   "cell_type": "markdown",
   "metadata": {},
   "source": [
    "Next, we choose an embedding model to be trained on our IBM products dataset. The trained embedding model is used to generate embeddings for each data point in the dataset. For text data, popular open-source embedding models include Word2Vec, GloVe, FastText or pretrained transformer-based models like BERT or RoBERTa. OpenAIembeddings may also be used by leveraging the OpenAI embeddings API endpoint, the `langchain_openai` package and getting an `openai_api_key`, however, there is a cost associated with this usage.\n",
    "\n",
    "Unfortunately, because the embedding models are so large, vector embedding often demands significant computational resources, like a gpu. We can greatly lower the costs linked to embedding vectors, while preserving performance and accuracy by using WatsonxEmbeddings. We'll use the IBM embeddings model, Slate, an encoder-only (RoBERTa-based) model, which while not generative, is fast and effective for many NLP tasks.\n",
    "\n",
    "Alternatively, we can use the [Hugging Face embeddings models](https://python.langchain.com/v0.2/docs/integrations/platforms/huggingface/#embedding-models) via LangChain.\n"
   ]
  },
  {
   "cell_type": "code",
   "execution_count": 10,
   "metadata": {},
   "outputs": [],
   "source": [
    "embeddings = WatsonxEmbeddings(\n",
    "    model_id=EmbeddingTypes.IBM_SLATE_30M_ENG.value,\n",
    "    url=credentials[\"url\"],\n",
    "    apikey=credentials[\"apikey\"],\n",
    "    project_id=project_id,\n",
    "    )"
   ]
  },
  {
   "cell_type": "markdown",
   "metadata": {},
   "source": [
    "Let's load our content into a local instance of a vector database, using Chromadb."
   ]
  },
  {
   "cell_type": "code",
   "execution_count": 11,
   "metadata": {},
   "outputs": [
    {
     "name": "stderr",
     "output_type": "stream",
     "text": [
      "Python-dotenv could not parse statement starting at line 3\n",
      "Python-dotenv could not parse statement starting at line 3\n",
      "Python-dotenv could not parse statement starting at line 3\n",
      "Python-dotenv could not parse statement starting at line 3\n",
      "Python-dotenv could not parse statement starting at line 3\n",
      "Python-dotenv could not parse statement starting at line 3\n"
     ]
    }
   ],
   "source": [
    "vectorstore = Chroma.from_documents(documents=docs, embedding=embeddings)"
   ]
  },
  {
   "cell_type": "markdown",
   "metadata": {},
   "source": [
    "Let's do a quick search of our vector database to test it out! Using `similarity_search_with_score` allows us to return the documents and the distance score of the query to them. The returned distance score is Euclidean distance. Therefore, a lower score is better."
   ]
  },
  {
   "cell_type": "code",
   "execution_count": null,
   "metadata": {},
   "outputs": [
    {
     "data": {
      "text/plain": [
       "[(Document(metadata={'id': 1, 'source': 'https://www.ibm.com/products/concert'}, page_content='IBM Concert Simplify and optimize your app management and technology operations with generative AI-driven insights Book a live demo Prioritize and act on the most significant risks to your business applications Explore risk management with IBM Concert Keep applications continuously compliant, even as they evolve Explore compliance management with IBM Concert What is IBM Concert? Get the overview IBM® Concert® puts you in control, so you can simplify and optimize your operations to focus on continuously'),\n",
       "  0.3117217421531677),\n",
       " (Document(metadata={'id': 5, 'source': 'https://www.ibm.com/cloud'}, page_content='certified on IBM Cloud Talk to an IBM expert IBM business partners'),\n",
       "  0.43175169825553894),\n",
       " (Document(metadata={'id': 1, 'source': 'https://www.ibm.com/products/concert'}, page_content='delivering enhanced client experiences and improved developer and SRE productivity IBM Concert provides generative AI insights that help you understand your application landscape and enables you to discover the connections, dependencies, gaps and opportunities in your application architecture. Powered by watsonx™, Concert seamlessly connects with your existing environment and toolsets, enabling real-time data and dependency mapping to see operational challenges, understand root causes, anticipate issues'),\n",
       "  0.4434940814971924),\n",
       " (Document(metadata={'id': 5, 'source': 'https://www.ibm.com/cloud'}, page_content='An enterprise cloud platform designed for even the most regulated industries, delivering a highly resilient, performant, secure and compliant cloud. Get started for free Register early to save 15% Learn more about IBM Concert With 230+ public cloud solutions, IBM Cloud helps clients mitigate 3rd and 4th party risk and increase time to value. “IBM Cloud is the most reliable cloud we’ve ever used globally” - Robert Green, CEO of Dizzion. Leverage watsonx.ai on IBM Cloud to deploy foundation and machine'),\n",
       "  0.4484313726425171)]"
      ]
     },
     "execution_count": 12,
     "metadata": {},
     "output_type": "execute_result"
    }
   ],
   "source": [
    "query = \"What is IBM concert?\"\n",
    "search = vectorstore.similarity_search_with_score(query)\n",
    "search"
   ]
  },
  {
   "cell_type": "markdown",
   "metadata": {},
   "source": [
    "## Step 5. Set up a retriever\n",
    "\n",
    "We'll set up our vector store as a retriever. The retrieved information from the vector store serves as additional context or knowledge that can be used by a generative model."
   ]
  },
  {
   "cell_type": "code",
   "execution_count": 13,
   "metadata": {},
   "outputs": [],
   "source": [
    "retriever = vectorstore.as_retriever()\n"
   ]
  },
  {
   "cell_type": "markdown",
   "metadata": {},
   "source": [
    "## Step 6. Generate a response with a Generative Model\n",
    "\n",
    "Finally, we’ll generate a response. The generative model (like GPT-4 or IBM Granite) uses the retrieved information to produce a more accurate and contextually relevant response to our questions about IBM products.\n",
    "\n",
    "First, we'll establish which LLM we're going to use to generate the response. For this tutorial, we'll use Llama 3."
   ]
  },
  {
   "cell_type": "code",
   "execution_count": 15,
   "metadata": {},
   "outputs": [],
   "source": [
    "model_id = ModelTypes.LLAMA_2_70B_CHAT"
   ]
  },
  {
   "cell_type": "markdown",
   "metadata": {},
   "source": [
    "The model parameters available can be found [here](https://ibm.github.io/watson-machine-learning-sdk/model.html#enums). We experimented with various model parameters, including Temperature, Top P, and Top K. [Here](https://www.ibm.com/docs/en/watsonx/saas?topic=lab-model-parameters-prompting)'s some more information on model parameters and what they mean."
   ]
  },
  {
   "cell_type": "code",
   "execution_count": 16,
   "metadata": {},
   "outputs": [],
   "source": [
    "parameters = {\n",
    "    GenParams.DECODING_METHOD: 'greedy',\n",
    "    GenParams.MIN_NEW_TOKENS: 10,\n",
    "    GenParams.MAX_NEW_TOKENS: 512,\n",
    "    GenParams.REPETITION_PENALTY:1,\n",
    "    GenParams.RETURN_OPTIONS: {'input_tokens': True,'generated_tokens': True, 'token_logprobs': True, 'token_ranks': True, }\n",
    "}"
   ]
  },
  {
   "cell_type": "markdown",
   "metadata": {},
   "source": [
    "Next, we instantiate the LLM."
   ]
  },
  {
   "cell_type": "code",
   "execution_count": 17,
   "metadata": {},
   "outputs": [],
   "source": [
    "llm = WatsonxLLM(\n",
    "    model_id=model_id.value,\n",
    "    url=credentials.get(\"url\"),\n",
    "    apikey=credentials.get(\"apikey\"),\n",
    "    project_id=project_id,\n",
    "    params=parameters\n",
    ")"
   ]
  },
  {
   "cell_type": "markdown",
   "metadata": {},
   "source": [
    "We'll set up a `prompttemplate` to ask multiple questions. The \"context\" will be derived from our retriever (our vector database) with the relevant documents and the \"question\" will be derived from the user query."
   ]
  },
  {
   "cell_type": "code",
   "execution_count": 18,
   "metadata": {},
   "outputs": [],
   "source": [
    "template = \"\"\"Generate a summary of the context that answers the question. Explain the answer in multiple steps if possible. \n",
    "Answer style should match the context. Ideal Answer Length 2-3 sentences.\\n\\n{context}\\nQuestion: {question}\\nAnswer:\n",
    "\"\"\"\n",
    "prompt = ChatPromptTemplate.from_template(template)"
   ]
  },
  {
   "cell_type": "markdown",
   "metadata": {},
   "source": [
    "Let's set up a helper function to format the docs accordingly:"
   ]
  },
  {
   "cell_type": "code",
   "execution_count": 19,
   "metadata": {},
   "outputs": [],
   "source": [
    "def format_docs(docs):\n",
    "    return \"\\n\\n\".join([d.page_content for d in docs])"
   ]
  },
  {
   "cell_type": "markdown",
   "metadata": {},
   "source": [
    "And now we can set up a chain with our context, our prompt and our LLM model. We'll use `StrOutputParser` for parsing the results. The generative model processes the augmented context along with the user's question to produce a response."
   ]
  },
  {
   "cell_type": "code",
   "execution_count": 20,
   "metadata": {},
   "outputs": [],
   "source": [
    "chain = (\n",
    "    {\"context\": retriever | format_docs, \"question\": RunnablePassthrough()}\n",
    "    | prompt\n",
    "    | llm\n",
    "    | StrOutputParser()\n",
    ")"
   ]
  },
  {
   "cell_type": "markdown",
   "metadata": {},
   "source": [
    "And now we can ask multiple questions:"
   ]
  },
  {
   "cell_type": "code",
   "execution_count": 23,
   "metadata": {},
   "outputs": [
    {
     "data": {
      "text/plain": [
       "'Watsonx is a generative AI and automation solution that helps businesses automate tasks, simplify complex processes, and save time and effort. Watsonx Orchestrate is a purpose-built AI assistant that helps end users get work done with helpful conversations. Watsonx Assistant is an AI assistant builder that allows users to quickly and easily create and deploy their own custom AI assistants without the need for coding expertise.'"
      ]
     },
     "execution_count": 23,
     "metadata": {},
     "output_type": "execute_result"
    }
   ],
   "source": [
    "chain.invoke(\"What is the difference between watsonx, watsonx assistant, and watsonx orchestrate?\")"
   ]
  },
  {
   "cell_type": "markdown",
   "metadata": {},
   "source": [
    "Let's ask about IBM Concert next."
   ]
  },
  {
   "cell_type": "code",
   "execution_count": 21,
   "metadata": {},
   "outputs": [
    {
     "data": {
      "text/plain": [
       "'\\nIBM Concert is a solution that helps organizations simplify and optimize their application management and technology operations. It uses generative AI-driven insights to provide a comprehensive understanding of the application landscape, identify potential risks and opportunities, and generate recommendations for improvement. It integrates with existing environments and toolsets to provide real-time data and dependency mapping, enabling organizations to anticipate and address issues before they happen. Additionally, it helps maintain accurate records of system states over time for enhanced security, compliance, and operational integrity.'"
      ]
     },
     "execution_count": 21,
     "metadata": {},
     "output_type": "execute_result"
    }
   ],
   "source": [
    "chain.invoke(\"What is IBM Concert?\")"
   ]
  },
  {
   "cell_type": "markdown",
   "metadata": {},
   "source": [
    "And finally, let's ask for information about RPA."
   ]
  },
  {
   "cell_type": "code",
   "execution_count": 24,
   "metadata": {},
   "outputs": [
    {
     "data": {
      "text/plain": [
       "'RPA stands for Robotic Process Automation. It is a technology that allows software bots to automate repetitive, rule-based tasks by mimicking the actions of a human user. RPA tools can automate a wide range of business processes, such as data entry, document processing, and customer service, without the need for manual intervention. RPA bots can work 24/7, increasing productivity and reducing errors. RPA can be combined with artificial intelligence (AI) to create even more advanced automation capabilities, such as natural language processing and machine learning.'"
      ]
     },
     "execution_count": 24,
     "metadata": {},
     "output_type": "execute_result"
    }
   ],
   "source": [
    "chain.invoke(\"Tell me about RPA\")"
   ]
  },
  {
   "cell_type": "markdown",
   "metadata": {},
   "source": [
    "And that's it! Feel free to ask even more questions!\n",
    "\n",
    "# Summary and next steps\n",
    "\n",
    "In this tutorial, you created a LangChain RAG system in Python with watsonx. You fetched 18 pages from https://www.ibm.com to create a vector store as context for an LLM to answer questions about IBM products.\n",
    "\n",
    "You can imagine a situation where we can create chatbots to field these questions.\n",
    "\n",
    "We encourage you to check out the [LangChain documentation page](https://python.langchain.com/v0.2/docs/tutorials/rag/) for more information and tutorials on RAG.\n",
    "\n",
    "\n",
    "## Try watsonx for free\n",
    "\n",
    "Build an AI strategy for your business on one collaborative AI and data platform called [IBM watsonx](https://www.ibm.com/watsonx), which brings together new generative AI capabilities, powered by foundation models, and traditional machine learning into a powerful platform spanning the AI lifecycle. With [watsonx.ai](https://www.ibm.com/products/watsonx-ai), you can train, validate, tune, and deploy models with ease and build AI applications in a fraction of the time with a fraction of the data.\n",
    "\n",
    "Try [watsonx.ai](https://dataplatform.cloud.ibm.com/registration/stepone), the next-generation studio for AI builders.\n",
    "\n",
    "## Next steps\n",
    "\n",
    "Explore more [articles and tutorials about watsonx](https://developer.ibm.com/components/watsonx/?) on IBM Developer."
   ]
  },
  {
   "cell_type": "markdown",
   "metadata": {},
   "source": []
  }
 ],
 "metadata": {
  "kernelspec": {
   "display_name": "Python 3 (ipykernel)",
   "language": "python",
   "name": "python3"
  },
  "language_info": {
   "codemirror_mode": {
    "name": "ipython",
    "version": 3
   },
   "file_extension": ".py",
   "mimetype": "text/x-python",
   "name": "python",
   "nbconvert_exporter": "python",
   "pygments_lexer": "ipython3",
   "version": "3.10.13"
  }
 },
 "nbformat": 4,
 "nbformat_minor": 4
}
