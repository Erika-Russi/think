{
 "cells": [
  {
   "cell_type": "markdown",
   "metadata": {},
   "source": [
    "# Use watsonx and Langchain to answer questions about Think 2024 (RAG)"
   ]
  },
  {
   "cell_type": "markdown",
   "metadata": {},
   "source": [
    "In this tutorial, we’ll use LangChain to walk through a step-by-step Retrieval Augmented Generation ([RAG](https://research.ibm.com/blog/retrieval-augmented-generation-RAG)) example in Python. For our use case, we’ll be setting up a RAG system for [IBM Think 2024](https://www.ibm.com/events/think). IBM Think 2024 is a conference where IBM announces new products, technologies, and partnerships.\n",
    "\n",
    "RAG is a technique in natural language processing (NLP) that combines information retrieval and generative models to produce more accurate, relevant and contextually aware responses. \n",
    "\n",
    "In traditional language generation tasks, [large language models](https://www.ibm.com/topics/large-language-models) (LLMs) like OpenAI’s GPT-3.5 (Generative Pre-trained Transformer) or [IBM’s Granite Models](https://www.ibm.com/products/watsonx-ai/foundation-models) are used to construct responses based on an input prompt. However, these models may struggle to produce responses that are contextually relevant, factually accurate or up to date. The models may not know the latest information on IBM Think 2024. RAG applications address this limitation by incorporating a retrieval step before response generation. During retrieval, [vector search](https://www.ibm.com/topics/vector-search) can be used to identify contextually pertinent information, such as relevant information or documents from a large corpus of text, typically stored in a [vector database](https://www.ibm.com/topics/vector-database). Finally, an LLM is used to generate a response based on the retrieved context.\n",
    "\n",
    "LangChain is a powerful, open-source framework that facilitates the development of applications using LLMs for various NLP tasks. In the context of RAG, LangChain plays a critical role by combining the strengths of retrieval-based methods and generative models to enhance the capabilities of NLP systems.\n",
    "\n",
    "For this tutorial, we will fetch content from several IBM.com websites which will make up a knowledge base from which we will provide an LLM with context to answer some questions about Think 2024.\n",
    "\n",
    "This Jupyter Notebook is available on [GitHub](https://github.com/Erika-Russi/think/blob/main/tutorials/langchain/langchain-rag.ipynb)."
   ]
  },
  {
   "cell_type": "markdown",
   "metadata": {},
   "source": [
    "# Prerequisites\n",
    "\n",
    "You need an [IBM Cloud account](https://cloud.ibm.com/registration?utm_source=ibm_developer&utm_content=in_content_link&utm_id=tutorials_awb-implement-xgboost-in-python&cm_sp=ibmdev-_-developer-_-trial) to create a [watsonx.ai](https://www.ibm.com/products/watsonx-ai?utm_source=ibm_developer&utm_content=in_content_link&utm_id=tutorials_awb-implement-xgboost-in-python&cm_sp=ibmdev-_-developer-_-product) project."
   ]
  },
  {
   "cell_type": "markdown",
   "metadata": {},
   "source": [
    "# Steps\n",
    "\n",
    "## Step 1. Set up your environment\n",
    "\n",
    "While you can choose from several tools, this tutorial walks you through how to set up an IBM account to use a Jupyter Notebook. Jupyter Notebooks are widely used within [data science](https://www.ibm.com/topics/data-science) to combine code, text, images, and [data visualizations](https://www.ibm.com/topics/data-visualization) to formulate a well-formed analysis.\n",
    "\n",
    "1. Log in to [watsonx.ai](https://dataplatform.cloud.ibm.com/registration/stepone) using your IBM Cloud account.\n",
    "\n",
    "2. Create a [watsonx.ai project](https://www.ibm.com/docs/en/watsonx/saas?topic=projects-creating-project#create-a-project).\n",
    "    - Note the `project_id` in project > General > Project ID. You'll need this for the tutorial.\n",
    "\n",
    "3. Create a [Jupyter Notebook](https://www.ibm.com/docs/en/watsonx/saas?topic=editor-creating-notebooks).\n",
    "\n",
    "This step will open a Notebook environment where you can copy the code from this tutorial to implement a RAG application for Think 2024.\n",
    "\n",
    "## Step 2. Set up a Watson Machine Learning (WML) Service Instance and API Key\n",
    "\n",
    "1. Create a [Watson Machine Learning (WML) Service](https://cloud.ibm.com/catalog/services/watson-machine-learning) instance (a free plan is offered and information about how to create the instance can be found here).\n",
    "\n",
    "2. Generate an API Key in WML. Manage > Access (IAM) > API Keys (left hand panel) > Create +. Save this API key for use in this tutorial.\n",
    "\n",
    "3. Associate the WML service to the project you created in [watsonx.ai](https://dataplatform.cloud.ibm.com/). Project > Services & Integrations > + Associate Service > Add \"Watson Machine Learning\"\n",
    "\n",
    "## Step 3. Install and import relevant libraries\n",
    "\n",
    "We'll need a few libraries for this tutorial. Make sure to import the ones below, and if they're not installed, you can resolve this with a quick pip install."
   ]
  },
  {
   "cell_type": "code",
   "execution_count": 1,
   "metadata": {},
   "outputs": [
    {
     "name": "stdout",
     "output_type": "stream",
     "text": [
      "Requirement already satisfied: langchain in /Users/erikarussi/.pyenv/versions/3.10.13/lib/python3.10/site-packages (0.1.16)\n",
      "Requirement already satisfied: pydantic<3,>=1 in /Users/erikarussi/.pyenv/versions/3.10.13/lib/python3.10/site-packages (from langchain) (2.7.1)\n",
      "Requirement already satisfied: SQLAlchemy<3,>=1.4 in /Users/erikarussi/.pyenv/versions/3.10.13/lib/python3.10/site-packages (from langchain) (2.0.29)\n",
      "Requirement already satisfied: requests<3,>=2 in /Users/erikarussi/.pyenv/versions/3.10.13/lib/python3.10/site-packages (from langchain) (2.31.0)\n",
      "Requirement already satisfied: PyYAML>=5.3 in /Users/erikarussi/.pyenv/versions/3.10.13/lib/python3.10/site-packages (from langchain) (6.0.1)\n",
      "Requirement already satisfied: jsonpatch<2.0,>=1.33 in /Users/erikarussi/.pyenv/versions/3.10.13/lib/python3.10/site-packages (from langchain) (1.33)\n",
      "Requirement already satisfied: numpy<2,>=1 in /Users/erikarussi/.pyenv/versions/3.10.13/lib/python3.10/site-packages (from langchain) (1.26.4)\n",
      "Requirement already satisfied: dataclasses-json<0.7,>=0.5.7 in /Users/erikarussi/.pyenv/versions/3.10.13/lib/python3.10/site-packages (from langchain) (0.6.4)\n",
      "Requirement already satisfied: langchain-core<0.2.0,>=0.1.42 in /Users/erikarussi/.pyenv/versions/3.10.13/lib/python3.10/site-packages (from langchain) (0.1.46)\n",
      "Requirement already satisfied: langchain-community<0.1,>=0.0.32 in /Users/erikarussi/.pyenv/versions/3.10.13/lib/python3.10/site-packages (from langchain) (0.0.34)\n",
      "Requirement already satisfied: langsmith<0.2.0,>=0.1.17 in /Users/erikarussi/.pyenv/versions/3.10.13/lib/python3.10/site-packages (from langchain) (0.1.50)\n",
      "Requirement already satisfied: tenacity<9.0.0,>=8.1.0 in /Users/erikarussi/.pyenv/versions/3.10.13/lib/python3.10/site-packages (from langchain) (8.2.3)\n",
      "Requirement already satisfied: langchain-text-splitters<0.1,>=0.0.1 in /Users/erikarussi/.pyenv/versions/3.10.13/lib/python3.10/site-packages (from langchain) (0.0.1)\n",
      "Requirement already satisfied: aiohttp<4.0.0,>=3.8.3 in /Users/erikarussi/.pyenv/versions/3.10.13/lib/python3.10/site-packages (from langchain) (3.9.5)\n",
      "Requirement already satisfied: async-timeout<5.0.0,>=4.0.0 in /Users/erikarussi/.pyenv/versions/3.10.13/lib/python3.10/site-packages (from langchain) (4.0.3)\n",
      "Requirement already satisfied: aiosignal>=1.1.2 in /Users/erikarussi/.pyenv/versions/3.10.13/lib/python3.10/site-packages (from aiohttp<4.0.0,>=3.8.3->langchain) (1.3.1)\n",
      "Requirement already satisfied: multidict<7.0,>=4.5 in /Users/erikarussi/.pyenv/versions/3.10.13/lib/python3.10/site-packages (from aiohttp<4.0.0,>=3.8.3->langchain) (6.0.5)\n",
      "Requirement already satisfied: yarl<2.0,>=1.0 in /Users/erikarussi/.pyenv/versions/3.10.13/lib/python3.10/site-packages (from aiohttp<4.0.0,>=3.8.3->langchain) (1.9.4)\n",
      "Requirement already satisfied: attrs>=17.3.0 in /Users/erikarussi/.pyenv/versions/3.10.13/lib/python3.10/site-packages (from aiohttp<4.0.0,>=3.8.3->langchain) (23.2.0)\n",
      "Requirement already satisfied: frozenlist>=1.1.1 in /Users/erikarussi/.pyenv/versions/3.10.13/lib/python3.10/site-packages (from aiohttp<4.0.0,>=3.8.3->langchain) (1.4.1)\n",
      "Requirement already satisfied: typing-inspect<1,>=0.4.0 in /Users/erikarussi/.pyenv/versions/3.10.13/lib/python3.10/site-packages (from dataclasses-json<0.7,>=0.5.7->langchain) (0.9.0)\n",
      "Requirement already satisfied: marshmallow<4.0.0,>=3.18.0 in /Users/erikarussi/.pyenv/versions/3.10.13/lib/python3.10/site-packages (from dataclasses-json<0.7,>=0.5.7->langchain) (3.21.1)\n",
      "Requirement already satisfied: jsonpointer>=1.9 in /Users/erikarussi/.pyenv/versions/3.10.13/lib/python3.10/site-packages (from jsonpatch<2.0,>=1.33->langchain) (2.4)\n",
      "Requirement already satisfied: packaging<24.0,>=23.2 in /Users/erikarussi/.pyenv/versions/3.10.13/lib/python3.10/site-packages (from langchain-core<0.2.0,>=0.1.42->langchain) (23.2)\n",
      "Requirement already satisfied: orjson<4.0.0,>=3.9.14 in /Users/erikarussi/.pyenv/versions/3.10.13/lib/python3.10/site-packages (from langsmith<0.2.0,>=0.1.17->langchain) (3.10.1)\n",
      "Requirement already satisfied: typing-extensions>=4.6.1 in /Users/erikarussi/.pyenv/versions/3.10.13/lib/python3.10/site-packages (from pydantic<3,>=1->langchain) (4.11.0)\n",
      "Requirement already satisfied: pydantic-core==2.18.2 in /Users/erikarussi/.pyenv/versions/3.10.13/lib/python3.10/site-packages (from pydantic<3,>=1->langchain) (2.18.2)\n",
      "Requirement already satisfied: annotated-types>=0.4.0 in /Users/erikarussi/.pyenv/versions/3.10.13/lib/python3.10/site-packages (from pydantic<3,>=1->langchain) (0.6.0)\n",
      "Requirement already satisfied: urllib3<3,>=1.21.1 in /Users/erikarussi/.pyenv/versions/3.10.13/lib/python3.10/site-packages (from requests<3,>=2->langchain) (2.1.0)\n",
      "Requirement already satisfied: certifi>=2017.4.17 in /Users/erikarussi/.pyenv/versions/3.10.13/lib/python3.10/site-packages (from requests<3,>=2->langchain) (2024.2.2)\n",
      "Requirement already satisfied: idna<4,>=2.5 in /Users/erikarussi/.pyenv/versions/3.10.13/lib/python3.10/site-packages (from requests<3,>=2->langchain) (3.7)\n",
      "Requirement already satisfied: charset-normalizer<4,>=2 in /Users/erikarussi/.pyenv/versions/3.10.13/lib/python3.10/site-packages (from requests<3,>=2->langchain) (3.3.2)\n",
      "Requirement already satisfied: mypy-extensions>=0.3.0 in /Users/erikarussi/.pyenv/versions/3.10.13/lib/python3.10/site-packages (from typing-inspect<1,>=0.4.0->dataclasses-json<0.7,>=0.5.7->langchain) (1.0.0)\n",
      "\n",
      "\u001b[1m[\u001b[0m\u001b[34;49mnotice\u001b[0m\u001b[1;39;49m]\u001b[0m\u001b[39;49m A new release of pip is available: \u001b[0m\u001b[31;49m23.0.1\u001b[0m\u001b[39;49m -> \u001b[0m\u001b[32;49m24.0\u001b[0m\n",
      "\u001b[1m[\u001b[0m\u001b[34;49mnotice\u001b[0m\u001b[1;39;49m]\u001b[0m\u001b[39;49m To update, run: \u001b[0m\u001b[32;49mpip install --upgrade pip\u001b[0m\n",
      "Note: you may need to restart the kernel to use updated packages.\n",
      "Requirement already satisfied: langchain_chroma in /Users/erikarussi/.pyenv/versions/3.10.13/lib/python3.10/site-packages (0.1.1)\n",
      "Requirement already satisfied: langchain-core<0.3,>=0.1.40 in /Users/erikarussi/.pyenv/versions/3.10.13/lib/python3.10/site-packages (from langchain_chroma) (0.1.46)\n",
      "Requirement already satisfied: chromadb<0.6.0,>=0.4.0 in /Users/erikarussi/.pyenv/versions/3.10.13/lib/python3.10/site-packages (from langchain_chroma) (0.5.0)\n",
      "Requirement already satisfied: fastapi<1,>=0.95.2 in /Users/erikarussi/.pyenv/versions/3.10.13/lib/python3.10/site-packages (from langchain_chroma) (0.111.0)\n",
      "Requirement already satisfied: numpy<2,>=1 in /Users/erikarussi/.pyenv/versions/3.10.13/lib/python3.10/site-packages (from langchain_chroma) (1.26.4)\n",
      "Requirement already satisfied: chroma-hnswlib==0.7.3 in /Users/erikarussi/.pyenv/versions/3.10.13/lib/python3.10/site-packages (from chromadb<0.6.0,>=0.4.0->langchain_chroma) (0.7.3)\n",
      "Requirement already satisfied: tqdm>=4.65.0 in /Users/erikarussi/.pyenv/versions/3.10.13/lib/python3.10/site-packages (from chromadb<0.6.0,>=0.4.0->langchain_chroma) (4.66.2)\n",
      "Requirement already satisfied: orjson>=3.9.12 in /Users/erikarussi/.pyenv/versions/3.10.13/lib/python3.10/site-packages (from chromadb<0.6.0,>=0.4.0->langchain_chroma) (3.10.1)\n",
      "Requirement already satisfied: opentelemetry-exporter-otlp-proto-grpc>=1.2.0 in /Users/erikarussi/.pyenv/versions/3.10.13/lib/python3.10/site-packages (from chromadb<0.6.0,>=0.4.0->langchain_chroma) (1.25.0)\n",
      "Requirement already satisfied: tokenizers>=0.13.2 in /Users/erikarussi/.pyenv/versions/3.10.13/lib/python3.10/site-packages (from chromadb<0.6.0,>=0.4.0->langchain_chroma) (0.19.1)\n",
      "Requirement already satisfied: posthog>=2.4.0 in /Users/erikarussi/.pyenv/versions/3.10.13/lib/python3.10/site-packages (from chromadb<0.6.0,>=0.4.0->langchain_chroma) (3.5.0)\n",
      "Requirement already satisfied: tenacity>=8.2.3 in /Users/erikarussi/.pyenv/versions/3.10.13/lib/python3.10/site-packages (from chromadb<0.6.0,>=0.4.0->langchain_chroma) (8.2.3)\n",
      "Requirement already satisfied: build>=1.0.3 in /Users/erikarussi/.pyenv/versions/3.10.13/lib/python3.10/site-packages (from chromadb<0.6.0,>=0.4.0->langchain_chroma) (1.2.1)\n",
      "Requirement already satisfied: opentelemetry-instrumentation-fastapi>=0.41b0 in /Users/erikarussi/.pyenv/versions/3.10.13/lib/python3.10/site-packages (from chromadb<0.6.0,>=0.4.0->langchain_chroma) (0.46b0)\n",
      "Requirement already satisfied: importlib-resources in /Users/erikarussi/.pyenv/versions/3.10.13/lib/python3.10/site-packages (from chromadb<0.6.0,>=0.4.0->langchain_chroma) (6.4.0)\n",
      "Requirement already satisfied: opentelemetry-api>=1.2.0 in /Users/erikarussi/.pyenv/versions/3.10.13/lib/python3.10/site-packages (from chromadb<0.6.0,>=0.4.0->langchain_chroma) (1.25.0)\n",
      "Requirement already satisfied: kubernetes>=28.1.0 in /Users/erikarussi/.pyenv/versions/3.10.13/lib/python3.10/site-packages (from chromadb<0.6.0,>=0.4.0->langchain_chroma) (30.1.0)\n",
      "Requirement already satisfied: PyYAML>=6.0.0 in /Users/erikarussi/.pyenv/versions/3.10.13/lib/python3.10/site-packages (from chromadb<0.6.0,>=0.4.0->langchain_chroma) (6.0.1)\n",
      "Requirement already satisfied: pydantic>=1.9 in /Users/erikarussi/.pyenv/versions/3.10.13/lib/python3.10/site-packages (from chromadb<0.6.0,>=0.4.0->langchain_chroma) (2.7.1)\n",
      "Requirement already satisfied: pypika>=0.48.9 in /Users/erikarussi/.pyenv/versions/3.10.13/lib/python3.10/site-packages (from chromadb<0.6.0,>=0.4.0->langchain_chroma) (0.48.9)\n",
      "Requirement already satisfied: mmh3>=4.0.1 in /Users/erikarussi/.pyenv/versions/3.10.13/lib/python3.10/site-packages (from chromadb<0.6.0,>=0.4.0->langchain_chroma) (4.1.0)\n",
      "Requirement already satisfied: typing-extensions>=4.5.0 in /Users/erikarussi/.pyenv/versions/3.10.13/lib/python3.10/site-packages (from chromadb<0.6.0,>=0.4.0->langchain_chroma) (4.11.0)\n",
      "Requirement already satisfied: requests>=2.28 in /Users/erikarussi/.pyenv/versions/3.10.13/lib/python3.10/site-packages (from chromadb<0.6.0,>=0.4.0->langchain_chroma) (2.31.0)\n",
      "Requirement already satisfied: bcrypt>=4.0.1 in /Users/erikarussi/.pyenv/versions/3.10.13/lib/python3.10/site-packages (from chromadb<0.6.0,>=0.4.0->langchain_chroma) (4.1.3)\n",
      "Requirement already satisfied: uvicorn[standard]>=0.18.3 in /Users/erikarussi/.pyenv/versions/3.10.13/lib/python3.10/site-packages (from chromadb<0.6.0,>=0.4.0->langchain_chroma) (0.30.1)\n",
      "Requirement already satisfied: opentelemetry-sdk>=1.2.0 in /Users/erikarussi/.pyenv/versions/3.10.13/lib/python3.10/site-packages (from chromadb<0.6.0,>=0.4.0->langchain_chroma) (1.25.0)\n",
      "Requirement already satisfied: onnxruntime>=1.14.1 in /Users/erikarussi/.pyenv/versions/3.10.13/lib/python3.10/site-packages (from chromadb<0.6.0,>=0.4.0->langchain_chroma) (1.18.0)\n",
      "Requirement already satisfied: overrides>=7.3.1 in /Users/erikarussi/.pyenv/versions/3.10.13/lib/python3.10/site-packages (from chromadb<0.6.0,>=0.4.0->langchain_chroma) (7.7.0)\n",
      "Requirement already satisfied: grpcio>=1.58.0 in /Users/erikarussi/.pyenv/versions/3.10.13/lib/python3.10/site-packages (from chromadb<0.6.0,>=0.4.0->langchain_chroma) (1.64.1)\n",
      "Requirement already satisfied: typer>=0.9.0 in /Users/erikarussi/.pyenv/versions/3.10.13/lib/python3.10/site-packages (from chromadb<0.6.0,>=0.4.0->langchain_chroma) (0.12.3)\n",
      "Requirement already satisfied: fastapi-cli>=0.0.2 in /Users/erikarussi/.pyenv/versions/3.10.13/lib/python3.10/site-packages (from fastapi<1,>=0.95.2->langchain_chroma) (0.0.4)\n",
      "Requirement already satisfied: ujson!=4.0.2,!=4.1.0,!=4.2.0,!=4.3.0,!=5.0.0,!=5.1.0,>=4.0.1 in /Users/erikarussi/.pyenv/versions/3.10.13/lib/python3.10/site-packages (from fastapi<1,>=0.95.2->langchain_chroma) (5.10.0)\n",
      "Requirement already satisfied: httpx>=0.23.0 in /Users/erikarussi/.pyenv/versions/3.10.13/lib/python3.10/site-packages (from fastapi<1,>=0.95.2->langchain_chroma) (0.27.0)\n",
      "Requirement already satisfied: email_validator>=2.0.0 in /Users/erikarussi/.pyenv/versions/3.10.13/lib/python3.10/site-packages (from fastapi<1,>=0.95.2->langchain_chroma) (2.1.1)\n",
      "Requirement already satisfied: python-multipart>=0.0.7 in /Users/erikarussi/.pyenv/versions/3.10.13/lib/python3.10/site-packages (from fastapi<1,>=0.95.2->langchain_chroma) (0.0.9)\n",
      "Requirement already satisfied: starlette<0.38.0,>=0.37.2 in /Users/erikarussi/.pyenv/versions/3.10.13/lib/python3.10/site-packages (from fastapi<1,>=0.95.2->langchain_chroma) (0.37.2)\n",
      "Requirement already satisfied: jinja2>=2.11.2 in /Users/erikarussi/.pyenv/versions/3.10.13/lib/python3.10/site-packages (from fastapi<1,>=0.95.2->langchain_chroma) (3.1.4)\n",
      "Requirement already satisfied: jsonpatch<2.0,>=1.33 in /Users/erikarussi/.pyenv/versions/3.10.13/lib/python3.10/site-packages (from langchain-core<0.3,>=0.1.40->langchain_chroma) (1.33)\n",
      "Requirement already satisfied: packaging<24.0,>=23.2 in /Users/erikarussi/.pyenv/versions/3.10.13/lib/python3.10/site-packages (from langchain-core<0.3,>=0.1.40->langchain_chroma) (23.2)\n",
      "Requirement already satisfied: langsmith<0.2.0,>=0.1.0 in /Users/erikarussi/.pyenv/versions/3.10.13/lib/python3.10/site-packages (from langchain-core<0.3,>=0.1.40->langchain_chroma) (0.1.50)\n",
      "Requirement already satisfied: tomli>=1.1.0 in /Users/erikarussi/.pyenv/versions/3.10.13/lib/python3.10/site-packages (from build>=1.0.3->chromadb<0.6.0,>=0.4.0->langchain_chroma) (2.0.1)\n",
      "Requirement already satisfied: pyproject_hooks in /Users/erikarussi/.pyenv/versions/3.10.13/lib/python3.10/site-packages (from build>=1.0.3->chromadb<0.6.0,>=0.4.0->langchain_chroma) (1.1.0)\n",
      "Requirement already satisfied: dnspython>=2.0.0 in /Users/erikarussi/.pyenv/versions/3.10.13/lib/python3.10/site-packages (from email_validator>=2.0.0->fastapi<1,>=0.95.2->langchain_chroma) (2.6.1)\n",
      "Requirement already satisfied: idna>=2.0.0 in /Users/erikarussi/.pyenv/versions/3.10.13/lib/python3.10/site-packages (from email_validator>=2.0.0->fastapi<1,>=0.95.2->langchain_chroma) (3.7)\n",
      "Requirement already satisfied: certifi in /Users/erikarussi/.pyenv/versions/3.10.13/lib/python3.10/site-packages (from httpx>=0.23.0->fastapi<1,>=0.95.2->langchain_chroma) (2024.2.2)\n",
      "Requirement already satisfied: httpcore==1.* in /Users/erikarussi/.pyenv/versions/3.10.13/lib/python3.10/site-packages (from httpx>=0.23.0->fastapi<1,>=0.95.2->langchain_chroma) (1.0.5)\n",
      "Requirement already satisfied: anyio in /Users/erikarussi/.pyenv/versions/3.10.13/lib/python3.10/site-packages (from httpx>=0.23.0->fastapi<1,>=0.95.2->langchain_chroma) (4.4.0)\n",
      "Requirement already satisfied: sniffio in /Users/erikarussi/.pyenv/versions/3.10.13/lib/python3.10/site-packages (from httpx>=0.23.0->fastapi<1,>=0.95.2->langchain_chroma) (1.3.1)\n",
      "Requirement already satisfied: h11<0.15,>=0.13 in /Users/erikarussi/.pyenv/versions/3.10.13/lib/python3.10/site-packages (from httpcore==1.*->httpx>=0.23.0->fastapi<1,>=0.95.2->langchain_chroma) (0.14.0)\n",
      "Requirement already satisfied: MarkupSafe>=2.0 in /Users/erikarussi/.pyenv/versions/3.10.13/lib/python3.10/site-packages (from jinja2>=2.11.2->fastapi<1,>=0.95.2->langchain_chroma) (2.1.5)\n",
      "Requirement already satisfied: jsonpointer>=1.9 in /Users/erikarussi/.pyenv/versions/3.10.13/lib/python3.10/site-packages (from jsonpatch<2.0,>=1.33->langchain-core<0.3,>=0.1.40->langchain_chroma) (2.4)\n",
      "Requirement already satisfied: six>=1.9.0 in /Users/erikarussi/.pyenv/versions/3.10.13/lib/python3.10/site-packages (from kubernetes>=28.1.0->chromadb<0.6.0,>=0.4.0->langchain_chroma) (1.16.0)\n",
      "Requirement already satisfied: requests-oauthlib in /Users/erikarussi/.pyenv/versions/3.10.13/lib/python3.10/site-packages (from kubernetes>=28.1.0->chromadb<0.6.0,>=0.4.0->langchain_chroma) (2.0.0)\n",
      "Requirement already satisfied: google-auth>=1.0.1 in /Users/erikarussi/.pyenv/versions/3.10.13/lib/python3.10/site-packages (from kubernetes>=28.1.0->chromadb<0.6.0,>=0.4.0->langchain_chroma) (2.30.0)\n",
      "Requirement already satisfied: python-dateutil>=2.5.3 in /Users/erikarussi/.pyenv/versions/3.10.13/lib/python3.10/site-packages (from kubernetes>=28.1.0->chromadb<0.6.0,>=0.4.0->langchain_chroma) (2.8.2)\n",
      "Requirement already satisfied: urllib3>=1.24.2 in /Users/erikarussi/.pyenv/versions/3.10.13/lib/python3.10/site-packages (from kubernetes>=28.1.0->chromadb<0.6.0,>=0.4.0->langchain_chroma) (2.1.0)\n",
      "Requirement already satisfied: oauthlib>=3.2.2 in /Users/erikarussi/.pyenv/versions/3.10.13/lib/python3.10/site-packages (from kubernetes>=28.1.0->chromadb<0.6.0,>=0.4.0->langchain_chroma) (3.2.2)\n",
      "Requirement already satisfied: websocket-client!=0.40.0,!=0.41.*,!=0.42.*,>=0.32.0 in /Users/erikarussi/.pyenv/versions/3.10.13/lib/python3.10/site-packages (from kubernetes>=28.1.0->chromadb<0.6.0,>=0.4.0->langchain_chroma) (1.8.0)\n",
      "Requirement already satisfied: protobuf in /Users/erikarussi/.pyenv/versions/3.10.13/lib/python3.10/site-packages (from onnxruntime>=1.14.1->chromadb<0.6.0,>=0.4.0->langchain_chroma) (4.25.3)\n",
      "Requirement already satisfied: coloredlogs in /Users/erikarussi/.pyenv/versions/3.10.13/lib/python3.10/site-packages (from onnxruntime>=1.14.1->chromadb<0.6.0,>=0.4.0->langchain_chroma) (15.0.1)\n",
      "Requirement already satisfied: sympy in /Users/erikarussi/.pyenv/versions/3.10.13/lib/python3.10/site-packages (from onnxruntime>=1.14.1->chromadb<0.6.0,>=0.4.0->langchain_chroma) (1.12.1)\n",
      "Requirement already satisfied: flatbuffers in /Users/erikarussi/.pyenv/versions/3.10.13/lib/python3.10/site-packages (from onnxruntime>=1.14.1->chromadb<0.6.0,>=0.4.0->langchain_chroma) (24.3.25)\n",
      "Requirement already satisfied: importlib-metadata<=7.1,>=6.0 in /Users/erikarussi/.pyenv/versions/3.10.13/lib/python3.10/site-packages (from opentelemetry-api>=1.2.0->chromadb<0.6.0,>=0.4.0->langchain_chroma) (7.1.0)\n",
      "Requirement already satisfied: deprecated>=1.2.6 in /Users/erikarussi/.pyenv/versions/3.10.13/lib/python3.10/site-packages (from opentelemetry-api>=1.2.0->chromadb<0.6.0,>=0.4.0->langchain_chroma) (1.2.14)\n",
      "Requirement already satisfied: opentelemetry-proto==1.25.0 in /Users/erikarussi/.pyenv/versions/3.10.13/lib/python3.10/site-packages (from opentelemetry-exporter-otlp-proto-grpc>=1.2.0->chromadb<0.6.0,>=0.4.0->langchain_chroma) (1.25.0)\n",
      "Requirement already satisfied: opentelemetry-exporter-otlp-proto-common==1.25.0 in /Users/erikarussi/.pyenv/versions/3.10.13/lib/python3.10/site-packages (from opentelemetry-exporter-otlp-proto-grpc>=1.2.0->chromadb<0.6.0,>=0.4.0->langchain_chroma) (1.25.0)\n",
      "Requirement already satisfied: googleapis-common-protos~=1.52 in /Users/erikarussi/.pyenv/versions/3.10.13/lib/python3.10/site-packages (from opentelemetry-exporter-otlp-proto-grpc>=1.2.0->chromadb<0.6.0,>=0.4.0->langchain_chroma) (1.63.1)\n",
      "Requirement already satisfied: opentelemetry-util-http==0.46b0 in /Users/erikarussi/.pyenv/versions/3.10.13/lib/python3.10/site-packages (from opentelemetry-instrumentation-fastapi>=0.41b0->chromadb<0.6.0,>=0.4.0->langchain_chroma) (0.46b0)\n",
      "Requirement already satisfied: opentelemetry-instrumentation==0.46b0 in /Users/erikarussi/.pyenv/versions/3.10.13/lib/python3.10/site-packages (from opentelemetry-instrumentation-fastapi>=0.41b0->chromadb<0.6.0,>=0.4.0->langchain_chroma) (0.46b0)\n",
      "Requirement already satisfied: opentelemetry-semantic-conventions==0.46b0 in /Users/erikarussi/.pyenv/versions/3.10.13/lib/python3.10/site-packages (from opentelemetry-instrumentation-fastapi>=0.41b0->chromadb<0.6.0,>=0.4.0->langchain_chroma) (0.46b0)\n",
      "Requirement already satisfied: opentelemetry-instrumentation-asgi==0.46b0 in /Users/erikarussi/.pyenv/versions/3.10.13/lib/python3.10/site-packages (from opentelemetry-instrumentation-fastapi>=0.41b0->chromadb<0.6.0,>=0.4.0->langchain_chroma) (0.46b0)\n",
      "Requirement already satisfied: setuptools>=16.0 in /Users/erikarussi/.pyenv/versions/3.10.13/lib/python3.10/site-packages (from opentelemetry-instrumentation==0.46b0->opentelemetry-instrumentation-fastapi>=0.41b0->chromadb<0.6.0,>=0.4.0->langchain_chroma) (65.5.0)\n",
      "Requirement already satisfied: wrapt<2.0.0,>=1.0.0 in /Users/erikarussi/.pyenv/versions/3.10.13/lib/python3.10/site-packages (from opentelemetry-instrumentation==0.46b0->opentelemetry-instrumentation-fastapi>=0.41b0->chromadb<0.6.0,>=0.4.0->langchain_chroma) (1.16.0)\n",
      "Requirement already satisfied: asgiref~=3.0 in /Users/erikarussi/.pyenv/versions/3.10.13/lib/python3.10/site-packages (from opentelemetry-instrumentation-asgi==0.46b0->opentelemetry-instrumentation-fastapi>=0.41b0->chromadb<0.6.0,>=0.4.0->langchain_chroma) (3.8.1)\n",
      "Requirement already satisfied: backoff>=1.10.0 in /Users/erikarussi/.pyenv/versions/3.10.13/lib/python3.10/site-packages (from posthog>=2.4.0->chromadb<0.6.0,>=0.4.0->langchain_chroma) (2.2.1)\n",
      "Requirement already satisfied: monotonic>=1.5 in /Users/erikarussi/.pyenv/versions/3.10.13/lib/python3.10/site-packages (from posthog>=2.4.0->chromadb<0.6.0,>=0.4.0->langchain_chroma) (1.6)\n",
      "Requirement already satisfied: pydantic-core==2.18.2 in /Users/erikarussi/.pyenv/versions/3.10.13/lib/python3.10/site-packages (from pydantic>=1.9->chromadb<0.6.0,>=0.4.0->langchain_chroma) (2.18.2)\n",
      "Requirement already satisfied: annotated-types>=0.4.0 in /Users/erikarussi/.pyenv/versions/3.10.13/lib/python3.10/site-packages (from pydantic>=1.9->chromadb<0.6.0,>=0.4.0->langchain_chroma) (0.6.0)\n",
      "Requirement already satisfied: charset-normalizer<4,>=2 in /Users/erikarussi/.pyenv/versions/3.10.13/lib/python3.10/site-packages (from requests>=2.28->chromadb<0.6.0,>=0.4.0->langchain_chroma) (3.3.2)\n",
      "Requirement already satisfied: huggingface-hub<1.0,>=0.16.4 in /Users/erikarussi/.pyenv/versions/3.10.13/lib/python3.10/site-packages (from tokenizers>=0.13.2->chromadb<0.6.0,>=0.4.0->langchain_chroma) (0.23.3)\n",
      "Requirement already satisfied: rich>=10.11.0 in /Users/erikarussi/.pyenv/versions/3.10.13/lib/python3.10/site-packages (from typer>=0.9.0->chromadb<0.6.0,>=0.4.0->langchain_chroma) (13.7.1)\n",
      "Requirement already satisfied: shellingham>=1.3.0 in /Users/erikarussi/.pyenv/versions/3.10.13/lib/python3.10/site-packages (from typer>=0.9.0->chromadb<0.6.0,>=0.4.0->langchain_chroma) (1.5.4)\n",
      "Requirement already satisfied: click>=8.0.0 in /Users/erikarussi/.pyenv/versions/3.10.13/lib/python3.10/site-packages (from typer>=0.9.0->chromadb<0.6.0,>=0.4.0->langchain_chroma) (8.1.7)\n",
      "Requirement already satisfied: uvloop!=0.15.0,!=0.15.1,>=0.14.0 in /Users/erikarussi/.pyenv/versions/3.10.13/lib/python3.10/site-packages (from uvicorn[standard]>=0.18.3->chromadb<0.6.0,>=0.4.0->langchain_chroma) (0.19.0)\n",
      "Requirement already satisfied: httptools>=0.5.0 in /Users/erikarussi/.pyenv/versions/3.10.13/lib/python3.10/site-packages (from uvicorn[standard]>=0.18.3->chromadb<0.6.0,>=0.4.0->langchain_chroma) (0.6.1)\n",
      "Requirement already satisfied: python-dotenv>=0.13 in /Users/erikarussi/.pyenv/versions/3.10.13/lib/python3.10/site-packages (from uvicorn[standard]>=0.18.3->chromadb<0.6.0,>=0.4.0->langchain_chroma) (1.0.1)\n",
      "Requirement already satisfied: watchfiles>=0.13 in /Users/erikarussi/.pyenv/versions/3.10.13/lib/python3.10/site-packages (from uvicorn[standard]>=0.18.3->chromadb<0.6.0,>=0.4.0->langchain_chroma) (0.22.0)\n",
      "Requirement already satisfied: websockets>=10.4 in /Users/erikarussi/.pyenv/versions/3.10.13/lib/python3.10/site-packages (from uvicorn[standard]>=0.18.3->chromadb<0.6.0,>=0.4.0->langchain_chroma) (12.0)\n",
      "Requirement already satisfied: exceptiongroup>=1.0.2 in /Users/erikarussi/.pyenv/versions/3.10.13/lib/python3.10/site-packages (from anyio->httpx>=0.23.0->fastapi<1,>=0.95.2->langchain_chroma) (1.1.3)\n",
      "Requirement already satisfied: rsa<5,>=3.1.4 in /Users/erikarussi/.pyenv/versions/3.10.13/lib/python3.10/site-packages (from google-auth>=1.0.1->kubernetes>=28.1.0->chromadb<0.6.0,>=0.4.0->langchain_chroma) (4.9)\n",
      "Requirement already satisfied: cachetools<6.0,>=2.0.0 in /Users/erikarussi/.pyenv/versions/3.10.13/lib/python3.10/site-packages (from google-auth>=1.0.1->kubernetes>=28.1.0->chromadb<0.6.0,>=0.4.0->langchain_chroma) (5.3.3)\n",
      "Requirement already satisfied: pyasn1-modules>=0.2.1 in /Users/erikarussi/.pyenv/versions/3.10.13/lib/python3.10/site-packages (from google-auth>=1.0.1->kubernetes>=28.1.0->chromadb<0.6.0,>=0.4.0->langchain_chroma) (0.4.0)\n",
      "Requirement already satisfied: filelock in /Users/erikarussi/.pyenv/versions/3.10.13/lib/python3.10/site-packages (from huggingface-hub<1.0,>=0.16.4->tokenizers>=0.13.2->chromadb<0.6.0,>=0.4.0->langchain_chroma) (3.14.0)\n",
      "Requirement already satisfied: fsspec>=2023.5.0 in /Users/erikarussi/.pyenv/versions/3.10.13/lib/python3.10/site-packages (from huggingface-hub<1.0,>=0.16.4->tokenizers>=0.13.2->chromadb<0.6.0,>=0.4.0->langchain_chroma) (2024.6.0)\n",
      "Requirement already satisfied: zipp>=0.5 in /Users/erikarussi/.pyenv/versions/3.10.13/lib/python3.10/site-packages (from importlib-metadata<=7.1,>=6.0->opentelemetry-api>=1.2.0->chromadb<0.6.0,>=0.4.0->langchain_chroma) (3.18.1)\n",
      "Requirement already satisfied: pygments<3.0.0,>=2.13.0 in /Users/erikarussi/.pyenv/versions/3.10.13/lib/python3.10/site-packages (from rich>=10.11.0->typer>=0.9.0->chromadb<0.6.0,>=0.4.0->langchain_chroma) (2.16.1)\n",
      "Requirement already satisfied: markdown-it-py>=2.2.0 in /Users/erikarussi/.pyenv/versions/3.10.13/lib/python3.10/site-packages (from rich>=10.11.0->typer>=0.9.0->chromadb<0.6.0,>=0.4.0->langchain_chroma) (3.0.0)\n",
      "Requirement already satisfied: humanfriendly>=9.1 in /Users/erikarussi/.pyenv/versions/3.10.13/lib/python3.10/site-packages (from coloredlogs->onnxruntime>=1.14.1->chromadb<0.6.0,>=0.4.0->langchain_chroma) (10.0)\n",
      "Requirement already satisfied: mpmath<1.4.0,>=1.1.0 in /Users/erikarussi/.pyenv/versions/3.10.13/lib/python3.10/site-packages (from sympy->onnxruntime>=1.14.1->chromadb<0.6.0,>=0.4.0->langchain_chroma) (1.3.0)\n",
      "Requirement already satisfied: mdurl~=0.1 in /Users/erikarussi/.pyenv/versions/3.10.13/lib/python3.10/site-packages (from markdown-it-py>=2.2.0->rich>=10.11.0->typer>=0.9.0->chromadb<0.6.0,>=0.4.0->langchain_chroma) (0.1.2)\n",
      "Requirement already satisfied: pyasn1<0.7.0,>=0.4.6 in /Users/erikarussi/.pyenv/versions/3.10.13/lib/python3.10/site-packages (from pyasn1-modules>=0.2.1->google-auth>=1.0.1->kubernetes>=28.1.0->chromadb<0.6.0,>=0.4.0->langchain_chroma) (0.6.0)\n",
      "\n",
      "\u001b[1m[\u001b[0m\u001b[34;49mnotice\u001b[0m\u001b[1;39;49m]\u001b[0m\u001b[39;49m A new release of pip is available: \u001b[0m\u001b[31;49m23.0.1\u001b[0m\u001b[39;49m -> \u001b[0m\u001b[32;49m24.0\u001b[0m\n",
      "\u001b[1m[\u001b[0m\u001b[34;49mnotice\u001b[0m\u001b[1;39;49m]\u001b[0m\u001b[39;49m To update, run: \u001b[0m\u001b[32;49mpip install --upgrade pip\u001b[0m\n",
      "Note: you may need to restart the kernel to use updated packages.\n",
      "Requirement already satisfied: langchain-community in /Users/erikarussi/.pyenv/versions/3.10.13/lib/python3.10/site-packages (0.0.34)\n",
      "Requirement already satisfied: aiohttp<4.0.0,>=3.8.3 in /Users/erikarussi/.pyenv/versions/3.10.13/lib/python3.10/site-packages (from langchain-community) (3.9.5)\n",
      "Requirement already satisfied: PyYAML>=5.3 in /Users/erikarussi/.pyenv/versions/3.10.13/lib/python3.10/site-packages (from langchain-community) (6.0.1)\n",
      "Requirement already satisfied: tenacity<9.0.0,>=8.1.0 in /Users/erikarussi/.pyenv/versions/3.10.13/lib/python3.10/site-packages (from langchain-community) (8.2.3)\n",
      "Requirement already satisfied: langsmith<0.2.0,>=0.1.0 in /Users/erikarussi/.pyenv/versions/3.10.13/lib/python3.10/site-packages (from langchain-community) (0.1.50)\n",
      "Requirement already satisfied: requests<3,>=2 in /Users/erikarussi/.pyenv/versions/3.10.13/lib/python3.10/site-packages (from langchain-community) (2.31.0)\n",
      "Requirement already satisfied: SQLAlchemy<3,>=1.4 in /Users/erikarussi/.pyenv/versions/3.10.13/lib/python3.10/site-packages (from langchain-community) (2.0.29)\n",
      "Requirement already satisfied: numpy<2,>=1 in /Users/erikarussi/.pyenv/versions/3.10.13/lib/python3.10/site-packages (from langchain-community) (1.26.4)\n",
      "Requirement already satisfied: dataclasses-json<0.7,>=0.5.7 in /Users/erikarussi/.pyenv/versions/3.10.13/lib/python3.10/site-packages (from langchain-community) (0.6.4)\n",
      "Requirement already satisfied: langchain-core<0.2.0,>=0.1.45 in /Users/erikarussi/.pyenv/versions/3.10.13/lib/python3.10/site-packages (from langchain-community) (0.1.46)\n",
      "Requirement already satisfied: frozenlist>=1.1.1 in /Users/erikarussi/.pyenv/versions/3.10.13/lib/python3.10/site-packages (from aiohttp<4.0.0,>=3.8.3->langchain-community) (1.4.1)\n",
      "Requirement already satisfied: attrs>=17.3.0 in /Users/erikarussi/.pyenv/versions/3.10.13/lib/python3.10/site-packages (from aiohttp<4.0.0,>=3.8.3->langchain-community) (23.2.0)\n",
      "Requirement already satisfied: async-timeout<5.0,>=4.0 in /Users/erikarussi/.pyenv/versions/3.10.13/lib/python3.10/site-packages (from aiohttp<4.0.0,>=3.8.3->langchain-community) (4.0.3)\n",
      "Requirement already satisfied: aiosignal>=1.1.2 in /Users/erikarussi/.pyenv/versions/3.10.13/lib/python3.10/site-packages (from aiohttp<4.0.0,>=3.8.3->langchain-community) (1.3.1)\n",
      "Requirement already satisfied: multidict<7.0,>=4.5 in /Users/erikarussi/.pyenv/versions/3.10.13/lib/python3.10/site-packages (from aiohttp<4.0.0,>=3.8.3->langchain-community) (6.0.5)\n",
      "Requirement already satisfied: yarl<2.0,>=1.0 in /Users/erikarussi/.pyenv/versions/3.10.13/lib/python3.10/site-packages (from aiohttp<4.0.0,>=3.8.3->langchain-community) (1.9.4)\n",
      "Requirement already satisfied: marshmallow<4.0.0,>=3.18.0 in /Users/erikarussi/.pyenv/versions/3.10.13/lib/python3.10/site-packages (from dataclasses-json<0.7,>=0.5.7->langchain-community) (3.21.1)\n",
      "Requirement already satisfied: typing-inspect<1,>=0.4.0 in /Users/erikarussi/.pyenv/versions/3.10.13/lib/python3.10/site-packages (from dataclasses-json<0.7,>=0.5.7->langchain-community) (0.9.0)\n",
      "Requirement already satisfied: jsonpatch<2.0,>=1.33 in /Users/erikarussi/.pyenv/versions/3.10.13/lib/python3.10/site-packages (from langchain-core<0.2.0,>=0.1.45->langchain-community) (1.33)\n",
      "Requirement already satisfied: packaging<24.0,>=23.2 in /Users/erikarussi/.pyenv/versions/3.10.13/lib/python3.10/site-packages (from langchain-core<0.2.0,>=0.1.45->langchain-community) (23.2)\n",
      "Requirement already satisfied: pydantic<3,>=1 in /Users/erikarussi/.pyenv/versions/3.10.13/lib/python3.10/site-packages (from langchain-core<0.2.0,>=0.1.45->langchain-community) (2.7.1)\n",
      "Requirement already satisfied: orjson<4.0.0,>=3.9.14 in /Users/erikarussi/.pyenv/versions/3.10.13/lib/python3.10/site-packages (from langsmith<0.2.0,>=0.1.0->langchain-community) (3.10.1)\n",
      "Requirement already satisfied: charset-normalizer<4,>=2 in /Users/erikarussi/.pyenv/versions/3.10.13/lib/python3.10/site-packages (from requests<3,>=2->langchain-community) (3.3.2)\n",
      "Requirement already satisfied: urllib3<3,>=1.21.1 in /Users/erikarussi/.pyenv/versions/3.10.13/lib/python3.10/site-packages (from requests<3,>=2->langchain-community) (2.1.0)\n",
      "Requirement already satisfied: certifi>=2017.4.17 in /Users/erikarussi/.pyenv/versions/3.10.13/lib/python3.10/site-packages (from requests<3,>=2->langchain-community) (2024.2.2)\n",
      "Requirement already satisfied: idna<4,>=2.5 in /Users/erikarussi/.pyenv/versions/3.10.13/lib/python3.10/site-packages (from requests<3,>=2->langchain-community) (3.7)\n",
      "Requirement already satisfied: typing-extensions>=4.6.0 in /Users/erikarussi/.pyenv/versions/3.10.13/lib/python3.10/site-packages (from SQLAlchemy<3,>=1.4->langchain-community) (4.11.0)\n",
      "Requirement already satisfied: jsonpointer>=1.9 in /Users/erikarussi/.pyenv/versions/3.10.13/lib/python3.10/site-packages (from jsonpatch<2.0,>=1.33->langchain-core<0.2.0,>=0.1.45->langchain-community) (2.4)\n",
      "Requirement already satisfied: annotated-types>=0.4.0 in /Users/erikarussi/.pyenv/versions/3.10.13/lib/python3.10/site-packages (from pydantic<3,>=1->langchain-core<0.2.0,>=0.1.45->langchain-community) (0.6.0)\n",
      "Requirement already satisfied: pydantic-core==2.18.2 in /Users/erikarussi/.pyenv/versions/3.10.13/lib/python3.10/site-packages (from pydantic<3,>=1->langchain-core<0.2.0,>=0.1.45->langchain-community) (2.18.2)\n",
      "Requirement already satisfied: mypy-extensions>=0.3.0 in /Users/erikarussi/.pyenv/versions/3.10.13/lib/python3.10/site-packages (from typing-inspect<1,>=0.4.0->dataclasses-json<0.7,>=0.5.7->langchain-community) (1.0.0)\n",
      "\n",
      "\u001b[1m[\u001b[0m\u001b[34;49mnotice\u001b[0m\u001b[1;39;49m]\u001b[0m\u001b[39;49m A new release of pip is available: \u001b[0m\u001b[31;49m23.0.1\u001b[0m\u001b[39;49m -> \u001b[0m\u001b[32;49m24.0\u001b[0m\n",
      "\u001b[1m[\u001b[0m\u001b[34;49mnotice\u001b[0m\u001b[1;39;49m]\u001b[0m\u001b[39;49m To update, run: \u001b[0m\u001b[32;49mpip install --upgrade pip\u001b[0m\n",
      "Note: you may need to restart the kernel to use updated packages.\n",
      "Requirement already satisfied: beautifulsoup4 in /Users/erikarussi/.pyenv/versions/3.10.13/lib/python3.10/site-packages (4.12.3)\n",
      "Requirement already satisfied: soupsieve>1.2 in /Users/erikarussi/.pyenv/versions/3.10.13/lib/python3.10/site-packages (from beautifulsoup4) (2.5)\n",
      "\n",
      "\u001b[1m[\u001b[0m\u001b[34;49mnotice\u001b[0m\u001b[1;39;49m]\u001b[0m\u001b[39;49m A new release of pip is available: \u001b[0m\u001b[31;49m23.0.1\u001b[0m\u001b[39;49m -> \u001b[0m\u001b[32;49m24.0\u001b[0m\n",
      "\u001b[1m[\u001b[0m\u001b[34;49mnotice\u001b[0m\u001b[1;39;49m]\u001b[0m\u001b[39;49m To update, run: \u001b[0m\u001b[32;49mpip install --upgrade pip\u001b[0m\n",
      "Note: you may need to restart the kernel to use updated packages.\n",
      "Requirement already satisfied: lxml in /Users/erikarussi/.pyenv/versions/3.10.13/lib/python3.10/site-packages (5.2.2)\n",
      "\n",
      "\u001b[1m[\u001b[0m\u001b[34;49mnotice\u001b[0m\u001b[1;39;49m]\u001b[0m\u001b[39;49m A new release of pip is available: \u001b[0m\u001b[31;49m23.0.1\u001b[0m\u001b[39;49m -> \u001b[0m\u001b[32;49m24.0\u001b[0m\n",
      "\u001b[1m[\u001b[0m\u001b[34;49mnotice\u001b[0m\u001b[1;39;49m]\u001b[0m\u001b[39;49m To update, run: \u001b[0m\u001b[32;49mpip install --upgrade pip\u001b[0m\n",
      "Note: you may need to restart the kernel to use updated packages.\n",
      "Requirement already satisfied: sentence-transformers in /Users/erikarussi/.pyenv/versions/3.10.13/lib/python3.10/site-packages (3.0.1)\n",
      "Requirement already satisfied: Pillow in /Users/erikarussi/.pyenv/versions/3.10.13/lib/python3.10/site-packages (from sentence-transformers) (10.2.0)\n",
      "Requirement already satisfied: scikit-learn in /Users/erikarussi/.pyenv/versions/3.10.13/lib/python3.10/site-packages (from sentence-transformers) (1.4.2)\n",
      "Requirement already satisfied: torch>=1.11.0 in /Users/erikarussi/.pyenv/versions/3.10.13/lib/python3.10/site-packages (from sentence-transformers) (2.3.1)\n",
      "Requirement already satisfied: numpy in /Users/erikarussi/.pyenv/versions/3.10.13/lib/python3.10/site-packages (from sentence-transformers) (1.26.4)\n",
      "Requirement already satisfied: tqdm in /Users/erikarussi/.pyenv/versions/3.10.13/lib/python3.10/site-packages (from sentence-transformers) (4.66.2)\n",
      "Requirement already satisfied: scipy in /Users/erikarussi/.pyenv/versions/3.10.13/lib/python3.10/site-packages (from sentence-transformers) (1.12.0)\n",
      "Requirement already satisfied: huggingface-hub>=0.15.1 in /Users/erikarussi/.pyenv/versions/3.10.13/lib/python3.10/site-packages (from sentence-transformers) (0.23.3)\n",
      "Requirement already satisfied: transformers<5.0.0,>=4.34.0 in /Users/erikarussi/.pyenv/versions/3.10.13/lib/python3.10/site-packages (from sentence-transformers) (4.41.2)\n",
      "Requirement already satisfied: typing-extensions>=3.7.4.3 in /Users/erikarussi/.pyenv/versions/3.10.13/lib/python3.10/site-packages (from huggingface-hub>=0.15.1->sentence-transformers) (4.11.0)\n",
      "Requirement already satisfied: packaging>=20.9 in /Users/erikarussi/.pyenv/versions/3.10.13/lib/python3.10/site-packages (from huggingface-hub>=0.15.1->sentence-transformers) (23.2)\n",
      "Requirement already satisfied: pyyaml>=5.1 in /Users/erikarussi/.pyenv/versions/3.10.13/lib/python3.10/site-packages (from huggingface-hub>=0.15.1->sentence-transformers) (6.0.1)\n",
      "Requirement already satisfied: fsspec>=2023.5.0 in /Users/erikarussi/.pyenv/versions/3.10.13/lib/python3.10/site-packages (from huggingface-hub>=0.15.1->sentence-transformers) (2024.6.0)\n",
      "Requirement already satisfied: filelock in /Users/erikarussi/.pyenv/versions/3.10.13/lib/python3.10/site-packages (from huggingface-hub>=0.15.1->sentence-transformers) (3.14.0)\n",
      "Requirement already satisfied: requests in /Users/erikarussi/.pyenv/versions/3.10.13/lib/python3.10/site-packages (from huggingface-hub>=0.15.1->sentence-transformers) (2.31.0)\n",
      "Requirement already satisfied: networkx in /Users/erikarussi/.pyenv/versions/3.10.13/lib/python3.10/site-packages (from torch>=1.11.0->sentence-transformers) (3.3)\n",
      "Requirement already satisfied: jinja2 in /Users/erikarussi/.pyenv/versions/3.10.13/lib/python3.10/site-packages (from torch>=1.11.0->sentence-transformers) (3.1.4)\n",
      "Requirement already satisfied: sympy in /Users/erikarussi/.pyenv/versions/3.10.13/lib/python3.10/site-packages (from torch>=1.11.0->sentence-transformers) (1.12.1)\n",
      "Requirement already satisfied: tokenizers<0.20,>=0.19 in /Users/erikarussi/.pyenv/versions/3.10.13/lib/python3.10/site-packages (from transformers<5.0.0,>=4.34.0->sentence-transformers) (0.19.1)\n",
      "Requirement already satisfied: regex!=2019.12.17 in /Users/erikarussi/.pyenv/versions/3.10.13/lib/python3.10/site-packages (from transformers<5.0.0,>=4.34.0->sentence-transformers) (2024.4.16)\n",
      "Requirement already satisfied: safetensors>=0.4.1 in /Users/erikarussi/.pyenv/versions/3.10.13/lib/python3.10/site-packages (from transformers<5.0.0,>=4.34.0->sentence-transformers) (0.4.3)\n",
      "Requirement already satisfied: joblib>=1.2.0 in /Users/erikarussi/.pyenv/versions/3.10.13/lib/python3.10/site-packages (from scikit-learn->sentence-transformers) (1.4.0)\n",
      "Requirement already satisfied: threadpoolctl>=2.0.0 in /Users/erikarussi/.pyenv/versions/3.10.13/lib/python3.10/site-packages (from scikit-learn->sentence-transformers) (3.4.0)\n",
      "Requirement already satisfied: MarkupSafe>=2.0 in /Users/erikarussi/.pyenv/versions/3.10.13/lib/python3.10/site-packages (from jinja2->torch>=1.11.0->sentence-transformers) (2.1.5)\n",
      "Requirement already satisfied: certifi>=2017.4.17 in /Users/erikarussi/.pyenv/versions/3.10.13/lib/python3.10/site-packages (from requests->huggingface-hub>=0.15.1->sentence-transformers) (2024.2.2)\n",
      "Requirement already satisfied: idna<4,>=2.5 in /Users/erikarussi/.pyenv/versions/3.10.13/lib/python3.10/site-packages (from requests->huggingface-hub>=0.15.1->sentence-transformers) (3.7)\n",
      "Requirement already satisfied: urllib3<3,>=1.21.1 in /Users/erikarussi/.pyenv/versions/3.10.13/lib/python3.10/site-packages (from requests->huggingface-hub>=0.15.1->sentence-transformers) (2.1.0)\n",
      "Requirement already satisfied: charset-normalizer<4,>=2 in /Users/erikarussi/.pyenv/versions/3.10.13/lib/python3.10/site-packages (from requests->huggingface-hub>=0.15.1->sentence-transformers) (3.3.2)\n",
      "Requirement already satisfied: mpmath<1.4.0,>=1.1.0 in /Users/erikarussi/.pyenv/versions/3.10.13/lib/python3.10/site-packages (from sympy->torch>=1.11.0->sentence-transformers) (1.3.0)\n",
      "\n",
      "\u001b[1m[\u001b[0m\u001b[34;49mnotice\u001b[0m\u001b[1;39;49m]\u001b[0m\u001b[39;49m A new release of pip is available: \u001b[0m\u001b[31;49m23.0.1\u001b[0m\u001b[39;49m -> \u001b[0m\u001b[32;49m24.0\u001b[0m\n",
      "\u001b[1m[\u001b[0m\u001b[34;49mnotice\u001b[0m\u001b[1;39;49m]\u001b[0m\u001b[39;49m To update, run: \u001b[0m\u001b[32;49mpip install --upgrade pip\u001b[0m\n",
      "Note: you may need to restart the kernel to use updated packages.\n",
      "Requirement already satisfied: selenium in /Users/erikarussi/.pyenv/versions/3.10.13/lib/python3.10/site-packages (4.21.0)\n",
      "Requirement already satisfied: urllib3[socks]<3,>=1.26 in /Users/erikarussi/.pyenv/versions/3.10.13/lib/python3.10/site-packages (from selenium) (2.1.0)\n",
      "Requirement already satisfied: trio-websocket~=0.9 in /Users/erikarussi/.pyenv/versions/3.10.13/lib/python3.10/site-packages (from selenium) (0.11.1)\n",
      "Requirement already satisfied: certifi>=2021.10.8 in /Users/erikarussi/.pyenv/versions/3.10.13/lib/python3.10/site-packages (from selenium) (2024.2.2)\n",
      "Requirement already satisfied: typing_extensions>=4.9.0 in /Users/erikarussi/.pyenv/versions/3.10.13/lib/python3.10/site-packages (from selenium) (4.11.0)\n",
      "Requirement already satisfied: trio~=0.17 in /Users/erikarussi/.pyenv/versions/3.10.13/lib/python3.10/site-packages (from selenium) (0.25.1)\n",
      "Requirement already satisfied: attrs>=23.2.0 in /Users/erikarussi/.pyenv/versions/3.10.13/lib/python3.10/site-packages (from trio~=0.17->selenium) (23.2.0)\n",
      "Requirement already satisfied: exceptiongroup in /Users/erikarussi/.pyenv/versions/3.10.13/lib/python3.10/site-packages (from trio~=0.17->selenium) (1.1.3)\n",
      "Requirement already satisfied: idna in /Users/erikarussi/.pyenv/versions/3.10.13/lib/python3.10/site-packages (from trio~=0.17->selenium) (3.7)\n",
      "Requirement already satisfied: sniffio>=1.3.0 in /Users/erikarussi/.pyenv/versions/3.10.13/lib/python3.10/site-packages (from trio~=0.17->selenium) (1.3.1)\n",
      "Requirement already satisfied: sortedcontainers in /Users/erikarussi/.pyenv/versions/3.10.13/lib/python3.10/site-packages (from trio~=0.17->selenium) (2.4.0)\n",
      "Requirement already satisfied: outcome in /Users/erikarussi/.pyenv/versions/3.10.13/lib/python3.10/site-packages (from trio~=0.17->selenium) (1.3.0.post0)\n",
      "Requirement already satisfied: wsproto>=0.14 in /Users/erikarussi/.pyenv/versions/3.10.13/lib/python3.10/site-packages (from trio-websocket~=0.9->selenium) (1.2.0)\n",
      "Requirement already satisfied: pysocks!=1.5.7,<2.0,>=1.5.6 in /Users/erikarussi/.pyenv/versions/3.10.13/lib/python3.10/site-packages (from urllib3[socks]<3,>=1.26->selenium) (1.7.1)\n",
      "Requirement already satisfied: h11<1,>=0.9.0 in /Users/erikarussi/.pyenv/versions/3.10.13/lib/python3.10/site-packages (from wsproto>=0.14->trio-websocket~=0.9->selenium) (0.14.0)\n",
      "\n",
      "\u001b[1m[\u001b[0m\u001b[34;49mnotice\u001b[0m\u001b[1;39;49m]\u001b[0m\u001b[39;49m A new release of pip is available: \u001b[0m\u001b[31;49m23.0.1\u001b[0m\u001b[39;49m -> \u001b[0m\u001b[32;49m24.0\u001b[0m\n",
      "\u001b[1m[\u001b[0m\u001b[34;49mnotice\u001b[0m\u001b[1;39;49m]\u001b[0m\u001b[39;49m To update, run: \u001b[0m\u001b[32;49mpip install --upgrade pip\u001b[0m\n",
      "Note: you may need to restart the kernel to use updated packages.\n",
      "Requirement already satisfied: unstructured in /Users/erikarussi/.pyenv/versions/3.10.13/lib/python3.10/site-packages (0.14.6)\n",
      "Requirement already satisfied: lxml in /Users/erikarussi/.pyenv/versions/3.10.13/lib/python3.10/site-packages (from unstructured) (5.2.2)\n",
      "Requirement already satisfied: beautifulsoup4 in /Users/erikarussi/.pyenv/versions/3.10.13/lib/python3.10/site-packages (from unstructured) (4.12.3)\n",
      "Requirement already satisfied: numpy in /Users/erikarussi/.pyenv/versions/3.10.13/lib/python3.10/site-packages (from unstructured) (1.26.4)\n",
      "Requirement already satisfied: requests in /Users/erikarussi/.pyenv/versions/3.10.13/lib/python3.10/site-packages (from unstructured) (2.31.0)\n",
      "Requirement already satisfied: langdetect in /Users/erikarussi/.pyenv/versions/3.10.13/lib/python3.10/site-packages (from unstructured) (1.0.9)\n",
      "Requirement already satisfied: nltk in /Users/erikarussi/.pyenv/versions/3.10.13/lib/python3.10/site-packages (from unstructured) (3.8.1)\n",
      "Requirement already satisfied: emoji in /Users/erikarussi/.pyenv/versions/3.10.13/lib/python3.10/site-packages (from unstructured) (2.12.1)\n",
      "Requirement already satisfied: wrapt in /Users/erikarussi/.pyenv/versions/3.10.13/lib/python3.10/site-packages (from unstructured) (1.16.0)\n",
      "Requirement already satisfied: rapidfuzz in /Users/erikarussi/.pyenv/versions/3.10.13/lib/python3.10/site-packages (from unstructured) (3.9.3)\n",
      "Requirement already satisfied: typing-extensions in /Users/erikarussi/.pyenv/versions/3.10.13/lib/python3.10/site-packages (from unstructured) (4.11.0)\n",
      "Requirement already satisfied: filetype in /Users/erikarussi/.pyenv/versions/3.10.13/lib/python3.10/site-packages (from unstructured) (1.2.0)\n",
      "Requirement already satisfied: python-iso639 in /Users/erikarussi/.pyenv/versions/3.10.13/lib/python3.10/site-packages (from unstructured) (2024.4.27)\n",
      "Requirement already satisfied: unstructured-client in /Users/erikarussi/.pyenv/versions/3.10.13/lib/python3.10/site-packages (from unstructured) (0.23.7)\n",
      "Requirement already satisfied: python-magic in /Users/erikarussi/.pyenv/versions/3.10.13/lib/python3.10/site-packages (from unstructured) (0.4.27)\n",
      "Requirement already satisfied: chardet in /Users/erikarussi/.pyenv/versions/3.10.13/lib/python3.10/site-packages (from unstructured) (5.2.0)\n",
      "Requirement already satisfied: dataclasses-json in /Users/erikarussi/.pyenv/versions/3.10.13/lib/python3.10/site-packages (from unstructured) (0.6.4)\n",
      "Requirement already satisfied: tabulate in /Users/erikarussi/.pyenv/versions/3.10.13/lib/python3.10/site-packages (from unstructured) (0.9.0)\n",
      "Requirement already satisfied: backoff in /Users/erikarussi/.pyenv/versions/3.10.13/lib/python3.10/site-packages (from unstructured) (2.2.1)\n",
      "Requirement already satisfied: tqdm in /Users/erikarussi/.pyenv/versions/3.10.13/lib/python3.10/site-packages (from unstructured) (4.66.2)\n",
      "Requirement already satisfied: soupsieve>1.2 in /Users/erikarussi/.pyenv/versions/3.10.13/lib/python3.10/site-packages (from beautifulsoup4->unstructured) (2.5)\n",
      "Requirement already satisfied: typing-inspect<1,>=0.4.0 in /Users/erikarussi/.pyenv/versions/3.10.13/lib/python3.10/site-packages (from dataclasses-json->unstructured) (0.9.0)\n",
      "Requirement already satisfied: marshmallow<4.0.0,>=3.18.0 in /Users/erikarussi/.pyenv/versions/3.10.13/lib/python3.10/site-packages (from dataclasses-json->unstructured) (3.21.1)\n",
      "Requirement already satisfied: six in /Users/erikarussi/.pyenv/versions/3.10.13/lib/python3.10/site-packages (from langdetect->unstructured) (1.16.0)\n",
      "Requirement already satisfied: regex>=2021.8.3 in /Users/erikarussi/.pyenv/versions/3.10.13/lib/python3.10/site-packages (from nltk->unstructured) (2024.4.16)\n",
      "Requirement already satisfied: click in /Users/erikarussi/.pyenv/versions/3.10.13/lib/python3.10/site-packages (from nltk->unstructured) (8.1.7)\n",
      "Requirement already satisfied: joblib in /Users/erikarussi/.pyenv/versions/3.10.13/lib/python3.10/site-packages (from nltk->unstructured) (1.4.0)\n",
      "Requirement already satisfied: charset-normalizer<4,>=2 in /Users/erikarussi/.pyenv/versions/3.10.13/lib/python3.10/site-packages (from requests->unstructured) (3.3.2)\n",
      "Requirement already satisfied: urllib3<3,>=1.21.1 in /Users/erikarussi/.pyenv/versions/3.10.13/lib/python3.10/site-packages (from requests->unstructured) (2.1.0)\n",
      "Requirement already satisfied: certifi>=2017.4.17 in /Users/erikarussi/.pyenv/versions/3.10.13/lib/python3.10/site-packages (from requests->unstructured) (2024.2.2)\n",
      "Requirement already satisfied: idna<4,>=2.5 in /Users/erikarussi/.pyenv/versions/3.10.13/lib/python3.10/site-packages (from requests->unstructured) (3.7)\n",
      "Requirement already satisfied: httpx>=0.27.0 in /Users/erikarussi/.pyenv/versions/3.10.13/lib/python3.10/site-packages (from unstructured-client->unstructured) (0.27.0)\n",
      "Requirement already satisfied: jsonpath-python>=1.0.6 in /Users/erikarussi/.pyenv/versions/3.10.13/lib/python3.10/site-packages (from unstructured-client->unstructured) (1.0.6)\n",
      "Requirement already satisfied: packaging>=23.1 in /Users/erikarussi/.pyenv/versions/3.10.13/lib/python3.10/site-packages (from unstructured-client->unstructured) (23.2)\n",
      "Requirement already satisfied: nest-asyncio>=1.6.0 in /Users/erikarussi/.pyenv/versions/3.10.13/lib/python3.10/site-packages (from unstructured-client->unstructured) (1.6.0)\n",
      "Requirement already satisfied: pypdf>=4.0 in /Users/erikarussi/.pyenv/versions/3.10.13/lib/python3.10/site-packages (from unstructured-client->unstructured) (4.2.0)\n",
      "Requirement already satisfied: deepdiff>=6.0 in /Users/erikarussi/.pyenv/versions/3.10.13/lib/python3.10/site-packages (from unstructured-client->unstructured) (7.0.1)\n",
      "Requirement already satisfied: requests-toolbelt>=1.0.0 in /Users/erikarussi/.pyenv/versions/3.10.13/lib/python3.10/site-packages (from unstructured-client->unstructured) (1.0.0)\n",
      "Requirement already satisfied: python-dateutil>=2.8.2 in /Users/erikarussi/.pyenv/versions/3.10.13/lib/python3.10/site-packages (from unstructured-client->unstructured) (2.8.2)\n",
      "Requirement already satisfied: mypy-extensions>=1.0.0 in /Users/erikarussi/.pyenv/versions/3.10.13/lib/python3.10/site-packages (from unstructured-client->unstructured) (1.0.0)\n",
      "Requirement already satisfied: ordered-set<4.2.0,>=4.1.0 in /Users/erikarussi/.pyenv/versions/3.10.13/lib/python3.10/site-packages (from deepdiff>=6.0->unstructured-client->unstructured) (4.1.0)\n",
      "Requirement already satisfied: anyio in /Users/erikarussi/.pyenv/versions/3.10.13/lib/python3.10/site-packages (from httpx>=0.27.0->unstructured-client->unstructured) (4.4.0)\n",
      "Requirement already satisfied: sniffio in /Users/erikarussi/.pyenv/versions/3.10.13/lib/python3.10/site-packages (from httpx>=0.27.0->unstructured-client->unstructured) (1.3.1)\n",
      "Requirement already satisfied: httpcore==1.* in /Users/erikarussi/.pyenv/versions/3.10.13/lib/python3.10/site-packages (from httpx>=0.27.0->unstructured-client->unstructured) (1.0.5)\n",
      "Requirement already satisfied: h11<0.15,>=0.13 in /Users/erikarussi/.pyenv/versions/3.10.13/lib/python3.10/site-packages (from httpcore==1.*->httpx>=0.27.0->unstructured-client->unstructured) (0.14.0)\n",
      "Requirement already satisfied: exceptiongroup>=1.0.2 in /Users/erikarussi/.pyenv/versions/3.10.13/lib/python3.10/site-packages (from anyio->httpx>=0.27.0->unstructured-client->unstructured) (1.1.3)\n",
      "\n",
      "\u001b[1m[\u001b[0m\u001b[34;49mnotice\u001b[0m\u001b[1;39;49m]\u001b[0m\u001b[39;49m A new release of pip is available: \u001b[0m\u001b[31;49m23.0.1\u001b[0m\u001b[39;49m -> \u001b[0m\u001b[32;49m24.0\u001b[0m\n",
      "\u001b[1m[\u001b[0m\u001b[34;49mnotice\u001b[0m\u001b[1;39;49m]\u001b[0m\u001b[39;49m To update, run: \u001b[0m\u001b[32;49mpip install --upgrade pip\u001b[0m\n",
      "Note: you may need to restart the kernel to use updated packages.\n",
      "Requirement already satisfied: ibm-watson-machine-learning>=1.0.327 in /Users/erikarussi/.pyenv/versions/3.10.13/lib/python3.10/site-packages (1.0.356)\n",
      "Requirement already satisfied: requests in /Users/erikarussi/.pyenv/versions/3.10.13/lib/python3.10/site-packages (from ibm-watson-machine-learning>=1.0.327) (2.31.0)\n",
      "Requirement already satisfied: pandas<2.2.0,>=0.24.2 in /Users/erikarussi/.pyenv/versions/3.10.13/lib/python3.10/site-packages (from ibm-watson-machine-learning>=1.0.327) (2.1.4)\n",
      "Requirement already satisfied: lomond in /Users/erikarussi/.pyenv/versions/3.10.13/lib/python3.10/site-packages (from ibm-watson-machine-learning>=1.0.327) (0.3.3)\n",
      "Requirement already satisfied: ibm-cos-sdk<2.14.0,>=2.12.0 in /Users/erikarussi/.pyenv/versions/3.10.13/lib/python3.10/site-packages (from ibm-watson-machine-learning>=1.0.327) (2.13.4)\n",
      "Requirement already satisfied: importlib-metadata in /Users/erikarussi/.pyenv/versions/3.10.13/lib/python3.10/site-packages (from ibm-watson-machine-learning>=1.0.327) (7.1.0)\n",
      "Requirement already satisfied: certifi in /Users/erikarussi/.pyenv/versions/3.10.13/lib/python3.10/site-packages (from ibm-watson-machine-learning>=1.0.327) (2024.2.2)\n",
      "Requirement already satisfied: tabulate in /Users/erikarussi/.pyenv/versions/3.10.13/lib/python3.10/site-packages (from ibm-watson-machine-learning>=1.0.327) (0.9.0)\n",
      "Requirement already satisfied: packaging in /Users/erikarussi/.pyenv/versions/3.10.13/lib/python3.10/site-packages (from ibm-watson-machine-learning>=1.0.327) (23.2)\n",
      "Requirement already satisfied: urllib3 in /Users/erikarussi/.pyenv/versions/3.10.13/lib/python3.10/site-packages (from ibm-watson-machine-learning>=1.0.327) (2.1.0)\n",
      "Requirement already satisfied: ibm-cos-sdk-core==2.13.4 in /Users/erikarussi/.pyenv/versions/3.10.13/lib/python3.10/site-packages (from ibm-cos-sdk<2.14.0,>=2.12.0->ibm-watson-machine-learning>=1.0.327) (2.13.4)\n",
      "Requirement already satisfied: ibm-cos-sdk-s3transfer==2.13.4 in /Users/erikarussi/.pyenv/versions/3.10.13/lib/python3.10/site-packages (from ibm-cos-sdk<2.14.0,>=2.12.0->ibm-watson-machine-learning>=1.0.327) (2.13.4)\n",
      "Requirement already satisfied: jmespath<=1.0.1,>=0.10.0 in /Users/erikarussi/.pyenv/versions/3.10.13/lib/python3.10/site-packages (from ibm-cos-sdk<2.14.0,>=2.12.0->ibm-watson-machine-learning>=1.0.327) (1.0.1)\n",
      "Requirement already satisfied: python-dateutil<3.0.0,>=2.8.2 in /Users/erikarussi/.pyenv/versions/3.10.13/lib/python3.10/site-packages (from ibm-cos-sdk-core==2.13.4->ibm-cos-sdk<2.14.0,>=2.12.0->ibm-watson-machine-learning>=1.0.327) (2.8.2)\n",
      "Requirement already satisfied: tzdata>=2022.1 in /Users/erikarussi/.pyenv/versions/3.10.13/lib/python3.10/site-packages (from pandas<2.2.0,>=0.24.2->ibm-watson-machine-learning>=1.0.327) (2024.1)\n",
      "Requirement already satisfied: numpy<2,>=1.22.4 in /Users/erikarussi/.pyenv/versions/3.10.13/lib/python3.10/site-packages (from pandas<2.2.0,>=0.24.2->ibm-watson-machine-learning>=1.0.327) (1.26.4)\n",
      "Requirement already satisfied: pytz>=2020.1 in /Users/erikarussi/.pyenv/versions/3.10.13/lib/python3.10/site-packages (from pandas<2.2.0,>=0.24.2->ibm-watson-machine-learning>=1.0.327) (2024.1)\n",
      "Requirement already satisfied: charset-normalizer<4,>=2 in /Users/erikarussi/.pyenv/versions/3.10.13/lib/python3.10/site-packages (from requests->ibm-watson-machine-learning>=1.0.327) (3.3.2)\n",
      "Requirement already satisfied: idna<4,>=2.5 in /Users/erikarussi/.pyenv/versions/3.10.13/lib/python3.10/site-packages (from requests->ibm-watson-machine-learning>=1.0.327) (3.7)\n",
      "Requirement already satisfied: zipp>=0.5 in /Users/erikarussi/.pyenv/versions/3.10.13/lib/python3.10/site-packages (from importlib-metadata->ibm-watson-machine-learning>=1.0.327) (3.18.1)\n",
      "Requirement already satisfied: six>=1.10.0 in /Users/erikarussi/.pyenv/versions/3.10.13/lib/python3.10/site-packages (from lomond->ibm-watson-machine-learning>=1.0.327) (1.16.0)\n",
      "\n",
      "\u001b[1m[\u001b[0m\u001b[34;49mnotice\u001b[0m\u001b[1;39;49m]\u001b[0m\u001b[39;49m A new release of pip is available: \u001b[0m\u001b[31;49m23.0.1\u001b[0m\u001b[39;49m -> \u001b[0m\u001b[32;49m24.0\u001b[0m\n",
      "\u001b[1m[\u001b[0m\u001b[34;49mnotice\u001b[0m\u001b[1;39;49m]\u001b[0m\u001b[39;49m To update, run: \u001b[0m\u001b[32;49mpip install --upgrade pip\u001b[0m\n",
      "Note: you may need to restart the kernel to use updated packages.\n"
     ]
    }
   ],
   "source": [
    "#installations\n",
    "%pip install langchain\n",
    "%pip install langchain_chroma\n",
    "%pip install langchain-community\n",
    "%pip install beautifulsoup4\n",
    "%pip install lxml\n",
    "%pip install sentence-transformers\n",
    "%pip install selenium\n",
    "%pip install unstructured\n",
    "%pip install \"ibm-watson-machine-learning>=1.0.327\""
   ]
  },
  {
   "cell_type": "code",
   "execution_count": 2,
   "metadata": {},
   "outputs": [],
   "source": [
    "#imports\n",
    "import os\n",
    "import json\n",
    "import getpass\n",
    "\n",
    "from ibm_watson_machine_learning.foundation_models.utils.enums import ModelTypes\n",
    "from ibm_watson_machine_learning.metanames import GenTextParamsMetaNames as GenParams\n",
    "\n",
    "\n",
    "from langchain.embeddings import HuggingFaceEmbeddings\n",
    "from langchain.llms import WatsonxLLM\n",
    "from langchain.vectorstores import Chroma\n",
    "\n",
    "from langchain_core.prompts import ChatPromptTemplate\n",
    "from langchain_core.output_parsers import StrOutputParser\n",
    "from langchain_core.runnables import RunnablePassthrough\n",
    "\n",
    "from langchain_community.document_loaders import SeleniumURLLoader\n",
    "\n",
    "from langchain_text_splitters import RecursiveCharacterTextSplitter"
   ]
  },
  {
   "cell_type": "code",
   "execution_count": 3,
   "metadata": {},
   "outputs": [],
   "source": [
    "credentials = {\n",
    "    \"url\": \"https://us-south.ml.cloud.ibm.com\",\n",
    "    \"apikey\": getpass.getpass(\"Please enter your WML api key (hit enter): \")\n",
    "}"
   ]
  },
  {
   "cell_type": "code",
   "execution_count": 4,
   "metadata": {},
   "outputs": [],
   "source": [
    "try:\n",
    "    project_id = os.environ[\"PROJECT_ID\"]\n",
    "except KeyError:\n",
    "    project_id = input(\"Please enter your project_id (hit enter): \")"
   ]
  },
  {
   "cell_type": "markdown",
   "metadata": {},
   "source": [
    "##  Step 4. Indexing\n",
    "\n",
    "We’ll index our Think 2024 specific articles from URLs to create a knowledge base as a vectorstore. The content from these URLs will be our data sources and context for this exercise. The first step to building vector embeddings is to clean and process the raw dataset. This may involve the removal of noise and standardization of the text. For our example, we won’t do any cleaning since the text is already cleaned and standardized.\n",
    "\n",
    "First, let's establish `URLS_DICTIONARY`. `URLS_DICTIONARY` helps us map the URLs from which we will be extracting the content. Let's also set up a name for our collection: `askibm_think_2024`."
   ]
  },
  {
   "cell_type": "code",
   "execution_count": 5,
   "metadata": {},
   "outputs": [],
   "source": [
    "URLS_DICTIONARY = {\n",
    "    \"ibm.com_events_think_faq.html\": \"https://www.ibm.com/events/think/faq\",\n",
    "    \"events_think_agenda.html\": \"https://www.ibm.com/events/think/agenda\",\n",
    "    \"products_watsonx_ai.html\": \"https://www.ibm.com/products/watsonx-ai\",\n",
    "    \"products_watsonx_ai_foundation_models.html\": \"https://www.ibm.com/products/watsonx-ai/foundation-models\",\n",
    "    \"watsonx_pricing.html\": \"https://www.ibm.com/watsonx/pricing\",\n",
    "    \"watsonx.html\": \"https://www.ibm.com/watsonx\",\n",
    "    \"products_watsonx_data.html\": \"https://www.ibm.com/products/watsonx-data\",\n",
    "    \"products_watsonx_assistant.html\": \"https://www.ibm.com/products/watsonx-assistant\",\n",
    "    \"products_watsonx_code_assistant.html\": \"https://www.ibm.com/products/watsonx-code-assistant\",\n",
    "    \"products_watsonx_orchestrate.html\": \"https://www.ibm.com/products/watsonx-orchestrate\",\n",
    "    \"products_watsonx_governance.html\": \"https://www.ibm.com/products/watsonx-governance\",\n",
    "    \"granite_code_models_open_source.html\": \"https://research.ibm.com/blog/granite-code-models-open-source\",\n",
    "    \"red_hat_enterprise_linux_ai.html\": \"https://www.redhat.com/en/about/press-releases/red-hat-delivers-accessible-open-source-generative-ai-innovation-red-hat-enterprise-linux-ai\",\n",
    "    \"model_choice.html\": \"https://www.ibm.com/blog/announcement/enterprise-grade-model-choices/\",\n",
    "    \"democratizing.html\": \"https://www.ibm.com/blog/announcement/democratizing-large-language-model-development-with-instructlab-support-in-watsonx-ai/\",\n",
    "    \"ibm_consulting_expands_ai.html\": \"https://newsroom.ibm.com/Blog-IBM-Consulting-Expands-Capabilities-to-Help-Enterprises-Scale-AI\",\n",
    "    \"ibm_data_product_hub.html\": \"https://www.ibm.com/products/data-product-hub\",\n",
    "    \"ibm_price_performance_data.html\": \"https://www.ibm.com/blog/announcement/delivering-superior-price-performance-and-enhanced-data-management-for-ai-with-ibm-watsonx-data/\",\n",
    "    \"ibm_bi_adoption.html\": \"https://www.ibm.com/blog/a-new-era-in-bi-overcoming-low-adoption-to-make-smart-decisions-accessible-for-all/\",\n",
    "    \"watsonx_code_assistant_for_z.html\": \"https://www.ibm.com/blog/announcement/ibm-watsonx-code-assistant-for-z-accelerate-the-application-lifecycle-with-generative-ai-and-automation/\",\n",
    "    \"code_assistant_for_java.html\": \"https://www.ibm.com/blog/announcement/watsonx-code-assistant-java/\",\n",
    "    \"code_assistant_for_orchestrate.html\": \"https://www.ibm.com/blog/announcement/watsonx-orchestrate-ai-z-assistant/\",\n",
    "    \"accelerating_gen_ai.html\": \"https://newsroom.ibm.com/Blog-How-IBM-Cloud-is-Accelerating-Business-Outcomes-with-Gen-AI\",\n",
    "    \"watsonx_open_source.html\": \"https://newsroom.ibm.com/2024-05-21-IBM-Unveils-Next-Chapter-of-watsonx-with-Open-Source,-Product-Ecosystem-Innovations-to-Drive-Enterprise-AI-at-Scale\",\n",
    "    \"ibm_concert.html\": \"https://www.ibm.com/products/concert\",\n",
    "    \"ibm_consulting_advantage_news.html\": \"https://newsroom.ibm.com/2024-01-17-IBM-Introduces-IBM-Consulting-Advantage,-an-AI-Services-Platform-and-Library-of-Assistants-to-Empower-Consultants\",\n",
    "    \"ibm_consulting_advantage_info.html\": \"https://www.ibm.com/consulting/info/ibm-consulting-advantage\"\n",
    "}\n",
    "COLLECTION_NAME = \"askibm_think_2024\""
   ]
  },
  {
   "cell_type": "markdown",
   "metadata": {},
   "source": [
    "Next, let's load our documents using the LangChain SeleniumURLLoader for the list of URLs we have. We'll print a sample document at the end to see how it's been loaded."
   ]
  },
  {
   "cell_type": "code",
   "execution_count": 6,
   "metadata": {},
   "outputs": [
    {
     "data": {
      "text/plain": [
       "Document(page_content=\"FAQ\\n\\nView session catalog\\n\\nEvent information\\n\\nThink 2024 will be held in Boston, MA.\\xa0 It will open with an exclusive, partner-only event on 20 May, filled with inspiration, networking, knowledge-sharing and business value for IBM’s global ecosystem of partners. Then, on 21–23 May, we will bring together senior business and technology leaders from across industries for two and a half days of exploration, discussion and innovation.\\n\\nThink 2024 will host senior business and technology leaders from across industries. Content will be geared toward C-level, line of business and senior IT leaders.\\n\\nThink 2024 programming will be held at the Boston Convention & Exhibition Center (BCEC), with some activities at the Omni Boston Hotel at the Seaport.\\n\\nAt IBM, we are committed to sustainability and environmentally responsible event planning. We are proud to partner with two distinguished venues, each known for their exemplary sustainable practices. Our event will take place at the Boston Convention & Exhibition Center and Omni Seaport in Boston. These venues share our dedication to reducing environmental impact, conserving resources and promoting eco-friendly practices. We are excited to collaborate with them to ensure that Think 2024 and our special events not only deliver an exceptional experience, but also align with our commitment to a greener, more sustainable future.\\n\\nRegistration\\n\\nYes, the Think 2024 event in Boston will be a fee-based event. Standard pricing is USD 1,899, effective 16 January through 23 May 2024.\\n\\nRequests for cancellation of a paid Think pass must be made in writing to\\xa0IBMThink@gpj.com. Requests received by 19 April 2024, 11:59 PM ET will receive a full refund minus an administrative fee of USD 150. After midnight ET on Saturday, 20 April 2024, no refunds will be issued. Non-attendance does not constitute cancellation. If you have extenuating circumstances, please reach out with an e-mail to\\xa0IBMThink@gpj.com.\\n\\nSubstitutions for purchased passes will be allowed for attendees from the same company, and an administrative fee of USD 150 will be applied to the new registration.\\n\\nSubstitutions for complimentary pass holders are not permitted. Please contact your IBM account representative or the Think Guest Services Team at\\xa0IBMThink@gpj.com.\\n\\nIndividuals must be over the age of 21 to participate in conference activities. Infants and young children, even under the supervision or care of an adult, may not attend conference activities at the Boston Convention and Exhibition Center and Omni Boston Hotel. This includes all activities, sessions, meal functions, meeting and exposition space, and the use of event transportation if applicable. There may be stated exceptions where individuals under the age of 21 are allowed with a purchased guest conference badge.\\n\\nIf you are having a problem logging into your IBMid, or if you need to create an IBMid, please contact the\\xa0IBMid help desk.\\n\\nPlease contact Think Guest Services via between 9 AM and 6 PM ET.\\n\\nUS/Canada: +1-866-382-7150\\n\\nInternational: +1-650-416-1881\\n\\nEmail:\\xa0IBMThink@gpj.com\\n\\nHotel and Travel\\n\\nThe official Think hotel blocks are closed. We may still have rooms available for new requests. To inquire about a new hotel booking, please email IBMThink@gpj.com and provide your arrival and departure information. Think Guest services will respond within 24 hours. For hotel changes or cancellations, please contact the hotel directly after you receive your hotel confirmation email with confirmation number.\\n\\nCancellation or changes to hotel reservations are the sole responsibility of the attendee. Cancellations within 72 hours of the reservation check-in date will result in a late cancellation fee of 1 night’s room and tax. If you do not check in on your scheduled arrival date, the remainder of your reservation will be canceled.\\n\\nYour hotel loyalty information can be added at the time of booking or with the hotel directly.\\n\\nFor hotel changes or cancellations, please contact the hotel directly and provide your hotel confirmation number which is included with your hotel confirmation email.\\n\\nIf you need to arrive early or extend your stay outside of the event dates and dates you booked with Think Guest Services, please contract the hotel directly and provide them with you hotel confirmation number. Rates will be based on the hotel's availability and are not guaranteed at the conference rate.\\n\\nIf you did not request at the time of booking your reservation with Think Guest Services, please contact the hotel directly. Please note that all requests are based on hotel availability and are not guaranteed.\\n\\nFor IBM clients and Business Partners requesting a visa invitation letter, please contact the Think Customer Service team via email at\\xa0IBMThink@gpj.com and include the following information:\\n\\nName on passport\\n\\nCompany name\\n\\nAddress\\n\\nCity\\n\\nCountry\\n\\nPlease note that an invitation letter will be provided to registered attendees only. Letters cannot be provided for guests.\\n\\nAt the event\\n\\nYes, IBM is dedicated to providing a safe, respectful, comfortable, and harassment-free environment for all participants at IBM events.\\n\\nLearn more (link resides outside ibm.com)\\xa0\\xa0about IBM's Code of Conduct at events.\\n\\nNo, unfortunately conference passes are limited and reserved for invited and registered attendees.\\n\\nThe conference attire is business casual. Comfortable shoes are recommended. Weather conditions can vary, so please review the local weather prior to your departure for the conference.\\n\\nShuttle service will not be provided from conference hotels to the Boston Convention and Exhibition Center (BCEC). The recommended options for transportation would be through your choice of Uber/Lyft/Taxi or a short walk. Hotels are within a 3 mile radius to the BCEC.\\n\\nGround transportation is not provided from/to the airport. As attendees will arrive and depart at different times, the recommended options for transportation would be through your choice of Uber/Lyft/Taxi or a scheduled private pickup.\\n\\nNo, unfortunately attendance to the Wednesday evening “Blue Block Party” special event is limited and reserved for invited and registered attendees.\\n\\nTo self-park at the BCEC ($25 and $50 for oversized vehicles), from Summer Street, turn onto East Side Drive, drive past the valet area, and continue straight along the side of the building. At the end of the building, make a right and go down the ramp. At the bottom of the ramp, turn left and you will see the entrance to the South Parking lot in front of you. Accessible parking spaces are also located in this lot, closest to the building (the same parking rates apply).\\n\\nView nearby parking lots and garage information here\\xa0(link resides outside ibm.com).\\n\\nDiversity and Inclusion\\n\\nIBM is committed to creating a respectful, friendly and inclusive experience for all participants. Diversity, equity and inclusion are core components of IBM's culture. IBM's conferences include elements such as accessibility, prayer/meditation rooms, and parent/mother rooms to help foster a deeper sense of inclusion and a welcoming experience for all participants.\\n\\nIf you have an accessibility-related need, please let us know in your registration profile or email Guest Services directly at IBMThink@gpj.com, ideally at least two to three weeks prior to the conference. Once we receive your request, one of our ambassadors will contact you.\\n\\nWhen we know, you’ll know\\n\\nGet updates on speakers, sessions and essential conference information, delivered right to your inbox.\\n\\nSubscribe\", metadata={'source': 'https://www.ibm.com/events/think/faq', 'title': 'Think 2024 FAQ | IBM', 'description': 'Think FAQ Questions and Answers.', 'language': 'en-us'})"
      ]
     },
     "execution_count": 6,
     "metadata": {},
     "output_type": "execute_result"
    }
   ],
   "source": [
    "documents = []\n",
    "\n",
    "for url in list(URLS_DICTIONARY.values()):\n",
    "    loader = SeleniumURLLoader(urls=[url])\n",
    "    data = loader.load()\n",
    "    documents += data\n",
    "\n",
    "#show sample document\n",
    "documents[0]"
   ]
  },
  {
   "cell_type": "markdown",
   "metadata": {},
   "source": [
    "Based on the sample document, it looks like there's a lot of white space and new line characters that we can get rid of. Let's clean that up and add some metadata to our documents, including an id number and the source of the content."
   ]
  },
  {
   "cell_type": "code",
   "execution_count": 8,
   "metadata": {},
   "outputs": [
    {
     "name": "stdout",
     "output_type": "stream",
     "text": [
      "{'source': 'https://www.ibm.com/events/think/faq', 'title': 'Think 2024 FAQ | IBM', 'description': 'Think FAQ Questions and Answers.', 'language': 'en-us', 'id': 0}\n",
      "{'source': 'https://www.ibm.com/events/think/agenda', 'title': 'IBM Think 2024 Agenda', 'description': \"IBM's Think 2024 Agenda on  20–23 May 2024, Boston, MA.\", 'language': 'en-us', 'id': 1}\n",
      "{'source': 'https://www.ibm.com/products/watsonx-ai', 'title': 'IBM watsonx.ai', 'description': 'Build in our new studio for foundation models, generative AI and machine learning with watsonx.ai.', 'language': 'en-us', 'id': 2}\n",
      "{'source': 'https://www.ibm.com/products/watsonx-ai/foundation-models', 'title': 'Foundation Models - IBM watsonx.ai', 'description': 'Explore the family of language and code foundation models within the watsonx platform. ', 'language': 'en-us', 'id': 3}\n",
      "{'source': 'https://www.ibm.com/watsonx/pricing', 'title': 'IBM watsonx | Pricing', 'description': 'IBM watsonx.ai pricing', 'language': 'en-us', 'id': 4}\n",
      "{'source': 'https://www.ibm.com/watsonx', 'title': 'IBM watsonx —\\xa0An AI and data platform built for business', 'description': 'IBM® watsonx™ includes three core components and a set of AI assistants designed to help you scale and accelerate the impact of AI across your business.', 'language': 'en-us', 'id': 5}\n",
      "{'source': 'https://www.ibm.com/products/watsonx-data', 'title': 'IBM watsonx.data', 'description': 'Scale AI workloads, for all your data, anywhere, with watsonx.data.', 'language': 'en-us', 'id': 6}\n",
      "{'source': 'https://www.ibm.com/products/watsonx-assistant', 'title': 'IBM watsonx Assistant Virtual Agent', 'description': 'IBM watsonx Assistant provides customers with fast, consistent and accurate answers across any application, device or channel.', 'language': 'en-us', 'id': 7}\n",
      "{'source': 'https://www.ibm.com/products/watsonx-code-assistant', 'title': 'IBM watsonx Code Assistant', 'description': 'IBM watsonx Code Assistant is a solution that leverages generative AI to accelerate code generation and increase developer productivity.', 'language': 'en-us', 'id': 8}\n",
      "{'source': 'https://www.ibm.com/products/watsonx-orchestrate', 'title': 'IBM watsonx Orchestrate', 'description': 'A digital worker trained on the Orchestrate platform uses automation and integrations to reduce repetitive tasks and streamline the workflows and reduce load on your human resource team and talent acquisition teams.', 'language': 'en-us', 'id': 9}\n",
      "{'source': 'https://www.ibm.com/products/watsonx-governance', 'title': 'IBM watsonx.governance', 'description': 'Build responsible, transparent and explainable AI workflows with watsonx.governance.', 'language': 'en-us', 'id': 10}\n",
      "{'source': 'https://research.ibm.com/blog/granite-code-models-open-source', 'title': 'IBM’s Granite code model family is going open source - IBM Research', 'description': 'IBM is open sourcing family of Granite code models to make coding as easy as possible — for as many developers as possible.', 'language': 'en-US', 'id': 11}\n",
      "{'source': 'https://www.redhat.com/en/about/press-releases/red-hat-delivers-accessible-open-source-generative-ai-innovation-red-hat-enterprise-linux-ai', 'title': 'Red Hat Delivers Accessible, Open Source Generative AI Innovation with Red Hat Enterprise Linux AI', 'description': 'Red Hat announces the launch of Red Hat Enterprise Linux AI (RHEL AI), a foundation model platform that enables users to more seamlessly develop, test and deploy generative AI (GenAI) models.', 'language': 'en', 'id': 12}\n",
      "{'source': 'https://www.ibm.com/blog/announcement/enterprise-grade-model-choices/', 'title': 'New strategic partnerships from IBM offer clients a wide range of enterprise-grade model choices - IBM Blog', 'description': 'At IBM, we take a differentiated approach to delivering enterprise-grade models that help clients scale quality gen AI with confidence.', 'language': 'en-US', 'id': 13}\n",
      "{'source': 'https://www.ibm.com/blog/announcement/democratizing-large-language-model-development-with-instructlab-support-in-watsonx-ai/', 'title': 'Democratizing Large Language Model development with InstructLab support in watsonx.ai - IBM Blog', 'description': 'We believe in a better path forward to help enable real collaborative model development in the open—to democratize AI building for everyone.', 'language': 'en-US', 'id': 14}\n",
      "{'source': 'https://newsroom.ibm.com/Blog-IBM-Consulting-Expands-Capabilities-to-Help-Enterprises-Scale-AI', 'title': 'IBM Consulting Expands Capabilities to Help Enterprises Scale AI', 'description': 'IBM Consulting is announcing that we are planning to launch a practice to help clients create their own AI foundation models and LLMs using this open-source approach. IBM consultants will help enterprise clients leverage their proprietary data to train purpose-specific AI models that can be scaled to better fit the cost and performance requirements of an enterprise’s business needs. ', 'language': 'en-us', 'id': 15}\n",
      "{'source': 'https://www.ibm.com/products/data-product-hub', 'title': 'IBM Data Product Hub', 'description': 'IBM Data Product Hub enables creation and sharing of data products with data consumers who can discover and use the right data in a compliant manner from a reliable data marketplace.', 'language': 'en-us', 'id': 16}\n",
      "{'source': 'https://www.ibm.com/blog/announcement/delivering-superior-price-performance-and-enhanced-data-management-for-ai-with-ibm-watsonx-data/', 'title': 'Delivering superior price-performance and enhanced data management for AI with IBM watsonx.data - IBM Blog', 'description': 'Watsonx.data enables enterprises to unlock value in their existing data by connecting to existing storage and analytical environments.', 'language': 'en-US', 'id': 17}\n",
      "{'source': 'https://www.ibm.com/blog/a-new-era-in-bi-overcoming-low-adoption-to-make-smart-decisions-accessible-for-all/', 'title': 'A new era in BI: Overcoming low adoption to make smart decisions accessible for all - IBM Blog', 'description': 'A deeper look into why business intelligence challenges might persist and what it means for users across an organization.', 'language': 'en-US', 'id': 18}\n",
      "{'source': 'https://www.ibm.com/blog/announcement/ibm-watsonx-code-assistant-for-z-accelerate-the-application-lifecycle-with-generative-ai-and-automation/', 'title': 'IBM watsonx Code Assistant for Z: accelerate the application lifecycle with generative AI and automation - IBM Blog', 'description': 'We are excited to announce a new product capability, code explanation, available as an add-on to watsonx Code Assistant for Z.', 'language': 'en-US', 'id': 19}\n",
      "{'source': 'https://www.ibm.com/blog/announcement/watsonx-code-assistant-java/', 'title': 'Accelerating the Java application lifecycle with generative AI and automation - IBM Blog', 'description': 'At Think 2024 conference, we are excited to announce an upcoming preview of IBM watsonx™ Code Assistant for Enterprise Java Applications.', 'language': 'en-US', 'id': 20}\n",
      "{'source': 'https://www.ibm.com/blog/announcement/watsonx-orchestrate-ai-z-assistant/', 'title': 'Announcing IBM watsonx Assistant for Z and D&B Ask Procurement, new generative AI assistants built with IBM watsonx Orchestrate - IBM Blog', 'description': 'The new AI Assistant Builder in IBM watsonx Orchestrate a low-code platform that helps you automate workflows and decision-making processes.', 'language': 'en-US', 'id': 21}\n",
      "{'source': 'https://newsroom.ibm.com/Blog-How-IBM-Cloud-is-Accelerating-Business-Outcomes-with-Gen-AI', 'title': 'How IBM Cloud is Accelerating Business Outcomes with Gen AI', 'description': 'IBM Cloud is helping our clients boost competitiveness with the combined power of our hybrid cloud and AI stack. Our enterprise cloud platform is built for even the most regulated industries, and coupled with our heritage in high performance computing (HPC), we are uniquely positioned to support the AI infrastructure needed for performance intensive workloads. We’re working on several new solutions and tailor-made collaborations to help enable a seamless and secure integration of AI.', 'language': 'en-us', 'id': 22}\n",
      "{'source': 'https://newsroom.ibm.com/2024-05-21-IBM-Unveils-Next-Chapter-of-watsonx-with-Open-Source,-Product-Ecosystem-Innovations-to-Drive-Enterprise-AI-at-Scale', 'title': 'IBM Unveils Next Chapter of watsonx with Open Source, Product & Ecosystem Innovations to Drive Enterprise AI at Scale', 'description': 'IBM announced several new updates to its watsonx platform one year after its introduction, as well as upcoming data and automation capabilities designed to make artificial intelligence (AI) more open, cost effective, and flexible for businesses. ', 'language': 'en-us', 'id': 23}\n",
      "{'source': 'https://www.ibm.com/products/concert', 'title': 'IBM Concert', 'description': 'IBM Concert is a generative AI-driven technology automation platform that puts you in control, enabling you to simplify and optimize your operations—across your environments.', 'language': 'en-us', 'id': 24}\n",
      "{'source': 'https://newsroom.ibm.com/2024-01-17-IBM-Introduces-IBM-Consulting-Advantage,-an-AI-Services-Platform-and-Library-of-Assistants-to-Empower-Consultants', 'title': 'IBM Introduces IBM Consulting Advantage, an AI Services Platform and Library of Assistants to Empower Consultants - Jan 17, 2024', 'description': 'The latest news from IBM', 'language': 'en-us', 'id': 25}\n",
      "{'source': 'https://www.ibm.com/consulting/info/ibm-consulting-advantage', 'title': 'IBM Consulting Advantage', 'description': 'IBM Consulting IP assets and pre-configured solutions are now easier to access, deploy, and scale using conversational generative AI tools.', 'language': 'en-us', 'id': 26}\n"
     ]
    }
   ],
   "source": [
    "doc_id = 0\n",
    "for doc in documents:\n",
    "    doc.page_content = \" \".join(doc.page_content.split()) # remove white space\n",
    "\n",
    "    doc.metadata[\"id\"] = doc_id #make a document id and add it to the document metadata\n",
    "\n",
    "    print(doc.metadata)\n",
    "    doc_id += 1"
   ]
  },
  {
   "cell_type": "markdown",
   "metadata": {},
   "source": [
    "Let's see how our sample document looks now after we cleaned it up:"
   ]
  },
  {
   "cell_type": "code",
   "execution_count": 9,
   "metadata": {},
   "outputs": [
    {
     "data": {
      "text/plain": [
       "Document(page_content=\"FAQ View session catalog Event information Think 2024 will be held in Boston, MA. It will open with an exclusive, partner-only event on 20 May, filled with inspiration, networking, knowledge-sharing and business value for IBM’s global ecosystem of partners. Then, on 21–23 May, we will bring together senior business and technology leaders from across industries for two and a half days of exploration, discussion and innovation. Think 2024 will host senior business and technology leaders from across industries. Content will be geared toward C-level, line of business and senior IT leaders. Think 2024 programming will be held at the Boston Convention & Exhibition Center (BCEC), with some activities at the Omni Boston Hotel at the Seaport. At IBM, we are committed to sustainability and environmentally responsible event planning. We are proud to partner with two distinguished venues, each known for their exemplary sustainable practices. Our event will take place at the Boston Convention & Exhibition Center and Omni Seaport in Boston. These venues share our dedication to reducing environmental impact, conserving resources and promoting eco-friendly practices. We are excited to collaborate with them to ensure that Think 2024 and our special events not only deliver an exceptional experience, but also align with our commitment to a greener, more sustainable future. Registration Yes, the Think 2024 event in Boston will be a fee-based event. Standard pricing is USD 1,899, effective 16 January through 23 May 2024. Requests for cancellation of a paid Think pass must be made in writing to IBMThink@gpj.com. Requests received by 19 April 2024, 11:59 PM ET will receive a full refund minus an administrative fee of USD 150. After midnight ET on Saturday, 20 April 2024, no refunds will be issued. Non-attendance does not constitute cancellation. If you have extenuating circumstances, please reach out with an e-mail to IBMThink@gpj.com. Substitutions for purchased passes will be allowed for attendees from the same company, and an administrative fee of USD 150 will be applied to the new registration. Substitutions for complimentary pass holders are not permitted. Please contact your IBM account representative or the Think Guest Services Team at IBMThink@gpj.com. Individuals must be over the age of 21 to participate in conference activities. Infants and young children, even under the supervision or care of an adult, may not attend conference activities at the Boston Convention and Exhibition Center and Omni Boston Hotel. This includes all activities, sessions, meal functions, meeting and exposition space, and the use of event transportation if applicable. There may be stated exceptions where individuals under the age of 21 are allowed with a purchased guest conference badge. If you are having a problem logging into your IBMid, or if you need to create an IBMid, please contact the IBMid help desk. Please contact Think Guest Services via between 9 AM and 6 PM ET. US/Canada: +1-866-382-7150 International: +1-650-416-1881 Email: IBMThink@gpj.com Hotel and Travel The official Think hotel blocks are closed. We may still have rooms available for new requests. To inquire about a new hotel booking, please email IBMThink@gpj.com and provide your arrival and departure information. Think Guest services will respond within 24 hours. For hotel changes or cancellations, please contact the hotel directly after you receive your hotel confirmation email with confirmation number. Cancellation or changes to hotel reservations are the sole responsibility of the attendee. Cancellations within 72 hours of the reservation check-in date will result in a late cancellation fee of 1 night’s room and tax. If you do not check in on your scheduled arrival date, the remainder of your reservation will be canceled. Your hotel loyalty information can be added at the time of booking or with the hotel directly. For hotel changes or cancellations, please contact the hotel directly and provide your hotel confirmation number which is included with your hotel confirmation email. If you need to arrive early or extend your stay outside of the event dates and dates you booked with Think Guest Services, please contract the hotel directly and provide them with you hotel confirmation number. Rates will be based on the hotel's availability and are not guaranteed at the conference rate. If you did not request at the time of booking your reservation with Think Guest Services, please contact the hotel directly. Please note that all requests are based on hotel availability and are not guaranteed. For IBM clients and Business Partners requesting a visa invitation letter, please contact the Think Customer Service team via email at IBMThink@gpj.com and include the following information: Name on passport Company name Address City Country Please note that an invitation letter will be provided to registered attendees only. Letters cannot be provided for guests. At the event Yes, IBM is dedicated to providing a safe, respectful, comfortable, and harassment-free environment for all participants at IBM events. Learn more (link resides outside ibm.com) about IBM's Code of Conduct at events. No, unfortunately conference passes are limited and reserved for invited and registered attendees. The conference attire is business casual. Comfortable shoes are recommended. Weather conditions can vary, so please review the local weather prior to your departure for the conference. Shuttle service will not be provided from conference hotels to the Boston Convention and Exhibition Center (BCEC). The recommended options for transportation would be through your choice of Uber/Lyft/Taxi or a short walk. Hotels are within a 3 mile radius to the BCEC. Ground transportation is not provided from/to the airport. As attendees will arrive and depart at different times, the recommended options for transportation would be through your choice of Uber/Lyft/Taxi or a scheduled private pickup. No, unfortunately attendance to the Wednesday evening “Blue Block Party” special event is limited and reserved for invited and registered attendees. To self-park at the BCEC ($25 and $50 for oversized vehicles), from Summer Street, turn onto East Side Drive, drive past the valet area, and continue straight along the side of the building. At the end of the building, make a right and go down the ramp. At the bottom of the ramp, turn left and you will see the entrance to the South Parking lot in front of you. Accessible parking spaces are also located in this lot, closest to the building (the same parking rates apply). View nearby parking lots and garage information here (link resides outside ibm.com). Diversity and Inclusion IBM is committed to creating a respectful, friendly and inclusive experience for all participants. Diversity, equity and inclusion are core components of IBM's culture. IBM's conferences include elements such as accessibility, prayer/meditation rooms, and parent/mother rooms to help foster a deeper sense of inclusion and a welcoming experience for all participants. If you have an accessibility-related need, please let us know in your registration profile or email Guest Services directly at IBMThink@gpj.com, ideally at least two to three weeks prior to the conference. Once we receive your request, one of our ambassadors will contact you. When we know, you’ll know Get updates on speakers, sessions and essential conference information, delivered right to your inbox. Subscribe\", metadata={'source': 'https://www.ibm.com/events/think/faq', 'title': 'Think 2024 FAQ | IBM', 'description': 'Think FAQ Questions and Answers.', 'language': 'en-us', 'id': 0})"
      ]
     },
     "execution_count": 9,
     "metadata": {},
     "output_type": "execute_result"
    }
   ],
   "source": [
    "documents[0]"
   ]
  },
  {
   "cell_type": "markdown",
   "metadata": {},
   "source": [
    "We need to split up our text into smaller, more manageable pieces known as \"chunks\". LangChain's `RecursiveCharacterTextSplitter` takes a large text and splits it based on a specified chunk size using a predefined set of characters. The default characters are [\"\\n\\n\", \"\\n\", \" \", \"\"].\n",
    "\n",
    "The process starts by attempting to split the text using the first character, \\n\\n. If the resulting chunks are still too large, it moves to the next character, \\n, and tries splitting again. This continues with each character in the set until the chunks are smaller than the specified chunk size.\n",
    "\n",
    "We settled on a chunk size of 512 after experimenting with a chunk size of 1000. When the chunks were that large, our model was getting too much context for question-answering, so we changed it to smaller chunks. Feel free to experiment with chunk size further!\n"
   ]
  },
  {
   "cell_type": "code",
   "execution_count": 10,
   "metadata": {},
   "outputs": [],
   "source": [
    "text_splitter = RecursiveCharacterTextSplitter(chunk_size=512, chunk_overlap=0)\n",
    "docs = text_splitter.split_documents(documents)"
   ]
  },
  {
   "cell_type": "markdown",
   "metadata": {},
   "source": [
    "Next, we choose an embedding model to be trained on our Think 2024 dataset. The trained embedding model is used to generate embeddings for each data point in the dataset. For text data, popular open-source embedding models include Word2Vec, GloVe, FastText or pre-trained transformer-based models like BERT or RoBERTa. OpenAIembeddings may also be used by leveraging the OpenAI embeddings API endpoint and getting an `openai_api_key`, however, there is a cost associated with this usage.\n",
    "\n",
    "Unfortunately, because the embedding models are so large, vector embedding often demands significant computational resources like a GPU. We can greatly lower the costs linked to embedding vectors, while preserving performance and accuracy by using Huggingface embeddings.\n",
    "\n",
    "Huggingface is an NLP library that provides a vast array of pre-trained models and embeddings. These embeddings, generated from models like BERT, GPT and RoBERTa, encapsulate semantic information from text. Unlike traditional embedding methods that necessitate training from scratch, Huggingface embeddings offer precomputed representations that can be immediately used for various NLP tasks."
   ]
  },
  {
   "cell_type": "code",
   "execution_count": 11,
   "metadata": {},
   "outputs": [
    {
     "name": "stderr",
     "output_type": "stream",
     "text": [
      "/Users/erikarussi/.pyenv/versions/3.10.13/lib/python3.10/site-packages/sentence_transformers/cross_encoder/CrossEncoder.py:11: TqdmWarning: IProgress not found. Please update jupyter and ipywidgets. See https://ipywidgets.readthedocs.io/en/stable/user_install.html\n",
      "  from tqdm.autonotebook import tqdm, trange\n"
     ]
    }
   ],
   "source": [
    "embeddings = HuggingFaceEmbeddings()"
   ]
  },
  {
   "cell_type": "markdown",
   "metadata": {},
   "source": [
    "Let's load our content into a local instance of a vector database, using Chroma."
   ]
  },
  {
   "cell_type": "code",
   "execution_count": 12,
   "metadata": {},
   "outputs": [
    {
     "name": "stderr",
     "output_type": "stream",
     "text": [
      "Python-dotenv could not parse statement starting at line 3\n",
      "Python-dotenv could not parse statement starting at line 3\n",
      "Python-dotenv could not parse statement starting at line 3\n",
      "Python-dotenv could not parse statement starting at line 3\n",
      "Python-dotenv could not parse statement starting at line 3\n",
      "Python-dotenv could not parse statement starting at line 3\n"
     ]
    }
   ],
   "source": [
    "vectorstore = Chroma.from_documents(documents=docs, embedding=embeddings)"
   ]
  },
  {
   "cell_type": "markdown",
   "metadata": {},
   "source": [
    "Let's do a quick search of our vector database to test it out! Using `similarity_search_with_score` allows us to return the documents and the distance score of the query to them. The returned distance score is Euclidean distance. Therefore, a lower score is better."
   ]
  },
  {
   "cell_type": "code",
   "execution_count": 13,
   "metadata": {},
   "outputs": [
    {
     "data": {
      "text/plain": [
       "[(Document(page_content='Book a live demo IBM Concert Simplify and optimize your app management and technology operations with generative AI-driven insights Book a live demo Prioritize and act on the most significant risks to your business applications Explore risk management with IBM Concert Keep applications continuously compliant, even as they evolve Explore compliance management with IBM Concert What is IBM Concert? Get the overview IBM® Concert® puts you in control, so you can simplify and optimize your operations to focus on', metadata={'description': 'IBM Concert is a generative AI-driven technology automation platform that puts you in control, enabling you to simplify and optimize your operations—across your environments.', 'id': 24, 'language': 'en-us', 'source': 'https://www.ibm.com/products/concert', 'title': 'IBM Concert'}),\n",
       "  0.585679292678833),\n",
       " (Document(page_content='responsive in addressing issues and solving problems before they happen. Concert will initially focus on helping application owners, SREs and IT leaders gain insights about, pre-empt and more quickly address issues around application risk and compliance management. Read this blog to learn more about IBM Concert. IBM expands ecosystem access to watsonx, adds third-party models IBM continues to foster a strong ecosystem of partners to offer clients choice and flexibility through bringing third-party models', metadata={'description': 'IBM announced several new updates to its watsonx platform one year after its introduction, as well as upcoming data and automation capabilities designed to make artificial intelligence (AI) more open, cost effective, and flexible for businesses. ', 'id': 23, 'language': 'en-us', 'source': 'https://newsroom.ibm.com/2024-05-21-IBM-Unveils-Next-Chapter-of-watsonx-with-Open-Source,-Product-Ecosystem-Innovations-to-Drive-Enterprise-AI-at-Scale', 'title': 'IBM Unveils Next Chapter of watsonx with Open Source, Product & Ecosystem Innovations to Drive Enterprise AI at Scale'}),\n",
       "  0.5917125344276428),\n",
       " (Document(page_content=\"(the same parking rates apply). View nearby parking lots and garage information here (link resides outside ibm.com). Diversity and Inclusion IBM is committed to creating a respectful, friendly and inclusive experience for all participants. Diversity, equity and inclusion are core components of IBM's culture. IBM's conferences include elements such as accessibility, prayer/meditation rooms, and parent/mother rooms to help foster a deeper sense of inclusion and a welcoming experience for all participants. If\", metadata={'description': 'Think FAQ Questions and Answers.', 'id': 0, 'language': 'en-us', 'source': 'https://www.ibm.com/events/think/faq', 'title': 'Think 2024 FAQ | IBM'}),\n",
       "  0.7810706496238708),\n",
       " (Document(page_content='FAQ View session catalog Event information Think 2024 will be held in Boston, MA. It will open with an exclusive, partner-only event on 20 May, filled with inspiration, networking, knowledge-sharing and business value for IBM’s global ecosystem of partners. Then, on 21–23 May, we will bring together senior business and technology leaders from across industries for two and a half days of exploration, discussion and innovation. Think 2024 will host senior business and technology leaders from across', metadata={'description': 'Think FAQ Questions and Answers.', 'id': 0, 'language': 'en-us', 'source': 'https://www.ibm.com/events/think/faq', 'title': 'Think 2024 FAQ | IBM'}),\n",
       "  0.8347864151000977)]"
      ]
     },
     "execution_count": 13,
     "metadata": {},
     "output_type": "execute_result"
    }
   ],
   "source": [
    "prompt = \"What is IBM concert?\"\n",
    "search = vectorstore.similarity_search_with_score(prompt)\n",
    "search"
   ]
  },
  {
   "cell_type": "code",
   "execution_count": 14,
   "metadata": {},
   "outputs": [
    {
     "data": {
      "text/plain": [
       "[(Document(page_content='industries. Content will be geared toward C-level, line of business and senior IT leaders. Think 2024 programming will be held at the Boston Convention & Exhibition Center (BCEC), with some activities at the Omni Boston Hotel at the Seaport. At IBM, we are committed to sustainability and environmentally responsible event planning. We are proud to partner with two distinguished venues, each known for their exemplary sustainable practices. Our event will take place at the Boston Convention & Exhibition', metadata={'description': 'Think FAQ Questions and Answers.', 'id': 0, 'language': 'en-us', 'source': 'https://www.ibm.com/events/think/faq', 'title': 'Think 2024 FAQ | IBM'}),\n",
       "  0.6141491532325745),\n",
       " (Document(page_content='Think 2024 Think 2024 What you can expect at a Think event May 20, 2024 Monday: IBM Partner Plus Day Programming for Business Partners May 21, 2024 Tuesday: Think programming kicks off Event registration begins. Scaling your business with AI and hybrid cloud. Join IBM and other industry experts for engaging sessions and demos in the Meeting Center. Unleash the transformative power of AI and automation. Chef-selected lunch items and connections with your peers. Full lunch menu in the Think mobile app. Scale', metadata={'description': \"IBM's Think 2024 Agenda on  20–23 May 2024, Boston, MA.\", 'id': 1, 'language': 'en-us', 'source': 'https://www.ibm.com/events/think/agenda', 'title': 'IBM Think 2024 Agenda'}),\n",
       "  0.659002423286438),\n",
       " (Document(page_content='Center and Omni Seaport in Boston. These venues share our dedication to reducing environmental impact, conserving resources and promoting eco-friendly practices. We are excited to collaborate with them to ensure that Think 2024 and our special events not only deliver an exceptional experience, but also align with our commitment to a greener, more sustainable future. Registration Yes, the Think 2024 event in Boston will be a fee-based event. Standard pricing is USD 1,899, effective 16 January through 23 May', metadata={'description': 'Think FAQ Questions and Answers.', 'id': 0, 'language': 'en-us', 'source': 'https://www.ibm.com/events/think/faq', 'title': 'Think 2024 FAQ | IBM'}),\n",
       "  0.7308722138404846),\n",
       " (Document(page_content='demos in the Meeting Center. Missed the event? We have you covered. Watch all six keynotes from Think 2024 and explore related content in the Think Hub. Watch on-demand Stay in the know. Catch up on all the action from Think 2024 and watch event replays. Watch on-demand', metadata={'description': \"IBM's Think 2024 Agenda on  20–23 May 2024, Boston, MA.\", 'id': 1, 'language': 'en-us', 'source': 'https://www.ibm.com/events/think/agenda', 'title': 'IBM Think 2024 Agenda'}),\n",
       "  0.7458236217498779)]"
      ]
     },
     "execution_count": 14,
     "metadata": {},
     "output_type": "execute_result"
    }
   ],
   "source": [
    "prompt = \"Where is Think 2024?\"\n",
    "search = vectorstore.similarity_search_with_score(prompt)\n",
    "search"
   ]
  },
  {
   "cell_type": "markdown",
   "metadata": {},
   "source": [
    "## Step 5. Set up a retriever\n",
    "\n",
    "We'll set up our vector store as a retriever. The retrieved information from the vector store serves as additional context or knowledge that can be used by a generative model."
   ]
  },
  {
   "cell_type": "code",
   "execution_count": 15,
   "metadata": {},
   "outputs": [],
   "source": [
    "retriever = vectorstore.as_retriever()\n"
   ]
  },
  {
   "cell_type": "markdown",
   "metadata": {},
   "source": [
    "## Step 6. Generate a response with a Generative Model\n",
    "\n",
    "Finally, we’ll generate a response. The generative model (like GPT-4 or IBM Granite) uses the retrieved information to produce a more accurate and contextually relevant response to our questions about Think 2024.\n",
    "\n",
    "First, we'll establish which LLM we're going to use to generate the response. For this tutorial, we'll use IBM's Granite 13B Chat model. "
   ]
  },
  {
   "cell_type": "code",
   "execution_count": 16,
   "metadata": {},
   "outputs": [],
   "source": [
    "model_id = ModelTypes.GRANITE_13B_CHAT_V2"
   ]
  },
  {
   "cell_type": "code",
   "execution_count": 17,
   "metadata": {},
   "outputs": [],
   "source": [
    "parameters = {\n",
    "    GenParams.DECODING_METHOD: 'greedy',\n",
    "    GenParams.MIN_NEW_TOKENS: 10,\n",
    "    GenParams.MAX_NEW_TOKENS: 512,\n",
    "    GenParams.REPETITION_PENALTY:1.2,\n",
    "    GenParams.RETURN_OPTIONS: {'input_tokens': True,'generated_tokens': True, 'token_logprobs': True, 'token_ranks': True, }\n",
    "}"
   ]
  },
  {
   "cell_type": "code",
   "execution_count": 18,
   "metadata": {},
   "outputs": [
    {
     "name": "stderr",
     "output_type": "stream",
     "text": [
      "/Users/erikarussi/.pyenv/versions/3.10.13/lib/python3.10/site-packages/langchain_core/_api/deprecation.py:119: LangChainDeprecationWarning: The class `WatsonxLLM` was deprecated in LangChain 0.0.18 and will be removed in 0.2. An updated version of the class exists in the langchain-ibm package and should be used instead. To use it run `pip install -U langchain-ibm` and import as `from langchain_ibm import WatsonxLLM`.\n",
      "  warn_deprecated(\n"
     ]
    }
   ],
   "source": [
    "llm = WatsonxLLM(\n",
    "    model_id=model_id.value,\n",
    "    url=credentials.get(\"url\"),\n",
    "    apikey=credentials.get(\"apikey\"),\n",
    "    project_id=project_id,\n",
    "    params=parameters\n",
    ")"
   ]
  },
  {
   "cell_type": "markdown",
   "metadata": {},
   "source": [
    "We'll set up a `prompttemplate` to ask multiple questions. The \"context\" will be derived from our retriever (our vector database) with the relevant documents and the \"question\" will be derived from the user query."
   ]
  },
  {
   "cell_type": "code",
   "execution_count": 19,
   "metadata": {},
   "outputs": [],
   "source": [
    "template = \"\"\"Answer the question based only on the following context:\n",
    "\n",
    "{context}\n",
    "\n",
    "Question: {question}\n",
    "\"\"\"\n",
    "prompt = ChatPromptTemplate.from_template(template)"
   ]
  },
  {
   "cell_type": "markdown",
   "metadata": {},
   "source": [
    "Let's set up a helper function to format the docs accordingly:"
   ]
  },
  {
   "cell_type": "code",
   "execution_count": 20,
   "metadata": {},
   "outputs": [],
   "source": [
    "def format_docs(docs):\n",
    "    return \"\\n\\n\".join([d.page_content for d in docs])"
   ]
  },
  {
   "cell_type": "markdown",
   "metadata": {},
   "source": [
    "And now we can set up a chain with our context, our prompt and out LLM. The generative model processes the augmented context along with the user's question to produce a response."
   ]
  },
  {
   "cell_type": "code",
   "execution_count": 21,
   "metadata": {},
   "outputs": [],
   "source": [
    "chain = (\n",
    "    {\"context\": retriever | format_docs, \"question\": RunnablePassthrough()}\n",
    "    | prompt\n",
    "    | llm\n",
    "    | StrOutputParser()\n",
    ")"
   ]
  },
  {
   "cell_type": "markdown",
   "metadata": {},
   "source": [
    "And now we can ask multiple questions:"
   ]
  },
  {
   "cell_type": "code",
   "execution_count": 22,
   "metadata": {},
   "outputs": [
    {
     "data": {
      "text/plain": [
       "'\\nAnswer: The Think 2024 event will be held at the Boston Convention & Exhibition Center (BCEC) in Boston, Massachusetts.'"
      ]
     },
     "execution_count": 22,
     "metadata": {},
     "output_type": "execute_result"
    }
   ],
   "source": [
    "chain.invoke(\"Where is Think 2024?\")"
   ]
  },
  {
   "cell_type": "code",
   "execution_count": 23,
   "metadata": {},
   "outputs": [
    {
     "data": {
      "text/plain": [
       "'A) A system that helps users manage their personal finances'"
      ]
     },
     "execution_count": 23,
     "metadata": {},
     "output_type": "execute_result"
    }
   ],
   "source": [
    "chain.invoke(\"What is IBM Concert?\")"
   ]
  },
  {
   "cell_type": "code",
   "execution_count": 24,
   "metadata": {},
   "outputs": [
    {
     "data": {
      "text/plain": [
       "\"A: IBM's annual conference that brings together senior business and technology leaders from across industries for discussions and innovations related to AI, hybrid cloud, and automation.\""
      ]
     },
     "execution_count": 24,
     "metadata": {},
     "output_type": "execute_result"
    }
   ],
   "source": [
    "chain.invoke(\"What is IBM Think 2024?\")"
   ]
  },
  {
   "cell_type": "markdown",
   "metadata": {},
   "source": [
    "And that's it! Feel free to ask even more questions!\n",
    "\n",
    "You can imagine a situation where we can create chatbots to field these questions.\n",
    "\n",
    "We encourage you to check out the [LangChain documentation page](https://python.langchain.com/v0.2/docs/tutorials/rag/) for more information and tutorials on RAG."
   ]
  },
  {
   "cell_type": "markdown",
   "metadata": {},
   "source": []
  }
 ],
 "metadata": {
  "kernelspec": {
   "display_name": "Python 3 (ipykernel)",
   "language": "python",
   "name": "python3"
  },
  "language_info": {
   "codemirror_mode": {
    "name": "ipython",
    "version": 3
   },
   "file_extension": ".py",
   "mimetype": "text/x-python",
   "name": "python",
   "nbconvert_exporter": "python",
   "pygments_lexer": "ipython3",
   "version": "3.12.3"
  }
 },
 "nbformat": 4,
 "nbformat_minor": 4
}
