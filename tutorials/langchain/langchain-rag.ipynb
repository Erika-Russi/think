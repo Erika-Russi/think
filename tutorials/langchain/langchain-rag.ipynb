{
 "cells": [
  {
   "cell_type": "markdown",
   "metadata": {},
   "source": [
    "In this tutorial, we’ll use LangChain to walk through a step-by-step Retrieval Augmented Generation ([RAG](https://research.ibm.com/blog/retrieval-augmented-generation-RAG)) example in Python. For our use case, we’ll be setting up a RAG system for [IBM Think 2024](https://www.ibm.com/events/think).\n",
    "\n",
    "RAG is a technique in natural language processing (NLP) that combines information retrieval and generative models to produce more accurate, relevant and contextually aware responses. \n",
    "\n",
    "In traditional language generation tasks, [large language models](https://www.ibm.com/topics/large-language-models) (LLMs) like OpenAI’s GPT-3.5 (Generative Pre-trained Transformer) or [IBM’s Granite Models](https://www.ibm.com/products/watsonx-ai/foundation-models) are used to construct responses based on an input prompt. However, these models may struggle to produce responses that are contextually relevant, factually accurate or up to date. RAG applications address this limitation by incorporating a retrieval step before response generation. During retrieval, [vector search](https://www.ibm.com/topics/vector-search) can be used to identify contextually pertinent information, such as relevant passages or documents from a large corpus of text, typically stored in a [vector database](https://www.ibm.com/topics/vector-database). Finally, an LLM is used to generate a response based on the retrieved context.\n",
    "\n",
    "LangChain is a powerful, open-source framework that facilitates the development of applications using LLMs for various NLP tasks. In the context of RAG, LangChain plays a critical role by combining the strengths of retrieval-based methods and generative models to enhance the capabilities of NLP systems."
   ]
  },
  {
   "cell_type": "markdown",
   "metadata": {},
   "source": [
    "# Prerequisites\n",
    "\n",
    "You need an [IBM Cloud account](https://cloud.ibm.com/registration?utm_source=ibm_developer&utm_content=in_content_link&utm_id=tutorials_awb-implement-xgboost-in-python&cm_sp=ibmdev-_-developer-_-trial) to create a [watsonx.ai](https://www.ibm.com/products/watsonx-ai?utm_source=ibm_developer&utm_content=in_content_link&utm_id=tutorials_awb-implement-xgboost-in-python&cm_sp=ibmdev-_-developer-_-product) project."
   ]
  },
  {
   "cell_type": "markdown",
   "metadata": {},
   "source": [
    "# Steps\n",
    "\n",
    "## Step 1. Set up your environment\n",
    "\n",
    "While you can choose from several tools, this tutorial walks you through how to set up an IBM account to use a Jupyter Notebook. Jupyter Notebooks are widely used within [data science](https://www.ibm.com/topics/data-science) to combine code, text, images, and [data visualizations](https://www.ibm.com/topics/data-visualization) to formulate a well-formed analysis.\n",
    "\n",
    "1. Log in to [watsonx.ai](https://dataplatform.cloud.ibm.com/registration/stepone) using your IBM Cloud account.\n",
    "\n",
    "2. Create a [watsonx.ai project](https://www.ibm.com/docs/en/watsonx/saas?topic=projects-creating-project#create-a-project).\n",
    "\n",
    "3. Create a [Jupyter Notebook](https://www.ibm.com/docs/en/watsonx/saas?topic=editor-creating-notebooks).\n",
    "\n",
    "This step will open a Notebook environment where you can load your data set and copy the code from this tutorial to implement a binary classification task using the gradient boosting algorithm.\n",
    "\n",
    "## Step 2. Install and import relevant libraries\n",
    "\n",
    "We'll need a few libraries for this tutorial. Make sure to import the ones below, and if they're not installed, you can resolve this with a quick pip install."
   ]
  },
  {
   "cell_type": "code",
   "execution_count": null,
   "metadata": {},
   "outputs": [],
   "source": [
    "#installations\n",
    "%pip install langchain\n",
    "%pip install ibm-generative-ai\n",
    "%pip install langchain_chroma\n",
    "%pip install beautifulsoup4\n",
    "%pip install lxml\n",
    "%pip install sentence-transformers"
   ]
  },
  {
   "cell_type": "markdown",
   "metadata": {},
   "source": []
  },
  {
   "cell_type": "code",
   "execution_count": 31,
   "metadata": {},
   "outputs": [
    {
     "data": {
      "text/plain": [
       "True"
      ]
     },
     "execution_count": 31,
     "metadata": {},
     "output_type": "execute_result"
    }
   ],
   "source": [
    "#imports\n",
    "import json\n",
    "import glob\n",
    "\n",
    "from langchain.embeddings import HuggingFaceEmbeddings\n",
    "from langchain.vectorstores import Chroma\n",
    "\n",
    "from langchain_community.document_loaders import (\n",
    "    BSHTMLLoader, \n",
    "    TextLoader,\n",
    ")\n",
    "\n",
    "from langchain_text_splitters import RecursiveCharacterTextSplitter\n",
    "\n",
    "\n",
    "from genai import Credentials, Client\n",
    "from genai.schema import (\n",
    "    TextGenerationParameters,\n",
    "    TextGenerationReturnOptions,\n",
    ")\n",
    "from genai.extensions.langchain.chat_llm import LangChainChatInterface\n",
    "\n",
    "\n",
    "from dotenv import load_dotenv\n",
    "from langchain_core.prompts import ChatPromptTemplate\n",
    "from langchain_core.output_parsers import StrOutputParser\n",
    "from langchain_core.runnables import RunnablePassthrough\n",
    "\n",
    "load_dotenv()\n",
    "\n"
   ]
  },
  {
   "cell_type": "code",
   "execution_count": 28,
   "metadata": {},
   "outputs": [],
   "source": []
  },
  {
   "cell_type": "markdown",
   "metadata": {},
   "source": [
    "#  Step 1 - indexing"
   ]
  },
  {
   "cell_type": "markdown",
   "metadata": {},
   "source": [
    "sss"
   ]
  },
  {
   "cell_type": "code",
   "execution_count": 3,
   "metadata": {},
   "outputs": [],
   "source": [
    "def load_think_corpus(directory, text=False):\n",
    "\n",
    "    html_files = glob.glob(directory + \"/\" + \"*.html\")\n",
    "\n",
    "    if text:\n",
    "        html_files = glob.glob(directory + \"/\" + \"*.txt\")\n",
    "\n",
    "    return html_files\n",
    "\n",
    "def load_urls(json_file: str) -> dict[str, str]:\n",
    "    with open(json_file, \"r\") as f:\n",
    "        return json.load(f)\n",
    "    \n",
    "\n"
   ]
  },
  {
   "cell_type": "code",
   "execution_count": 4,
   "metadata": {},
   "outputs": [
    {
     "data": {
      "text/plain": [
       "{'./corpus/ibm.com_events_think_faq.html': 'https://www.ibm.com/events/think/faq',\n",
       " './corpus/events_think_agenda.html': 'https://www.ibm.com/events/think/agenda',\n",
       " './corpus/products_watsonx_ai.html': 'https://www.ibm.com/products/watsonx-ai',\n",
       " './corpus/products_watsonx_ai_foundation_models.html': 'https://www.ibm.com/products/watsonx-ai/foundation-models',\n",
       " './corpus/watsonx_pricing.html': 'https://www.ibm.com/watsonx/pricing',\n",
       " './corpus/watsonx.html': 'https://www.ibm.com/watsonx',\n",
       " './corpus/products_watsonx_data.html': 'https://www.ibm.com/products/watsonx-data',\n",
       " './corpus/products_watsonx_assistant.html': 'https://www.ibm.com/products/watsonx-assistant',\n",
       " './corpus/products_watsonx_code_assistant.html': 'https://www.ibm.com/products/watsonx-code-assistant',\n",
       " './corpus/products_watsonx_orchestrate.html': 'https://www.ibm.com/products/watsonx-orchestrate',\n",
       " './corpus/products_watsonx_governance.html': 'https://www.ibm.com/products/watsonx-governance',\n",
       " './corpus/w3publisher_think.html': 'https://w3.ibm.com/w3publisher/think',\n",
       " './corpus/granite_code_models_open_source.html': 'https://research.ibm.com/blog/granite-code-models-open-source',\n",
       " './corpus/red_hat_enterprise_linux_ai.html': 'https://www.redhat.com/en/about/press-releases/red-hat-delivers-accessible-open-source-generative-ai-innovation-red-hat-enterprise-linux-ai',\n",
       " './corpus/all_sales_blogs.html': 'https://w3.ibm.com/w3publisher/ibmsaleszone/sales-news/all-sales-blogs/f062a050-0886-11ef-8344-dbc484c79139',\n",
       " './corpus/instruct_lab.html': 'https://w3.ibm.com/w3publisher/ai-for-business/instructlab',\n",
       " './corpus/think_news.html': 'https://w3.ibm.com/w3publisher/news/may-2024/what-is-think-2024',\n",
       " './corpus/internal_genai.html': 'https://w3.ibm.com/w3publisher/ai-for-business/internal-generative-ai-tools',\n",
       " './corpus/model_choice.html': 'https://www.ibm.com/blog/announcement/enterprise-grade-model-choices/',\n",
       " './corpus/democratizing.html': 'https://www.ibm.com/blog/announcement/democratizing-large-language-model-development-with-instructlab-support-in-watsonx-ai/',\n",
       " './corpus/ibm_consulting_expands_ai.html': 'https://newsroom.ibm.com/Blog-IBM-Consulting-Expands-Capabilities-to-Help-Enterprises-Scale-AI',\n",
       " './corpus/ibm_data_product_hub.html': 'https://www.ibm.com/products/data-product-hub',\n",
       " './corpus/ibm_price_performance_data.html': 'https://www.ibm.com/blog/announcement/delivering-superior-price-performance-and-enhanced-data-management-for-ai-with-ibm-watsonx-data/',\n",
       " './corpus/ibm_bi_adoption.html': 'https://www.ibm.com/blog/a-new-era-in-bi-overcoming-low-adoption-to-make-smart-decisions-accessible-for-all/',\n",
       " './corpus/what_is_think.html': 'https://w3.ibm.com/w3publisher/news/may-2024/what-is-think-2024',\n",
       " './corpus/watsonx_code_assistant_for_z.html': 'https://www.ibm.com/blog/announcement/ibm-watsonx-code-assistant-for-z-accelerate-the-application-lifecycle-with-generative-ai-and-automation/',\n",
       " './corpus/code_assistant_for_java.html': 'https://www.ibm.com/blog/announcement/watsonx-code-assistant-java/',\n",
       " './corpus/code_assistant_for_orchestrate.html': 'https://www.ibm.com/blog/announcement/watsonx-orchestrate-ai-z-assistant/',\n",
       " './corpus/accelerating_gen_ai.html': 'https://newsroom.ibm.com/Blog-How-IBM-Cloud-is-Accelerating-Business-Outcomes-with-Gen-AI',\n",
       " './corpus/think_overview.html': 'https://w3.ibm.com/w3publisher/news/may-2024/think-2024',\n",
       " './corpus/watsonx_open_source.html': 'https://newsroom.ibm.com/2024-05-21-IBM-Unveils-Next-Chapter-of-watsonx-with-Open-Source,-Product-Ecosystem-Innovations-to-Drive-Enterprise-AI-at-Scale',\n",
       " './corpus/announcements.txt': 'Think 2024 Announcements',\n",
       " './corpus/ibm_concert.txt': 'IBM Concert',\n",
       " './corpus/ibm_consulting_advantage.html': 'https://w3.ibm.com/services/contentplus/collection/ibm-consulting-advantage.html',\n",
       " './corpus/ibm_consulting_advantage_news.html': 'https://newsroom.ibm.com/2024-01-17-IBM-Introduces-IBM-Consulting-Advantage,-an-AI-Services-Platform-and-Library-of-Assistants-to-Empower-Consultants',\n",
       " './corpus/ibm_consulting_advantage_info.html': 'https://www.ibm.com/consulting/info/ibm-consulting-advantage'}"
      ]
     },
     "execution_count": 4,
     "metadata": {},
     "output_type": "execute_result"
    }
   ],
   "source": [
    "URLS_DICTIONARY = load_urls(\"./sources/sources.json\")\n",
    "COLLECTION_NAME = \"askibm_think_2024\"\n",
    "URLS_DICTIONARY"
   ]
  },
  {
   "cell_type": "code",
   "execution_count": 5,
   "metadata": {},
   "outputs": [
    {
     "name": "stderr",
     "output_type": "stream",
     "text": [
      "/Users/erikarussi/.pyenv/versions/3.10.13/lib/python3.10/site-packages/sentence_transformers/cross_encoder/CrossEncoder.py:11: TqdmWarning: IProgress not found. Please update jupyter and ipywidgets. See https://ipywidgets.readthedocs.io/en/stable/user_install.html\n",
      "  from tqdm.autonotebook import tqdm, trange\n",
      "/Users/erikarussi/.pyenv/versions/3.10.13/lib/python3.10/site-packages/huggingface_hub/file_download.py:1132: FutureWarning: `resume_download` is deprecated and will be removed in version 1.0.0. Downloads always resume when possible. If you want to force a new download, use `force_download=True`.\n",
      "  warnings.warn(\n"
     ]
    },
    {
     "data": {
      "text/plain": [
       "['./corpus/internal_genai.html',\n",
       " './corpus/products_watsonx_ai_foundation_models.html',\n",
       " './corpus/think_overview.html',\n",
       " './corpus/all_sales_blogs.html',\n",
       " './corpus/products_watsonx_data.html',\n",
       " './corpus/products_watsonx_governance.html',\n",
       " './corpus/ibm.com_events_think_faq.html',\n",
       " './corpus/what_is_think.html',\n",
       " './corpus/ibm_price_performance_data.html',\n",
       " './corpus/accelerating_gen_ai.html',\n",
       " './corpus/code_assistant_for_orchestrate.html',\n",
       " './corpus/red_hat_enterprise_linux_ai.html',\n",
       " './corpus/watsonx_open_source.html',\n",
       " './corpus/granite_code_models_open_source.html',\n",
       " './corpus/watsonx.html',\n",
       " './corpus/products_watsonx_code_assistant.html',\n",
       " './corpus/ibm_consulting_advantage_info.html',\n",
       " './corpus/events_think_agenda.html',\n",
       " './corpus/products_watsonx_assistant.html',\n",
       " './corpus/products_watsonx_orchestrate.html',\n",
       " './corpus/ibm_consulting_advantage_news.html',\n",
       " './corpus/instruct_lab.html',\n",
       " './corpus/democratizing.html',\n",
       " './corpus/w3publisher_think.html',\n",
       " './corpus/products_watsonx_ai.html',\n",
       " './corpus/watsonx_pricing.html',\n",
       " './corpus/ibm_data_product_hub.html',\n",
       " './corpus/ibm_consulting_expands_ai.html',\n",
       " './corpus/think_news.html',\n",
       " './corpus/watsonx_code_assistant_for_z.html',\n",
       " './corpus/code_assistant_for_java.html',\n",
       " './corpus/model_choice.html',\n",
       " './corpus/ibm_bi_adoption.html']"
      ]
     },
     "execution_count": 5,
     "metadata": {},
     "output_type": "execute_result"
    }
   ],
   "source": [
    "embeddings = HuggingFaceEmbeddings()\n",
    "html_corpus_files = load_think_corpus(\"./corpus\")\n",
    "\n",
    "text_corpus_files = load_think_corpus(\"./corpus\", text=True)\n",
    "html_corpus_files"
   ]
  },
  {
   "cell_type": "markdown",
   "metadata": {},
   "source": [
    "\n",
    "\n",
    "We're using RecursiveCharacterTextSplitter to split the text, which splits the text by recursively look at characters. Started with a chunk size of 1000 and the results were not as good, because the model was getting too much context, so changed it to smaller chunks. Feel free to experiment with chunk size further!\n",
    "\n",
    "Then we use the Re\n",
    "\n",
    "https://dev.to/eteimz/understanding-langchains-recursivecharactertextsplitter-2846"
   ]
  },
  {
   "cell_type": "code",
   "execution_count": 6,
   "metadata": {},
   "outputs": [
    {
     "name": "stdout",
     "output_type": "stream",
     "text": [
      "{'source': './corpus/internal_genai.html', 'title': 'None', 'id': 0, 'fileName': 'https://w3.ibm.com/w3publisher/ai-for-business/internal-generative-ai-tools'}\n",
      "{'source': './corpus/products_watsonx_ai_foundation_models.html', 'title': 'Foundation Models - IBM watsonx.ai', 'id': 1, 'fileName': 'https://www.ibm.com/products/watsonx-ai/foundation-models'}\n",
      "{'source': './corpus/think_overview.html', 'title': 'None', 'id': 2, 'fileName': 'https://w3.ibm.com/w3publisher/news/may-2024/think-2024'}\n",
      "{'source': './corpus/all_sales_blogs.html', 'title': 'None', 'id': 3, 'fileName': 'https://w3.ibm.com/w3publisher/ibmsaleszone/sales-news/all-sales-blogs/f062a050-0886-11ef-8344-dbc484c79139'}\n",
      "{'source': './corpus/products_watsonx_data.html', 'title': 'IBM watsonx.data', 'id': 4, 'fileName': 'https://www.ibm.com/products/watsonx-data'}\n",
      "{'source': './corpus/products_watsonx_governance.html', 'title': 'IBM watsonx.governance', 'id': 5, 'fileName': 'https://www.ibm.com/products/watsonx-governance'}\n",
      "{'source': './corpus/ibm.com_events_think_faq.html', 'title': 'Think 2024 FAQ | IBM', 'id': 6, 'fileName': 'https://www.ibm.com/events/think/faq'}\n",
      "{'source': './corpus/what_is_think.html', 'title': 'None', 'id': 7, 'fileName': 'https://w3.ibm.com/w3publisher/news/may-2024/what-is-think-2024'}\n",
      "{'source': './corpus/ibm_price_performance_data.html', 'title': 'Delivering superior price-performance and enhanced data management for AI with IBM watsonx.data - IBM Blog', 'id': 8, 'fileName': 'https://www.ibm.com/blog/announcement/delivering-superior-price-performance-and-enhanced-data-management-for-ai-with-ibm-watsonx-data/'}\n",
      "{'source': './corpus/accelerating_gen_ai.html', 'title': 'How IBM Cloud is Accelerating Business Outcomes with Gen AI', 'id': 9, 'fileName': 'https://newsroom.ibm.com/Blog-How-IBM-Cloud-is-Accelerating-Business-Outcomes-with-Gen-AI'}\n",
      "{'source': './corpus/code_assistant_for_orchestrate.html', 'title': 'Announcing IBM watsonx Assistant for Z and D&B Ask Procurement, new generative AI assistants built with IBM watsonx Orchestrate - IBM Blog', 'id': 10, 'fileName': 'https://www.ibm.com/blog/announcement/watsonx-orchestrate-ai-z-assistant/'}\n",
      "{'source': './corpus/red_hat_enterprise_linux_ai.html', 'title': 'Red Hat Delivers Accessible, Open Source Generative AI Innovation with Red Hat Enterprise Linux AI', 'id': 11, 'fileName': 'https://www.redhat.com/en/about/press-releases/red-hat-delivers-accessible-open-source-generative-ai-innovation-red-hat-enterprise-linux-ai'}\n",
      "{'source': './corpus/watsonx_open_source.html', 'title': 'IBM Unveils Next Chapter of watsonx with Open Source, Product & Ecosystem Innovations to Drive Enterprise AI at Scale', 'id': 12, 'fileName': 'https://newsroom.ibm.com/2024-05-21-IBM-Unveils-Next-Chapter-of-watsonx-with-Open-Source,-Product-Ecosystem-Innovations-to-Drive-Enterprise-AI-at-Scale'}\n",
      "{'source': './corpus/granite_code_models_open_source.html', 'title': 'IBM’s Granite code model family is going open source - IBM Research', 'id': 13, 'fileName': 'https://research.ibm.com/blog/granite-code-models-open-source'}\n",
      "{'source': './corpus/watsonx.html', 'title': 'IBM watsonx —\\xa0An AI and data platform built for business ', 'id': 14, 'fileName': 'https://www.ibm.com/watsonx'}\n",
      "{'source': './corpus/products_watsonx_code_assistant.html', 'title': 'IBM watsonx Code Assistant ', 'id': 15, 'fileName': 'https://www.ibm.com/products/watsonx-code-assistant'}\n",
      "{'source': './corpus/ibm_consulting_advantage_info.html', 'title': 'IBM Consulting Advantage', 'id': 16, 'fileName': 'https://www.ibm.com/consulting/info/ibm-consulting-advantage'}\n",
      "{'source': './corpus/events_think_agenda.html', 'title': 'IBM Think 2024 Agenda', 'id': 17, 'fileName': 'https://www.ibm.com/events/think/agenda'}\n",
      "{'source': './corpus/products_watsonx_assistant.html', 'title': 'IBM watsonx Assistant Virtual Agent', 'id': 18, 'fileName': 'https://www.ibm.com/products/watsonx-assistant'}\n",
      "{'source': './corpus/products_watsonx_orchestrate.html', 'title': 'IBM watsonx Orchestrate', 'id': 19, 'fileName': 'https://www.ibm.com/products/watsonx-orchestrate'}\n",
      "{'source': './corpus/ibm_consulting_advantage_news.html', 'title': 'IBM Introduces IBM Consulting Advantage, an AI Services Platform and Library of Assistants to Empower Consultants - Jan 17, 2024', 'id': 20, 'fileName': 'https://newsroom.ibm.com/2024-01-17-IBM-Introduces-IBM-Consulting-Advantage,-an-AI-Services-Platform-and-Library-of-Assistants-to-Empower-Consultants'}\n",
      "{'source': './corpus/instruct_lab.html', 'title': 'None', 'id': 21, 'fileName': 'https://w3.ibm.com/w3publisher/ai-for-business/instructlab'}\n",
      "{'source': './corpus/democratizing.html', 'title': 'Democratizing Large Language Model development with InstructLab support in watsonx.ai - IBM Blog', 'id': 22, 'fileName': 'https://www.ibm.com/blog/announcement/democratizing-large-language-model-development-with-instructlab-support-in-watsonx-ai/'}\n",
      "{'source': './corpus/w3publisher_think.html', 'title': 'None', 'id': 23, 'fileName': 'https://w3.ibm.com/w3publisher/think'}\n",
      "{'source': './corpus/products_watsonx_ai.html', 'title': 'IBM watsonx.ai ', 'id': 24, 'fileName': 'https://www.ibm.com/products/watsonx-ai'}\n",
      "{'source': './corpus/watsonx_pricing.html', 'title': 'IBM watsonx | Pricing', 'id': 25, 'fileName': 'https://www.ibm.com/watsonx/pricing'}\n",
      "{'source': './corpus/ibm_data_product_hub.html', 'title': 'IBM Data Product Hub', 'id': 26, 'fileName': 'https://www.ibm.com/products/data-product-hub'}\n",
      "{'source': './corpus/ibm_consulting_expands_ai.html', 'title': 'IBM Consulting Expands Capabilities to Help Enterprises Scale AI', 'id': 27, 'fileName': 'https://newsroom.ibm.com/Blog-IBM-Consulting-Expands-Capabilities-to-Help-Enterprises-Scale-AI'}\n",
      "{'source': './corpus/think_news.html', 'title': 'None', 'id': 28, 'fileName': 'https://w3.ibm.com/w3publisher/news/may-2024/what-is-think-2024'}\n",
      "{'source': './corpus/watsonx_code_assistant_for_z.html', 'title': 'IBM watsonx Code Assistant for Z: accelerate the application lifecycle with generative AI and automation - IBM Blog', 'id': 29, 'fileName': 'https://www.ibm.com/blog/announcement/ibm-watsonx-code-assistant-for-z-accelerate-the-application-lifecycle-with-generative-ai-and-automation/'}\n",
      "{'source': './corpus/code_assistant_for_java.html', 'title': 'Accelerating the Java application lifecycle with generative AI and automation - IBM Blog', 'id': 30, 'fileName': 'https://www.ibm.com/blog/announcement/watsonx-code-assistant-java/'}\n",
      "{'source': './corpus/model_choice.html', 'title': 'New strategic partnerships from IBM offer clients a wide range of enterprise-grade model choices - IBM Blog', 'id': 31, 'fileName': 'https://www.ibm.com/blog/announcement/enterprise-grade-model-choices/'}\n",
      "{'source': './corpus/ibm_bi_adoption.html', 'title': 'A new era in BI: Overcoming low adoption to make smart decisions accessible for all - IBM Blog', 'id': 32, 'fileName': 'https://www.ibm.com/blog/a-new-era-in-bi-overcoming-low-adoption-to-make-smart-decisions-accessible-for-all/'}\n",
      "{'source': './corpus/ibm_concert.txt', 'id': 33, 'fileName': 'IBM Concert', 'title': 'IBM Concert'}\n",
      "{'source': './corpus/announcements.txt', 'id': 34, 'fileName': 'Think 2024 Announcements', 'title': 'Think 2024 Announcements'}\n"
     ]
    }
   ],
   "source": [
    "documents = []\n",
    "\n",
    "\n",
    "for f in html_corpus_files:\n",
    "    loader = BSHTMLLoader(f)\n",
    "    data = loader.load()\n",
    "    documents += data\n",
    "\n",
    "for f in text_corpus_files:\n",
    "    loader = TextLoader(f)\n",
    "    documents += loader.load()\n",
    "\n",
    "\n",
    "doc_id = 0\n",
    "for doc in documents:\n",
    "    doc.page_content = \" \".join(doc.page_content.split()) # remove white space\n",
    "\n",
    "    \n",
    "    doc.metadata[\"id\"] = doc_id #make a document id and add it to the document metadata\n",
    "    doc.metadata[\"fileName\"] = URLS_DICTIONARY[doc.metadata[\"source\"]]\n",
    "\n",
    "    if \"title\" not in doc.metadata.keys():\n",
    "        doc.metadata[\"title\"] = URLS_DICTIONARY[doc.metadata[\"source\"]].replace(\".txt\", \"\")\n",
    "\n",
    "    print(doc.metadata)\n",
    "    doc_id += 1\n",
    "\n",
    "text_splitter = RecursiveCharacterTextSplitter(chunk_size=512, chunk_overlap=0)\n",
    "docs = text_splitter.split_documents(documents)\n",
    "\n"
   ]
  },
  {
   "cell_type": "code",
   "execution_count": 7,
   "metadata": {},
   "outputs": [],
   "source": [
    "# vector_db = Milvus(\n",
    "#     embeddings,\n",
    "#     collection_name=COLLECTION_NAME,\n",
    "#     connection_args=compose_connection_args_from_environment(),\n",
    "#     auto_id=True,\n",
    "# )\n",
    "\n",
    "# for doc in docs:\n",
    "#     print(doc.metadata)\n",
    "\n",
    "#     expr = \"id == \" + str(doc.metadata[\"id\"])\n",
    "\n",
    "#     pks = vector_db.get_pks(expr)\n",
    "\n",
    "#     print(\"Primary keys: \", pks)\n",
    "\n",
    "#     if pks is None:\n",
    "#         pks = []\n",
    "\n",
    "#     result = vector_db.upsert(pks, [doc])\n",
    "\n",
    "#     print(result)"
   ]
  },
  {
   "cell_type": "code",
   "execution_count": 9,
   "metadata": {},
   "outputs": [],
   "source": [
    "vectorstore = Chroma.from_documents(documents=docs, embedding=embeddings, persist_directory='saved_vdb')"
   ]
  },
  {
   "cell_type": "code",
   "execution_count": 22,
   "metadata": {},
   "outputs": [
    {
     "data": {
      "text/plain": [
       "<langchain_chroma.vectorstores.Chroma at 0x1778fa0b0>"
      ]
     },
     "execution_count": 22,
     "metadata": {},
     "output_type": "execute_result"
    }
   ],
   "source": [
    "vectorstore"
   ]
  },
  {
   "cell_type": "code",
   "execution_count": 10,
   "metadata": {},
   "outputs": [],
   "source": [
    "vectordb = Chroma(persist_directory='saved_vdb', embedding_function=embeddings)"
   ]
  },
  {
   "cell_type": "markdown",
   "metadata": {},
   "source": [
    "# Step . Retriever"
   ]
  },
  {
   "cell_type": "code",
   "execution_count": 12,
   "metadata": {},
   "outputs": [
    {
     "data": {
      "text/plain": [
       "[(Document(page_content='addressing issues and solving problems before they happen. Concert will initially focus on helping application owners, SREs and IT leaders gain insights about, pre-empt and more quickly address issues around application risk and compliance management. Read this blog to learn more about IBM Concert. IBM expands ecosystem access to watsonx, adds third-party models IBM continues to foster a strong ecosystem of partners to offer clients choice and flexibility through bringing third-party models onto watsonx,', metadata={'fileName': 'https://newsroom.ibm.com/2024-05-21-IBM-Unveils-Next-Chapter-of-watsonx-with-Open-Source,-Product-Ecosystem-Innovations-to-Drive-Enterprise-AI-at-Scale', 'id': 12, 'source': './corpus/watsonx_open_source.html', 'title': 'IBM Unveils Next Chapter of watsonx with Open Source, Product & Ecosystem Innovations to Drive Enterprise AI at Scale'}),\n",
       "  0.6187030076980591),\n",
       " (Document(page_content='application risk and compliance management. Read this blog to learn more about IBM Concert. IBM expands ecosystem access to watsonx, adds third-party models IBM continues to foster a strong ecosystem of partners to offer clients choice and flexibility through bringing third-party models onto watsonx, enabling leading software companies to embed watsonx capabilities into their technologies, and offering IBM Consulting expertise for enterprise business transformation. IBM Consulting has rapidly expanded its', metadata={'fileName': 'IBM Concert', 'id': 33, 'source': './corpus/ibm_concert.txt', 'title': 'IBM Concert'}),\n",
       "  0.761165207941419),\n",
       " (Document(page_content='Think 2024 FAQ | IBM FAQ Register now View session catalog Event information Think 2024 will be held in Boston, MA. It will open with an exclusive, partner-only event on 20 May, filled with inspiration, networking, knowledge-sharing and business value for IBM’s global ecosystem of partners. Then, on 21–23 May, we will bring together senior business and technology leaders from across industries for two and a half days of exploration, discussion and innovation. Think 2024 will host senior business and', metadata={'fileName': 'https://www.ibm.com/events/think/faq', 'id': 6, 'source': './corpus/ibm.com_events_think_faq.html', 'title': 'Think 2024 FAQ | IBM'}),\n",
       "  0.7849763631820679),\n",
       " (Document(page_content='solutions in all areas of their businesses. Ready for the Automation platform of tomorrow IBM today is also previewing IBM Concert®, a new tool powered by the IBM watsonx AI and data platform that will provide visibility and insight into the entire ecosystem of business applications, and the clouds, networks, and assets on which they are built. IBM consultants can help clients establish an integrated AIOps strategy including risk, compliance and certificate management, and apply IBM Concert and other', metadata={'fileName': 'https://newsroom.ibm.com/Blog-IBM-Consulting-Expands-Capabilities-to-Help-Enterprises-Scale-AI', 'id': 27, 'source': './corpus/ibm_consulting_expands_ai.html', 'title': 'IBM Consulting Expands Capabilities to Help Enterprises Scale AI'}),\n",
       "  0.80158531665802)]"
      ]
     },
     "execution_count": 12,
     "metadata": {},
     "output_type": "execute_result"
    }
   ],
   "source": [
    "prompt = \"What is IBM Concert?\"\n",
    "search = vectordb.similarity_search_with_score(prompt)\n",
    "search"
   ]
  },
  {
   "cell_type": "code",
   "execution_count": 17,
   "metadata": {},
   "outputs": [
    {
     "data": {
      "text/plain": [
       "[(Document(page_content='up now to attend Think 2024, 20–23 May in Boston Register now When we know, you’ll know Get updates on speakers, sessions and essential conference information, delivered right to your inbox. Subscribe', metadata={'fileName': 'https://www.ibm.com/events/think/agenda', 'id': 17, 'source': './corpus/events_think_agenda.html', 'title': 'IBM Think 2024 Agenda'}),\n",
       "  0.6360556483268738),\n",
       " (Document(page_content='technology leaders from across industries. Content will be geared toward C-level, line of business and senior IT leaders. Think 2024 programming will be held at the Boston Convention & Exhibition Center (BCEC), with some activities at the Omni Boston Hotel at the Seaport. At IBM, we are committed to sustainability and environmentally responsible event planning. We are proud to partner with two distinguished venues, each known for their exemplary sustainable practices. Our event will take place at the', metadata={'fileName': 'https://www.ibm.com/events/think/faq', 'id': 6, 'source': './corpus/ibm.com_events_think_faq.html', 'title': 'Think 2024 FAQ | IBM'}),\n",
       "  0.6507290601730347),\n",
       " (Document(page_content='Register now View session catalog Event information Think 2024 will be held in Boston, MA. It will open with an exclusive, partner-only event on 20 May, filled with inspiration, networking, knowledge-sharing and business value for IBM’s global ecosystem of partners. Then, on 21–23 May, we will bring together senior business and technology leaders from across industries for two and a half days of exploration, discussion and innovation. Think 2024 will host senior business and technology leaders from across', metadata={'fileName': 'IBM Concert', 'id': 33, 'source': './corpus/ibm_concert.txt', 'title': 'IBM Concert'}),\n",
       "  0.6689729023567133),\n",
       " (Document(page_content='industries. Content will be geared toward C-level, line of business and senior IT leaders. Think 2024 programming will be held at the Boston Convention & Exhibition Center (BCEC), with some activities at the Omni Boston Hotel at the Seaport. At IBM, we are committed to sustainability and environmentally responsible event planning. We are proud to partner with two distinguished venues, each known for their exemplary sustainable practices. Our event will take place at the Boston Convention & Exhibition', metadata={'fileName': 'IBM Concert', 'id': 33, 'source': './corpus/ibm_concert.txt', 'title': 'IBM Concert'}),\n",
       "  0.6852996472190274)]"
      ]
     },
     "execution_count": 17,
     "metadata": {},
     "output_type": "execute_result"
    }
   ],
   "source": [
    "prompt = \"Where is Think 2024t?\"\n",
    "search = vectordb.similarity_search_with_score(prompt)\n",
    "search"
   ]
  },
  {
   "cell_type": "code",
   "execution_count": 34,
   "metadata": {},
   "outputs": [],
   "source": [
    "retriever = vectordb.as_retriever()\n",
    "\n"
   ]
  },
  {
   "cell_type": "code",
   "execution_count": 16,
   "metadata": {},
   "outputs": [],
   "source": [
    "IBM_GRANITE_13B_CHAT_V2 = \"ibm/granite-13b-chat-v2\"\n",
    "MODEL_ID_PARAMS = {\n",
    "    IBM_GRANITE_13B_CHAT_V2: TextGenerationParameters(\n",
    "        decoding_method=\"greedy\",\n",
    "        max_new_tokens=512,\n",
    "        min_new_tokens=10,\n",
    "        repetition_penalty=1.2,\n",
    "        return_options=TextGenerationReturnOptions(\n",
    "    generated_tokens=True,\n",
    "    token_logprobs=True,\n",
    "    token_ranks=True,\n",
    "    # input_tokens=True\n",
    "    # top_n_tokens=\n",
    "))}"
   ]
  },
  {
   "cell_type": "code",
   "execution_count": 30,
   "metadata": {},
   "outputs": [],
   "source": [
    "llm = LangChainChatInterface(\n",
    "    client=Client(credentials=Credentials.from_env()),\n",
    "    model_id= \"ibm/granite-13b-chat-v2\",\n",
    "    parameters=TextGenerationParameters(\n",
    "        decoding_method=\"greedy\",\n",
    "        max_new_tokens=512,\n",
    "        min_new_tokens=10,\n",
    "        repetition_penalty=1.2,\n",
    "        return_options=TextGenerationReturnOptions(\n",
    "            generated_tokens=True,\n",
    "            token_logprobs=True,\n",
    "            token_ranks=True,)\n",
    "            )\n",
    ")"
   ]
  },
  {
   "cell_type": "code",
   "execution_count": 32,
   "metadata": {},
   "outputs": [],
   "source": [
    "template = \"\"\"Answer the question based only on the following context:\n",
    "\n",
    "{context}\n",
    "\n",
    "Question: {question}\n",
    "\"\"\"\n",
    "prompt = ChatPromptTemplate.from_template(template)"
   ]
  },
  {
   "cell_type": "code",
   "execution_count": 35,
   "metadata": {},
   "outputs": [
    {
     "data": {
      "text/plain": [
       "'Think 2024 is being held in Boston, Massachusetts. The specific venue mentioned is the Boston Convention & Exhibition Center (BCEC).'"
      ]
     },
     "execution_count": 35,
     "metadata": {},
     "output_type": "execute_result"
    }
   ],
   "source": [
    "def format_docs(docs):\n",
    "    return \"\\n\\n\".join([d.page_content for d in docs])\n",
    "\n",
    "\n",
    "chain = (\n",
    "    {\"context\": retriever | format_docs, \"question\": RunnablePassthrough()}\n",
    "    | prompt\n",
    "    | llm\n",
    "    | StrOutputParser()\n",
    ")\n",
    "\n",
    "chain.invoke(\"Where is Think 2024?\")"
   ]
  },
  {
   "cell_type": "code",
   "execution_count": 36,
   "metadata": {},
   "outputs": [
    {
     "data": {
      "text/plain": [
       "'IBM Concert is described as \"a new tool powered by the IBM watsonx AI and data platform that will provide visibility and insight into the entire ecosystem of business applications, and the clouds, networks, and assets on which they are built.\"'"
      ]
     },
     "execution_count": 36,
     "metadata": {},
     "output_type": "execute_result"
    }
   ],
   "source": [
    "chain = (\n",
    "    {\"context\": retriever | format_docs, \"question\": RunnablePassthrough()}\n",
    "    | prompt\n",
    "    | llm\n",
    "    | StrOutputParser()\n",
    ")\n",
    "\n",
    "chain.invoke(\"What is IBM Concert?\")"
   ]
  },
  {
   "cell_type": "code",
   "execution_count": 37,
   "metadata": {},
   "outputs": [
    {
     "data": {
      "text/plain": [
       "'IBM Think 2024 is a conference or event where IBM announces new products, technologies, and partnerships related to artificial intelligence and other areas of interest to businesses and organizations. The most recent edition of this event was held in Boston, Massachusetts, and featured sessions and discussions aimed at senior business and technology leaders.'"
      ]
     },
     "execution_count": 37,
     "metadata": {},
     "output_type": "execute_result"
    }
   ],
   "source": [
    "chain = (\n",
    "    {\"context\": retriever | format_docs, \"question\": RunnablePassthrough()}\n",
    "    | prompt\n",
    "    | llm\n",
    "    | StrOutputParser()\n",
    ")\n",
    "\n",
    "chain.invoke(\"What is IBM Think 2024?\")"
   ]
  },
  {
   "cell_type": "markdown",
   "metadata": {},
   "source": []
  }
 ],
 "metadata": {
  "kernelspec": {
   "display_name": "Python 3",
   "language": "python",
   "name": "python3"
  },
  "language_info": {
   "codemirror_mode": {
    "name": "ipython",
    "version": 3
   },
   "file_extension": ".py",
   "mimetype": "text/x-python",
   "name": "python",
   "nbconvert_exporter": "python",
   "pygments_lexer": "ipython3",
   "version": "3.10.13"
  }
 },
 "nbformat": 4,
 "nbformat_minor": 2
}
